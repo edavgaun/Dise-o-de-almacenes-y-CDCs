{
  "nbformat": 4,
  "nbformat_minor": 0,
  "metadata": {
    "colab": {
      "name": "EOQ.ipynb",
      "provenance": [],
      "collapsed_sections": []
    },
    "kernelspec": {
      "name": "python3",
      "display_name": "Python 3"
    }
  },
  "cells": [
    {
      "cell_type": "markdown",
      "metadata": {
        "id": "9wIyzFyhNCGP"
      },
      "source": [
        "# EOQ"
      ]
    },
    {
      "cell_type": "code",
      "metadata": {
        "id": "6D6klPMffLJW"
      },
      "source": [
        "import numpy as np\r\n",
        "import matplotlib.pyplot as plt\r\n",
        "import Pareto\r\n",
        "import pandas as pd\r\n",
        "import seaborn as sns"
      ],
      "execution_count": 120,
      "outputs": []
    },
    {
      "cell_type": "code",
      "metadata": {
        "id": "ePt_fpo2Nb8a"
      },
      "source": [
        "excel_file=pd.ExcelFile(\"EOQ.xlsx\")"
      ],
      "execution_count": 113,
      "outputs": []
    },
    {
      "cell_type": "code",
      "metadata": {
        "colab": {
          "base_uri": "https://localhost:8080/"
        },
        "id": "nSHhiMWUNj5-",
        "outputId": "8e12e2d2-8c24-4b48-c1a1-914a3357416c"
      },
      "source": [
        "excel_file.sheet_names"
      ],
      "execution_count": 114,
      "outputs": [
        {
          "output_type": "execute_result",
          "data": {
            "text/plain": [
              "['Instructions', 'Lead time info', 'Data']"
            ]
          },
          "metadata": {
            "tags": []
          },
          "execution_count": 114
        }
      ]
    },
    {
      "cell_type": "markdown",
      "metadata": {
        "id": "S2j04-ycRzpl"
      },
      "source": [
        "# Step 1"
      ]
    },
    {
      "cell_type": "code",
      "metadata": {
        "colab": {
          "base_uri": "https://localhost:8080/",
          "height": 35
        },
        "id": "h5p8bne4NmiG",
        "outputId": "1586d8db-4f2c-43b0-81af-76eba7fc1f78"
      },
      "source": [
        "excel_file.parse('Instructions').iloc[0,1]"
      ],
      "execution_count": 129,
      "outputs": [
        {
          "output_type": "execute_result",
          "data": {
            "application/vnd.google.colaboratory.intrinsic+json": {
              "type": "string"
            },
            "text/plain": [
              "'To identify the 20% of products that represent 80% of the stock costs'"
            ]
          },
          "metadata": {
            "tags": []
          },
          "execution_count": 129
        }
      ]
    },
    {
      "cell_type": "code",
      "metadata": {
        "colab": {
          "base_uri": "https://localhost:8080/",
          "height": 362
        },
        "id": "sqOWQt5sPDDr",
        "outputId": "2348da54-53a5-4219-b804-32d25be5a793"
      },
      "source": [
        "data=excel_file.parse('Data')\r\n",
        "data"
      ],
      "execution_count": 155,
      "outputs": [
        {
          "output_type": "execute_result",
          "data": {
            "text/html": [
              "<div>\n",
              "<style scoped>\n",
              "    .dataframe tbody tr th:only-of-type {\n",
              "        vertical-align: middle;\n",
              "    }\n",
              "\n",
              "    .dataframe tbody tr th {\n",
              "        vertical-align: top;\n",
              "    }\n",
              "\n",
              "    .dataframe thead th {\n",
              "        text-align: right;\n",
              "    }\n",
              "</style>\n",
              "<table border=\"1\" class=\"dataframe\">\n",
              "  <thead>\n",
              "    <tr style=\"text-align: right;\">\n",
              "      <th></th>\n",
              "      <th>Product</th>\n",
              "      <th>January</th>\n",
              "      <th>February</th>\n",
              "      <th>March</th>\n",
              "      <th>April</th>\n",
              "      <th>May</th>\n",
              "      <th>June</th>\n",
              "      <th>July</th>\n",
              "      <th>August</th>\n",
              "      <th>September</th>\n",
              "      <th>October</th>\n",
              "      <th>November</th>\n",
              "      <th>December</th>\n",
              "      <th>Quantity</th>\n",
              "      <th>Unit cost($)</th>\n",
              "      <th>Ordering cost</th>\n",
              "    </tr>\n",
              "  </thead>\n",
              "  <tbody>\n",
              "    <tr>\n",
              "      <th>0</th>\n",
              "      <td>Compresses</td>\n",
              "      <td>65</td>\n",
              "      <td>61</td>\n",
              "      <td>56</td>\n",
              "      <td>68</td>\n",
              "      <td>68</td>\n",
              "      <td>69</td>\n",
              "      <td>65</td>\n",
              "      <td>62</td>\n",
              "      <td>65</td>\n",
              "      <td>63</td>\n",
              "      <td>63</td>\n",
              "      <td>60</td>\n",
              "      <td>765</td>\n",
              "      <td>5.0</td>\n",
              "      <td>45</td>\n",
              "    </tr>\n",
              "    <tr>\n",
              "      <th>1</th>\n",
              "      <td>Syringes</td>\n",
              "      <td>23</td>\n",
              "      <td>21</td>\n",
              "      <td>21</td>\n",
              "      <td>21</td>\n",
              "      <td>20</td>\n",
              "      <td>23</td>\n",
              "      <td>21</td>\n",
              "      <td>24</td>\n",
              "      <td>22</td>\n",
              "      <td>22</td>\n",
              "      <td>21</td>\n",
              "      <td>21</td>\n",
              "      <td>260</td>\n",
              "      <td>13.5</td>\n",
              "      <td>125</td>\n",
              "    </tr>\n",
              "    <tr>\n",
              "      <th>2</th>\n",
              "      <td>Fro thermometers</td>\n",
              "      <td>7</td>\n",
              "      <td>10</td>\n",
              "      <td>7</td>\n",
              "      <td>8</td>\n",
              "      <td>8</td>\n",
              "      <td>9</td>\n",
              "      <td>9</td>\n",
              "      <td>8</td>\n",
              "      <td>8</td>\n",
              "      <td>8</td>\n",
              "      <td>8</td>\n",
              "      <td>10</td>\n",
              "      <td>100</td>\n",
              "      <td>27.2</td>\n",
              "      <td>150</td>\n",
              "    </tr>\n",
              "    <tr>\n",
              "      <th>3</th>\n",
              "      <td>Elec blood pressure monitors</td>\n",
              "      <td>27</td>\n",
              "      <td>27</td>\n",
              "      <td>25</td>\n",
              "      <td>25</td>\n",
              "      <td>28</td>\n",
              "      <td>25</td>\n",
              "      <td>23</td>\n",
              "      <td>28</td>\n",
              "      <td>22</td>\n",
              "      <td>24</td>\n",
              "      <td>24</td>\n",
              "      <td>22</td>\n",
              "      <td>300</td>\n",
              "      <td>179.0</td>\n",
              "      <td>1600</td>\n",
              "    </tr>\n",
              "    <tr>\n",
              "      <th>4</th>\n",
              "      <td>Stethoscopes</td>\n",
              "      <td>12</td>\n",
              "      <td>12</td>\n",
              "      <td>11</td>\n",
              "      <td>11</td>\n",
              "      <td>12</td>\n",
              "      <td>9</td>\n",
              "      <td>10</td>\n",
              "      <td>12</td>\n",
              "      <td>11</td>\n",
              "      <td>10</td>\n",
              "      <td>11</td>\n",
              "      <td>9</td>\n",
              "      <td>130</td>\n",
              "      <td>39.0</td>\n",
              "      <td>350</td>\n",
              "    </tr>\n",
              "    <tr>\n",
              "      <th>5</th>\n",
              "      <td>Vinyl gloves</td>\n",
              "      <td>33</td>\n",
              "      <td>28</td>\n",
              "      <td>35</td>\n",
              "      <td>38</td>\n",
              "      <td>35</td>\n",
              "      <td>33</td>\n",
              "      <td>28</td>\n",
              "      <td>33</td>\n",
              "      <td>30</td>\n",
              "      <td>33</td>\n",
              "      <td>33</td>\n",
              "      <td>31</td>\n",
              "      <td>390</td>\n",
              "      <td>5.2</td>\n",
              "      <td>50</td>\n",
              "    </tr>\n",
              "    <tr>\n",
              "      <th>6</th>\n",
              "      <td>Protetive masks</td>\n",
              "      <td>31</td>\n",
              "      <td>30</td>\n",
              "      <td>33</td>\n",
              "      <td>33</td>\n",
              "      <td>31</td>\n",
              "      <td>26</td>\n",
              "      <td>26</td>\n",
              "      <td>28</td>\n",
              "      <td>30</td>\n",
              "      <td>30</td>\n",
              "      <td>28</td>\n",
              "      <td>24</td>\n",
              "      <td>350</td>\n",
              "      <td>28.0</td>\n",
              "      <td>250</td>\n",
              "    </tr>\n",
              "    <tr>\n",
              "      <th>7</th>\n",
              "      <td>Infrared lights</td>\n",
              "      <td>22</td>\n",
              "      <td>21</td>\n",
              "      <td>22</td>\n",
              "      <td>20</td>\n",
              "      <td>21</td>\n",
              "      <td>21</td>\n",
              "      <td>17</td>\n",
              "      <td>15</td>\n",
              "      <td>18</td>\n",
              "      <td>23</td>\n",
              "      <td>21</td>\n",
              "      <td>19</td>\n",
              "      <td>240</td>\n",
              "      <td>312.0</td>\n",
              "      <td>2800</td>\n",
              "    </tr>\n",
              "    <tr>\n",
              "      <th>8</th>\n",
              "      <td>Weighing scales</td>\n",
              "      <td>11</td>\n",
              "      <td>9</td>\n",
              "      <td>11</td>\n",
              "      <td>7</td>\n",
              "      <td>9</td>\n",
              "      <td>8</td>\n",
              "      <td>11</td>\n",
              "      <td>7</td>\n",
              "      <td>8</td>\n",
              "      <td>10</td>\n",
              "      <td>7</td>\n",
              "      <td>7</td>\n",
              "      <td>105</td>\n",
              "      <td>59.0</td>\n",
              "      <td>530</td>\n",
              "    </tr>\n",
              "  </tbody>\n",
              "</table>\n",
              "</div>"
            ],
            "text/plain": [
              "                        Product  January  ...  Unit cost($)  Ordering cost\n",
              "0                    Compresses       65  ...           5.0             45\n",
              "1                      Syringes       23  ...          13.5            125\n",
              "2              Fro thermometers        7  ...          27.2            150\n",
              "3  Elec blood pressure monitors       27  ...         179.0           1600\n",
              "4                  Stethoscopes       12  ...          39.0            350\n",
              "5                  Vinyl gloves       33  ...           5.2             50\n",
              "6               Protetive masks       31  ...          28.0            250\n",
              "7               Infrared lights       22  ...         312.0           2800\n",
              "8               Weighing scales       11  ...          59.0            530\n",
              "\n",
              "[9 rows x 16 columns]"
            ]
          },
          "metadata": {
            "tags": []
          },
          "execution_count": 155
        }
      ]
    },
    {
      "cell_type": "code",
      "metadata": {
        "colab": {
          "base_uri": "https://localhost:8080/",
          "height": 364
        },
        "id": "Il1RW48ON_Dc",
        "outputId": "b20fc3fd-c966-47c9-c5ec-b50a1354ff68"
      },
      "source": [
        "fig, axs=plt.subplots(1,2, figsize=(15,5))\r\n",
        "heat_map_data=data.set_index(\"Product\").iloc[:,:12]\r\n",
        "sns.heatmap(heat_map_data, cmap=\"Reds\", ax=axs[0])\r\n",
        "sns.lineplot(data=heat_map_data.T, ax=axs[1])\r\n",
        "axs[1].set_xticklabels(heat_map_data.columns, rotation=45)\r\n",
        "plt.legend(bbox_to_anchor=(1.05, 1), loc=2, borderaxespad=0.)\r\n",
        "plt.show()"
      ],
      "execution_count": 156,
      "outputs": [
        {
          "output_type": "display_data",
          "data": {
            "image/png": "[encoded data removed]",
            "text/plain": [
              "<Figure size 1080x360 with 3 Axes>"
            ]
          },
          "metadata": {
            "tags": [],
            "needs_background": "light"
          }
        }
      ]
    },
    {
      "cell_type": "code",
      "metadata": {
        "colab": {
          "base_uri": "https://localhost:8080/",
          "height": 536
        },
        "id": "CBEco2CcRxYo",
        "outputId": "6405134c-753c-4e62-88ce-dabf04b54702"
      },
      "source": [
        "Pareto.pareto_plot(data, x=\"Product\", y=\"Quantity\")"
      ],
      "execution_count": 158,
      "outputs": [
        {
          "output_type": "stream",
          "text": [
            "\n",
            "Tabla Pareto\n",
            "\n",
            "                        Product  Quantity  ponderado  % acumulado\n",
            "0                    Compresses       765   0.289773          29%\n",
            "5                  Vinyl gloves       390   0.147727          44%\n",
            "6               Protetive masks       350   0.132576          57%\n",
            "3  Elec blood pressure monitors       300   0.113636          68%\n",
            "1                      Syringes       260   0.098485          78%\n",
            "7               Infrared lights       240   0.090909          87%\n",
            "4                  Stethoscopes       130   0.049242          92%\n",
            "8               Weighing scales       105   0.039773          96%\n",
            "2              Fro thermometers       100   0.037879         100%\n",
            "\n"
          ],
          "name": "stdout"
        },
        {
          "output_type": "display_data",
          "data": {
            "image/png": "[encoded data removed]",
            "text/plain": [
              "<Figure size 864x288 with 2 Axes>"
            ]
          },
          "metadata": {
            "tags": [],
            "needs_background": "light"
          }
        }
      ]
    },
    {
      "cell_type": "code",
      "metadata": {
        "colab": {
          "base_uri": "https://localhost:8080/",
          "height": 537
        },
        "id": "WADovzJeSx-v",
        "outputId": "91d17225-691f-48c7-b1f5-b74c6458c4b8"
      },
      "source": [
        "data[\"Stock cost\"]=data[\"Quantity\"]*data[\"Unit cost($)\"]\r\n",
        "Pareto.pareto_plot(data, x=\"Product\", y=\"Stock cost\")"
      ],
      "execution_count": 159,
      "outputs": [
        {
          "output_type": "stream",
          "text": [
            "\n",
            "Tabla Pareto\n",
            "\n",
            "                        Product  Stock cost  ponderado  % acumulado\n",
            "7               Infrared lights     74880.0   0.463000          46%\n",
            "3  Elec blood pressure monitors     53700.0   0.332039          80%\n",
            "6               Protetive masks      9800.0   0.060596          86%\n",
            "8               Weighing scales      6195.0   0.038305          89%\n",
            "4                  Stethoscopes      5070.0   0.031349          93%\n",
            "0                    Compresses      3825.0   0.023651          95%\n",
            "1                      Syringes      3510.0   0.021703          97%\n",
            "2              Fro thermometers      2720.0   0.016818          99%\n",
            "5                  Vinyl gloves      2028.0   0.012540         100%\n",
            "\n"
          ],
          "name": "stdout"
        },
        {
          "output_type": "display_data",
          "data": {
            "image/png": "[encoded data removed]",
            "text/plain": [
              "<Figure size 864x288 with 2 Axes>"
            ]
          },
          "metadata": {
            "tags": [],
            "needs_background": "light"
          }
        }
      ]
    },
    {
      "cell_type": "markdown",
      "metadata": {
        "id": "0P5_cFw7UKBR"
      },
      "source": [
        "# Step 2"
      ]
    },
    {
      "cell_type": "code",
      "metadata": {
        "colab": {
          "base_uri": "https://localhost:8080/",
          "height": 35
        },
        "id": "oUWaL1cSULfk",
        "outputId": "e0b0063a-2e51-49a4-cd1c-1fd6f6054010"
      },
      "source": [
        "excel_file.parse('Instructions').iloc[1,1]"
      ],
      "execution_count": 161,
      "outputs": [
        {
          "output_type": "execute_result",
          "data": {
            "application/vnd.google.colaboratory.intrinsic+json": {
              "type": "string"
            },
            "text/plain": [
              "'To calculate reorder point'"
            ]
          },
          "metadata": {
            "tags": []
          },
          "execution_count": 161
        }
      ]
    },
    {
      "cell_type": "code",
      "metadata": {
        "colab": {
          "base_uri": "https://localhost:8080/"
        },
        "id": "Z7I7Cqv3UQeF",
        "outputId": "6862a232-8fb0-4f93-e863-e464fcfe906f"
      },
      "source": [
        "excel_file.sheet_names"
      ],
      "execution_count": 163,
      "outputs": [
        {
          "output_type": "execute_result",
          "data": {
            "text/plain": [
              "['Instructions', 'Lead time info', 'Data']"
            ]
          },
          "metadata": {
            "tags": []
          },
          "execution_count": 163
        }
      ]
    },
    {
      "cell_type": "code",
      "metadata": {
        "colab": {
          "base_uri": "https://localhost:8080/",
          "height": 204
        },
        "id": "fScq0MA3UWED",
        "outputId": "ca760067-de23-42d0-ce8c-045b0651500d"
      },
      "source": [
        "excel_file.parse('Lead time info')"
      ],
      "execution_count": 165,
      "outputs": [
        {
          "output_type": "execute_result",
          "data": {
            "text/html": [
              "<div>\n",
              "<style scoped>\n",
              "    .dataframe tbody tr th:only-of-type {\n",
              "        vertical-align: middle;\n",
              "    }\n",
              "\n",
              "    .dataframe tbody tr th {\n",
              "        vertical-align: top;\n",
              "    }\n",
              "\n",
              "    .dataframe thead th {\n",
              "        text-align: right;\n",
              "    }\n",
              "</style>\n",
              "<table border=\"1\" class=\"dataframe\">\n",
              "  <thead>\n",
              "    <tr style=\"text-align: right;\">\n",
              "      <th></th>\n",
              "      <th>Time (days)</th>\n",
              "      <th>Activity</th>\n",
              "    </tr>\n",
              "  </thead>\n",
              "  <tbody>\n",
              "    <tr>\n",
              "      <th>0</th>\n",
              "      <td>1</td>\n",
              "      <td>Order placing</td>\n",
              "    </tr>\n",
              "    <tr>\n",
              "      <th>1</th>\n",
              "      <td>1</td>\n",
              "      <td>Receipt and acceptance of the order by the sup...</td>\n",
              "    </tr>\n",
              "    <tr>\n",
              "      <th>2</th>\n",
              "      <td>2</td>\n",
              "      <td>Processing of the order by the supplier</td>\n",
              "    </tr>\n",
              "    <tr>\n",
              "      <th>3</th>\n",
              "      <td>15</td>\n",
              "      <td>Disparch and transport</td>\n",
              "    </tr>\n",
              "    <tr>\n",
              "      <th>4</th>\n",
              "      <td>1</td>\n",
              "      <td>Receipt in the warehous</td>\n",
              "    </tr>\n",
              "  </tbody>\n",
              "</table>\n",
              "</div>"
            ],
            "text/plain": [
              "   Time (days)                                           Activity\n",
              "0            1                                      Order placing\n",
              "1            1  Receipt and acceptance of the order by the sup...\n",
              "2            2            Processing of the order by the supplier\n",
              "3           15                             Disparch and transport\n",
              "4            1                            Receipt in the warehous"
            ]
          },
          "metadata": {
            "tags": []
          },
          "execution_count": 165
        }
      ]
    },
    {
      "cell_type": "code",
      "metadata": {
        "colab": {
          "base_uri": "https://localhost:8080/"
        },
        "id": "I1X2HWJpUeJt",
        "outputId": "6747879c-7c2d-4931-cfdf-fd2763b74150"
      },
      "source": [
        "lead_time=excel_file.parse('Lead time info')[\"Time (days)\"].sum()\r\n",
        "lead_time"
      ],
      "execution_count": 167,
      "outputs": [
        {
          "output_type": "execute_result",
          "data": {
            "text/plain": [
              "20"
            ]
          },
          "metadata": {
            "tags": []
          },
          "execution_count": 167
        }
      ]
    },
    {
      "cell_type": "code",
      "metadata": {
        "id": "1uCk9A_wUkkA"
      },
      "source": [
        "data[\"Daily Average\"]=data[\"Quantity\"]/365"
      ],
      "execution_count": 168,
      "outputs": []
    },
    {
      "cell_type": "code",
      "metadata": {
        "colab": {
          "base_uri": "https://localhost:8080/",
          "height": 396
        },
        "id": "62tVu7AvWE8K",
        "outputId": "a2e05710-7d4f-4e07-aa02-33d8aa9a63ad"
      },
      "source": [
        "data"
      ],
      "execution_count": 170,
      "outputs": [
        {
          "output_type": "execute_result",
          "data": {
            "text/html": [
              "<div>\n",
              "<style scoped>\n",
              "    .dataframe tbody tr th:only-of-type {\n",
              "        vertical-align: middle;\n",
              "    }\n",
              "\n",
              "    .dataframe tbody tr th {\n",
              "        vertical-align: top;\n",
              "    }\n",
              "\n",
              "    .dataframe thead th {\n",
              "        text-align: right;\n",
              "    }\n",
              "</style>\n",
              "<table border=\"1\" class=\"dataframe\">\n",
              "  <thead>\n",
              "    <tr style=\"text-align: right;\">\n",
              "      <th></th>\n",
              "      <th>Product</th>\n",
              "      <th>January</th>\n",
              "      <th>February</th>\n",
              "      <th>March</th>\n",
              "      <th>April</th>\n",
              "      <th>May</th>\n",
              "      <th>June</th>\n",
              "      <th>July</th>\n",
              "      <th>August</th>\n",
              "      <th>September</th>\n",
              "      <th>October</th>\n",
              "      <th>November</th>\n",
              "      <th>December</th>\n",
              "      <th>Quantity</th>\n",
              "      <th>Unit cost($)</th>\n",
              "      <th>Ordering cost</th>\n",
              "      <th>Stock cost</th>\n",
              "      <th>Daily Average</th>\n",
              "    </tr>\n",
              "  </thead>\n",
              "  <tbody>\n",
              "    <tr>\n",
              "      <th>0</th>\n",
              "      <td>Compresses</td>\n",
              "      <td>65</td>\n",
              "      <td>61</td>\n",
              "      <td>56</td>\n",
              "      <td>68</td>\n",
              "      <td>68</td>\n",
              "      <td>69</td>\n",
              "      <td>65</td>\n",
              "      <td>62</td>\n",
              "      <td>65</td>\n",
              "      <td>63</td>\n",
              "      <td>63</td>\n",
              "      <td>60</td>\n",
              "      <td>765</td>\n",
              "      <td>5.0</td>\n",
              "      <td>45</td>\n",
              "      <td>3825.0</td>\n",
              "      <td>2.095890</td>\n",
              "    </tr>\n",
              "    <tr>\n",
              "      <th>1</th>\n",
              "      <td>Syringes</td>\n",
              "      <td>23</td>\n",
              "      <td>21</td>\n",
              "      <td>21</td>\n",
              "      <td>21</td>\n",
              "      <td>20</td>\n",
              "      <td>23</td>\n",
              "      <td>21</td>\n",
              "      <td>24</td>\n",
              "      <td>22</td>\n",
              "      <td>22</td>\n",
              "      <td>21</td>\n",
              "      <td>21</td>\n",
              "      <td>260</td>\n",
              "      <td>13.5</td>\n",
              "      <td>125</td>\n",
              "      <td>3510.0</td>\n",
              "      <td>0.712329</td>\n",
              "    </tr>\n",
              "    <tr>\n",
              "      <th>2</th>\n",
              "      <td>Fro thermometers</td>\n",
              "      <td>7</td>\n",
              "      <td>10</td>\n",
              "      <td>7</td>\n",
              "      <td>8</td>\n",
              "      <td>8</td>\n",
              "      <td>9</td>\n",
              "      <td>9</td>\n",
              "      <td>8</td>\n",
              "      <td>8</td>\n",
              "      <td>8</td>\n",
              "      <td>8</td>\n",
              "      <td>10</td>\n",
              "      <td>100</td>\n",
              "      <td>27.2</td>\n",
              "      <td>150</td>\n",
              "      <td>2720.0</td>\n",
              "      <td>0.273973</td>\n",
              "    </tr>\n",
              "    <tr>\n",
              "      <th>3</th>\n",
              "      <td>Elec blood pressure monitors</td>\n",
              "      <td>27</td>\n",
              "      <td>27</td>\n",
              "      <td>25</td>\n",
              "      <td>25</td>\n",
              "      <td>28</td>\n",
              "      <td>25</td>\n",
              "      <td>23</td>\n",
              "      <td>28</td>\n",
              "      <td>22</td>\n",
              "      <td>24</td>\n",
              "      <td>24</td>\n",
              "      <td>22</td>\n",
              "      <td>300</td>\n",
              "      <td>179.0</td>\n",
              "      <td>1600</td>\n",
              "      <td>53700.0</td>\n",
              "      <td>0.821918</td>\n",
              "    </tr>\n",
              "    <tr>\n",
              "      <th>4</th>\n",
              "      <td>Stethoscopes</td>\n",
              "      <td>12</td>\n",
              "      <td>12</td>\n",
              "      <td>11</td>\n",
              "      <td>11</td>\n",
              "      <td>12</td>\n",
              "      <td>9</td>\n",
              "      <td>10</td>\n",
              "      <td>12</td>\n",
              "      <td>11</td>\n",
              "      <td>10</td>\n",
              "      <td>11</td>\n",
              "      <td>9</td>\n",
              "      <td>130</td>\n",
              "      <td>39.0</td>\n",
              "      <td>350</td>\n",
              "      <td>5070.0</td>\n",
              "      <td>0.356164</td>\n",
              "    </tr>\n",
              "    <tr>\n",
              "      <th>5</th>\n",
              "      <td>Vinyl gloves</td>\n",
              "      <td>33</td>\n",
              "      <td>28</td>\n",
              "      <td>35</td>\n",
              "      <td>38</td>\n",
              "      <td>35</td>\n",
              "      <td>33</td>\n",
              "      <td>28</td>\n",
              "      <td>33</td>\n",
              "      <td>30</td>\n",
              "      <td>33</td>\n",
              "      <td>33</td>\n",
              "      <td>31</td>\n",
              "      <td>390</td>\n",
              "      <td>5.2</td>\n",
              "      <td>50</td>\n",
              "      <td>2028.0</td>\n",
              "      <td>1.068493</td>\n",
              "    </tr>\n",
              "    <tr>\n",
              "      <th>6</th>\n",
              "      <td>Protetive masks</td>\n",
              "      <td>31</td>\n",
              "      <td>30</td>\n",
              "      <td>33</td>\n",
              "      <td>33</td>\n",
              "      <td>31</td>\n",
              "      <td>26</td>\n",
              "      <td>26</td>\n",
              "      <td>28</td>\n",
              "      <td>30</td>\n",
              "      <td>30</td>\n",
              "      <td>28</td>\n",
              "      <td>24</td>\n",
              "      <td>350</td>\n",
              "      <td>28.0</td>\n",
              "      <td>250</td>\n",
              "      <td>9800.0</td>\n",
              "      <td>0.958904</td>\n",
              "    </tr>\n",
              "    <tr>\n",
              "      <th>7</th>\n",
              "      <td>Infrared lights</td>\n",
              "      <td>22</td>\n",
              "      <td>21</td>\n",
              "      <td>22</td>\n",
              "      <td>20</td>\n",
              "      <td>21</td>\n",
              "      <td>21</td>\n",
              "      <td>17</td>\n",
              "      <td>15</td>\n",
              "      <td>18</td>\n",
              "      <td>23</td>\n",
              "      <td>21</td>\n",
              "      <td>19</td>\n",
              "      <td>240</td>\n",
              "      <td>312.0</td>\n",
              "      <td>2800</td>\n",
              "      <td>74880.0</td>\n",
              "      <td>0.657534</td>\n",
              "    </tr>\n",
              "    <tr>\n",
              "      <th>8</th>\n",
              "      <td>Weighing scales</td>\n",
              "      <td>11</td>\n",
              "      <td>9</td>\n",
              "      <td>11</td>\n",
              "      <td>7</td>\n",
              "      <td>9</td>\n",
              "      <td>8</td>\n",
              "      <td>11</td>\n",
              "      <td>7</td>\n",
              "      <td>8</td>\n",
              "      <td>10</td>\n",
              "      <td>7</td>\n",
              "      <td>7</td>\n",
              "      <td>105</td>\n",
              "      <td>59.0</td>\n",
              "      <td>530</td>\n",
              "      <td>6195.0</td>\n",
              "      <td>0.287671</td>\n",
              "    </tr>\n",
              "  </tbody>\n",
              "</table>\n",
              "</div>"
            ],
            "text/plain": [
              "                        Product  January  ...  Stock cost  Daily Average\n",
              "0                    Compresses       65  ...      3825.0       2.095890\n",
              "1                      Syringes       23  ...      3510.0       0.712329\n",
              "2              Fro thermometers        7  ...      2720.0       0.273973\n",
              "3  Elec blood pressure monitors       27  ...     53700.0       0.821918\n",
              "4                  Stethoscopes       12  ...      5070.0       0.356164\n",
              "5                  Vinyl gloves       33  ...      2028.0       1.068493\n",
              "6               Protetive masks       31  ...      9800.0       0.958904\n",
              "7               Infrared lights       22  ...     74880.0       0.657534\n",
              "8               Weighing scales       11  ...      6195.0       0.287671\n",
              "\n",
              "[9 rows x 18 columns]"
            ]
          },
          "metadata": {
            "tags": []
          },
          "execution_count": 170
        }
      ]
    },
    {
      "cell_type": "code",
      "metadata": {
        "id": "lANQXlJPWVBx"
      },
      "source": [
        "data[\"Max\"]=data.iloc[:,1:13].max(axis=1)\r\n",
        "data[\"Daily average Max\"]=data[\"Max\"]/30"
      ],
      "execution_count": 176,
      "outputs": []
    },
    {
      "cell_type": "code",
      "metadata": {
        "colab": {
          "base_uri": "https://localhost:8080/",
          "height": 467
        },
        "id": "CKYP3NhBW1Sf",
        "outputId": "379f1ffb-2b20-4c02-fabd-d55492a16ed8"
      },
      "source": [
        "data[\"Safety stock\"]=(data[\"Daily average Max\"]-data[\"Daily Average\"])*lead_time\r\n",
        "data[\"Safety stock\"]=data[\"Safety stock\"].apply(lambda x:np.ceil(x))\r\n",
        "data"
      ],
      "execution_count": 181,
      "outputs": [
        {
          "output_type": "execute_result",
          "data": {
            "text/html": [
              "<div>\n",
              "<style scoped>\n",
              "    .dataframe tbody tr th:only-of-type {\n",
              "        vertical-align: middle;\n",
              "    }\n",
              "\n",
              "    .dataframe tbody tr th {\n",
              "        vertical-align: top;\n",
              "    }\n",
              "\n",
              "    .dataframe thead th {\n",
              "        text-align: right;\n",
              "    }\n",
              "</style>\n",
              "<table border=\"1\" class=\"dataframe\">\n",
              "  <thead>\n",
              "    <tr style=\"text-align: right;\">\n",
              "      <th></th>\n",
              "      <th>Product</th>\n",
              "      <th>January</th>\n",
              "      <th>February</th>\n",
              "      <th>March</th>\n",
              "      <th>April</th>\n",
              "      <th>May</th>\n",
              "      <th>June</th>\n",
              "      <th>July</th>\n",
              "      <th>August</th>\n",
              "      <th>September</th>\n",
              "      <th>October</th>\n",
              "      <th>November</th>\n",
              "      <th>December</th>\n",
              "      <th>Quantity</th>\n",
              "      <th>Unit cost($)</th>\n",
              "      <th>Ordering cost</th>\n",
              "      <th>Stock cost</th>\n",
              "      <th>Daily Average</th>\n",
              "      <th>Max</th>\n",
              "      <th>Daily average Max</th>\n",
              "      <th>Safety stock</th>\n",
              "    </tr>\n",
              "  </thead>\n",
              "  <tbody>\n",
              "    <tr>\n",
              "      <th>0</th>\n",
              "      <td>Compresses</td>\n",
              "      <td>65</td>\n",
              "      <td>61</td>\n",
              "      <td>56</td>\n",
              "      <td>68</td>\n",
              "      <td>68</td>\n",
              "      <td>69</td>\n",
              "      <td>65</td>\n",
              "      <td>62</td>\n",
              "      <td>65</td>\n",
              "      <td>63</td>\n",
              "      <td>63</td>\n",
              "      <td>60</td>\n",
              "      <td>765</td>\n",
              "      <td>5.0</td>\n",
              "      <td>45</td>\n",
              "      <td>3825.0</td>\n",
              "      <td>2.095890</td>\n",
              "      <td>69</td>\n",
              "      <td>2.300000</td>\n",
              "      <td>5.0</td>\n",
              "    </tr>\n",
              "    <tr>\n",
              "      <th>1</th>\n",
              "      <td>Syringes</td>\n",
              "      <td>23</td>\n",
              "      <td>21</td>\n",
              "      <td>21</td>\n",
              "      <td>21</td>\n",
              "      <td>20</td>\n",
              "      <td>23</td>\n",
              "      <td>21</td>\n",
              "      <td>24</td>\n",
              "      <td>22</td>\n",
              "      <td>22</td>\n",
              "      <td>21</td>\n",
              "      <td>21</td>\n",
              "      <td>260</td>\n",
              "      <td>13.5</td>\n",
              "      <td>125</td>\n",
              "      <td>3510.0</td>\n",
              "      <td>0.712329</td>\n",
              "      <td>24</td>\n",
              "      <td>0.800000</td>\n",
              "      <td>2.0</td>\n",
              "    </tr>\n",
              "    <tr>\n",
              "      <th>2</th>\n",
              "      <td>Fro thermometers</td>\n",
              "      <td>7</td>\n",
              "      <td>10</td>\n",
              "      <td>7</td>\n",
              "      <td>8</td>\n",
              "      <td>8</td>\n",
              "      <td>9</td>\n",
              "      <td>9</td>\n",
              "      <td>8</td>\n",
              "      <td>8</td>\n",
              "      <td>8</td>\n",
              "      <td>8</td>\n",
              "      <td>10</td>\n",
              "      <td>100</td>\n",
              "      <td>27.2</td>\n",
              "      <td>150</td>\n",
              "      <td>2720.0</td>\n",
              "      <td>0.273973</td>\n",
              "      <td>10</td>\n",
              "      <td>0.333333</td>\n",
              "      <td>2.0</td>\n",
              "    </tr>\n",
              "    <tr>\n",
              "      <th>3</th>\n",
              "      <td>Elec blood pressure monitors</td>\n",
              "      <td>27</td>\n",
              "      <td>27</td>\n",
              "      <td>25</td>\n",
              "      <td>25</td>\n",
              "      <td>28</td>\n",
              "      <td>25</td>\n",
              "      <td>23</td>\n",
              "      <td>28</td>\n",
              "      <td>22</td>\n",
              "      <td>24</td>\n",
              "      <td>24</td>\n",
              "      <td>22</td>\n",
              "      <td>300</td>\n",
              "      <td>179.0</td>\n",
              "      <td>1600</td>\n",
              "      <td>53700.0</td>\n",
              "      <td>0.821918</td>\n",
              "      <td>28</td>\n",
              "      <td>0.933333</td>\n",
              "      <td>3.0</td>\n",
              "    </tr>\n",
              "    <tr>\n",
              "      <th>4</th>\n",
              "      <td>Stethoscopes</td>\n",
              "      <td>12</td>\n",
              "      <td>12</td>\n",
              "      <td>11</td>\n",
              "      <td>11</td>\n",
              "      <td>12</td>\n",
              "      <td>9</td>\n",
              "      <td>10</td>\n",
              "      <td>12</td>\n",
              "      <td>11</td>\n",
              "      <td>10</td>\n",
              "      <td>11</td>\n",
              "      <td>9</td>\n",
              "      <td>130</td>\n",
              "      <td>39.0</td>\n",
              "      <td>350</td>\n",
              "      <td>5070.0</td>\n",
              "      <td>0.356164</td>\n",
              "      <td>12</td>\n",
              "      <td>0.400000</td>\n",
              "      <td>1.0</td>\n",
              "    </tr>\n",
              "    <tr>\n",
              "      <th>5</th>\n",
              "      <td>Vinyl gloves</td>\n",
              "      <td>33</td>\n",
              "      <td>28</td>\n",
              "      <td>35</td>\n",
              "      <td>38</td>\n",
              "      <td>35</td>\n",
              "      <td>33</td>\n",
              "      <td>28</td>\n",
              "      <td>33</td>\n",
              "      <td>30</td>\n",
              "      <td>33</td>\n",
              "      <td>33</td>\n",
              "      <td>31</td>\n",
              "      <td>390</td>\n",
              "      <td>5.2</td>\n",
              "      <td>50</td>\n",
              "      <td>2028.0</td>\n",
              "      <td>1.068493</td>\n",
              "      <td>38</td>\n",
              "      <td>1.266667</td>\n",
              "      <td>4.0</td>\n",
              "    </tr>\n",
              "    <tr>\n",
              "      <th>6</th>\n",
              "      <td>Protetive masks</td>\n",
              "      <td>31</td>\n",
              "      <td>30</td>\n",
              "      <td>33</td>\n",
              "      <td>33</td>\n",
              "      <td>31</td>\n",
              "      <td>26</td>\n",
              "      <td>26</td>\n",
              "      <td>28</td>\n",
              "      <td>30</td>\n",
              "      <td>30</td>\n",
              "      <td>28</td>\n",
              "      <td>24</td>\n",
              "      <td>350</td>\n",
              "      <td>28.0</td>\n",
              "      <td>250</td>\n",
              "      <td>9800.0</td>\n",
              "      <td>0.958904</td>\n",
              "      <td>33</td>\n",
              "      <td>1.100000</td>\n",
              "      <td>3.0</td>\n",
              "    </tr>\n",
              "    <tr>\n",
              "      <th>7</th>\n",
              "      <td>Infrared lights</td>\n",
              "      <td>22</td>\n",
              "      <td>21</td>\n",
              "      <td>22</td>\n",
              "      <td>20</td>\n",
              "      <td>21</td>\n",
              "      <td>21</td>\n",
              "      <td>17</td>\n",
              "      <td>15</td>\n",
              "      <td>18</td>\n",
              "      <td>23</td>\n",
              "      <td>21</td>\n",
              "      <td>19</td>\n",
              "      <td>240</td>\n",
              "      <td>312.0</td>\n",
              "      <td>2800</td>\n",
              "      <td>74880.0</td>\n",
              "      <td>0.657534</td>\n",
              "      <td>23</td>\n",
              "      <td>0.766667</td>\n",
              "      <td>3.0</td>\n",
              "    </tr>\n",
              "    <tr>\n",
              "      <th>8</th>\n",
              "      <td>Weighing scales</td>\n",
              "      <td>11</td>\n",
              "      <td>9</td>\n",
              "      <td>11</td>\n",
              "      <td>7</td>\n",
              "      <td>9</td>\n",
              "      <td>8</td>\n",
              "      <td>11</td>\n",
              "      <td>7</td>\n",
              "      <td>8</td>\n",
              "      <td>10</td>\n",
              "      <td>7</td>\n",
              "      <td>7</td>\n",
              "      <td>105</td>\n",
              "      <td>59.0</td>\n",
              "      <td>530</td>\n",
              "      <td>6195.0</td>\n",
              "      <td>0.287671</td>\n",
              "      <td>11</td>\n",
              "      <td>0.366667</td>\n",
              "      <td>2.0</td>\n",
              "    </tr>\n",
              "  </tbody>\n",
              "</table>\n",
              "</div>"
            ],
            "text/plain": [
              "                        Product  January  ...  Daily average Max  Safety stock\n",
              "0                    Compresses       65  ...           2.300000           5.0\n",
              "1                      Syringes       23  ...           0.800000           2.0\n",
              "2              Fro thermometers        7  ...           0.333333           2.0\n",
              "3  Elec blood pressure monitors       27  ...           0.933333           3.0\n",
              "4                  Stethoscopes       12  ...           0.400000           1.0\n",
              "5                  Vinyl gloves       33  ...           1.266667           4.0\n",
              "6               Protetive masks       31  ...           1.100000           3.0\n",
              "7               Infrared lights       22  ...           0.766667           3.0\n",
              "8               Weighing scales       11  ...           0.366667           2.0\n",
              "\n",
              "[9 rows x 21 columns]"
            ]
          },
          "metadata": {
            "tags": []
          },
          "execution_count": 181
        }
      ]
    },
    {
      "cell_type": "code",
      "metadata": {
        "id": "VgOAuqa1YLmB"
      },
      "source": [
        "data[\"Reorder Point\"]=lead_time*data[\"Daily Average\"]+data[\"Safety stock\"]"
      ],
      "execution_count": 182,
      "outputs": []
    },
    {
      "cell_type": "markdown",
      "metadata": {
        "id": "eI1rCCQCYiha"
      },
      "source": [
        "# Step 3"
      ]
    },
    {
      "cell_type": "code",
      "metadata": {
        "colab": {
          "base_uri": "https://localhost:8080/",
          "height": 35
        },
        "id": "x7rtjuLJYlBt",
        "outputId": "ce2c8787-619f-42ba-d471-f54f57a2f40f"
      },
      "source": [
        "excel_file.parse('Instructions').iloc[2,1]"
      ],
      "execution_count": 186,
      "outputs": [
        {
          "output_type": "execute_result",
          "data": {
            "application/vnd.google.colaboratory.intrinsic+json": {
              "type": "string"
            },
            "text/plain": [
              "'To calculate the EOQ considere an inventory value of $160,000 with total costs of $35,000 '"
            ]
          },
          "metadata": {
            "tags": []
          },
          "execution_count": 186
        }
      ]
    },
    {
      "cell_type": "code",
      "metadata": {
        "colab": {
          "base_uri": "https://localhost:8080/"
        },
        "id": "qOSOtffoY1Gn",
        "outputId": "1aa42b76-c2c9-4ef3-cce9-041b474308c2"
      },
      "source": [
        "data.iloc[3,13:]"
      ],
      "execution_count": 188,
      "outputs": [
        {
          "output_type": "execute_result",
          "data": {
            "text/plain": [
              "Quantity                  300\n",
              "Unit cost($)              179\n",
              "Ordering cost            1600\n",
              "Stock cost              53700\n",
              "Daily Average        0.821918\n",
              "Max                        28\n",
              "Daily average Max    0.933333\n",
              "Safety stock                3\n",
              "Reorder Point         19.4384\n",
              "Name: 3, dtype: object"
            ]
          },
          "metadata": {
            "tags": []
          },
          "execution_count": 188
        }
      ]
    },
    {
      "cell_type": "code",
      "metadata": {
        "colab": {
          "base_uri": "https://localhost:8080/"
        },
        "id": "nxED6HzxfA-B",
        "outputId": "df8d9a8b-858e-4c59-ad1a-fafecea8f1ea"
      },
      "source": [
        "# Define EOQ function\r\n",
        "def EOQ(S, D, H, table=True):\r\n",
        "    \"\"\"\r\n",
        "    Economic Order Quantity\r\n",
        "    \r\n",
        "    Arguments:\r\n",
        "    S: (float) Cost of placing an order\r\n",
        "    D: (int) annual quantity demanded\r\n",
        "    H: (float) holding cost per unit\r\n",
        "    \"\"\"\r\n",
        "    # Validate that all function arguments are non-negative\r\n",
        "    if(S>0 and D>0 and H>0):\r\n",
        "        return (np.sqrt((2*S*D)/H))\r\n",
        "        \r\n",
        "    else: \r\n",
        "        print(\"-\"*40)   \r\n",
        "        print(\"Error. All function arguments must be non-negative.\")\r\n",
        "        print(\"-\"*40)\r\n",
        "# Run example    \r\n",
        "EOQ(1600,300,35/160*179)"
      ],
      "execution_count": 189,
      "outputs": [
        {
          "output_type": "execute_result",
          "data": {
            "text/plain": [
              "156.5795606675239"
            ]
          },
          "metadata": {
            "tags": []
          },
          "execution_count": 189
        }
      ]
    },
    {
      "cell_type": "code",
      "metadata": {
        "colab": {
          "base_uri": "https://localhost:8080/"
        },
        "id": "EOl4oKMh5hVd",
        "outputId": "b8d3e5cd-ed9c-4771-dd69-4fb49ab86245"
      },
      "source": [
        "# Define AHC function\r\n",
        "def AHC(Q,H):\r\n",
        "    import numpy as np\r\n",
        "    \"\"\"\r\n",
        "    Annual holding cost\r\n",
        "    \r\n",
        "    Arguments:\r\n",
        "    Q: (int) number of values in array\r\n",
        "    H: (float) holding cost per unit\r\n",
        "\r\n",
        "    Returns:\r\n",
        "    Array of AHC values for EOQ plot\r\n",
        "    \"\"\"\r\n",
        "    # Validate that all function arguments are non-negative\r\n",
        "    if(Q>0 and H>0):\r\n",
        "\r\n",
        "        Q = np.arange(1,Q)\r\n",
        "        return Q*H/2\r\n",
        "    else: \r\n",
        "        print(\"-\"*40)   \r\n",
        "        print(\"Error. All function arguments must be non-negative.\")\r\n",
        "        print(\"-\"*40)\r\n",
        "# Run example    \r\n",
        "AHC(150,35/160*179)"
      ],
      "execution_count": 192,
      "outputs": [
        {
          "output_type": "execute_result",
          "data": {
            "text/plain": [
              "array([  19.578125,   39.15625 ,   58.734375,   78.3125  ,   97.890625,\n",
              "        117.46875 ,  137.046875,  156.625   ,  176.203125,  195.78125 ,\n",
              "        215.359375,  234.9375  ,  254.515625,  274.09375 ,  293.671875,\n",
              "        313.25    ,  332.828125,  352.40625 ,  371.984375,  391.5625  ,\n",
              "        411.140625,  430.71875 ,  450.296875,  469.875   ,  489.453125,\n",
              "        509.03125 ,  528.609375,  548.1875  ,  567.765625,  587.34375 ,\n",
              "        606.921875,  626.5     ,  646.078125,  665.65625 ,  685.234375,\n",
              "        704.8125  ,  724.390625,  743.96875 ,  763.546875,  783.125   ,\n",
              "        802.703125,  822.28125 ,  841.859375,  861.4375  ,  881.015625,\n",
              "        900.59375 ,  920.171875,  939.75    ,  959.328125,  978.90625 ,\n",
              "        998.484375, 1018.0625  , 1037.640625, 1057.21875 , 1076.796875,\n",
              "       1096.375   , 1115.953125, 1135.53125 , 1155.109375, 1174.6875  ,\n",
              "       1194.265625, 1213.84375 , 1233.421875, 1253.      , 1272.578125,\n",
              "       1292.15625 , 1311.734375, 1331.3125  , 1350.890625, 1370.46875 ,\n",
              "       1390.046875, 1409.625   , 1429.203125, 1448.78125 , 1468.359375,\n",
              "       1487.9375  , 1507.515625, 1527.09375 , 1546.671875, 1566.25    ,\n",
              "       1585.828125, 1605.40625 , 1624.984375, 1644.5625  , 1664.140625,\n",
              "       1683.71875 , 1703.296875, 1722.875   , 1742.453125, 1762.03125 ,\n",
              "       1781.609375, 1801.1875  , 1820.765625, 1840.34375 , 1859.921875,\n",
              "       1879.5     , 1899.078125, 1918.65625 , 1938.234375, 1957.8125  ,\n",
              "       1977.390625, 1996.96875 , 2016.546875, 2036.125   , 2055.703125,\n",
              "       2075.28125 , 2094.859375, 2114.4375  , 2134.015625, 2153.59375 ,\n",
              "       2173.171875, 2192.75    , 2212.328125, 2231.90625 , 2251.484375,\n",
              "       2271.0625  , 2290.640625, 2310.21875 , 2329.796875, 2349.375   ,\n",
              "       2368.953125, 2388.53125 , 2408.109375, 2427.6875  , 2447.265625,\n",
              "       2466.84375 , 2486.421875, 2506.      , 2525.578125, 2545.15625 ,\n",
              "       2564.734375, 2584.3125  , 2603.890625, 2623.46875 , 2643.046875,\n",
              "       2662.625   , 2682.203125, 2701.78125 , 2721.359375, 2740.9375  ,\n",
              "       2760.515625, 2780.09375 , 2799.671875, 2819.25    , 2838.828125,\n",
              "       2858.40625 , 2877.984375, 2897.5625  , 2917.140625])"
            ]
          },
          "metadata": {
            "tags": []
          },
          "execution_count": 192
        }
      ]
    },
    {
      "cell_type": "code",
      "metadata": {
        "colab": {
          "base_uri": "https://localhost:8080/"
        },
        "id": "wwxcHnAG7IyB",
        "outputId": "9cc0fb7a-0653-49d5-cab6-81440e934ee5"
      },
      "source": [
        "# Define AOC function\r\n",
        "def AOC(D, S, Q):\r\n",
        "    import numpy as np\r\n",
        "    \"\"\"\r\n",
        "    Annual holding cost\r\n",
        "    \r\n",
        "    Arguments:\r\n",
        "    D: (int) Annual demand\r\n",
        "    S: (float) Cost of placing an order\r\n",
        "    Q: (int) Number of values in array\r\n",
        "\r\n",
        "    Returns:\r\n",
        "    Array of AOC values for EOQ plot\r\n",
        "    \"\"\"\r\n",
        "    # Validate that all function arguments are non-negative\r\n",
        "    if(D>0 and S>0 and Q>0):\r\n",
        "\r\n",
        "        Q = np.arange(1,Q)\r\n",
        "        return D*S/Q\r\n",
        "    else: \r\n",
        "        print(\"-\"*40)   \r\n",
        "        print(\"Error. All function arguments must be non-negative.\")\r\n",
        "        print(\"-\"*40)\r\n",
        "# Run example    \r\n",
        "AOC(300, 1600, 100)"
      ],
      "execution_count": 66,
      "outputs": [
        {
          "output_type": "execute_result",
          "data": {
            "text/plain": [
              "array([34425.        , 17212.5       , 11475.        ,  8606.25      ,\n",
              "        6885.        ,  5737.5       ,  4917.85714286,  4303.125     ,\n",
              "        3825.        ,  3442.5       ,  3129.54545455,  2868.75      ,\n",
              "        2648.07692308,  2458.92857143,  2295.        ,  2151.5625    ,\n",
              "        2025.        ,  1912.5       ,  1811.84210526,  1721.25      ,\n",
              "        1639.28571429,  1564.77272727,  1496.73913043,  1434.375     ,\n",
              "        1377.        ,  1324.03846154,  1275.        ,  1229.46428571,\n",
              "        1187.06896552,  1147.5       ,  1110.48387097,  1075.78125   ,\n",
              "        1043.18181818,  1012.5       ,   983.57142857,   956.25      ,\n",
              "         930.40540541,   905.92105263,   882.69230769,   860.625     ,\n",
              "         839.63414634,   819.64285714,   800.58139535,   782.38636364,\n",
              "         765.        ,   748.36956522,   732.44680851,   717.1875    ,\n",
              "         702.55102041,   688.5       ,   675.        ,   662.01923077,\n",
              "         649.52830189,   637.5       ,   625.90909091,   614.73214286,\n",
              "         603.94736842,   593.53448276,   583.47457627,   573.75      ,\n",
              "         564.3442623 ,   555.24193548,   546.42857143,   537.890625  ,\n",
              "         529.61538462,   521.59090909,   513.80597015,   506.25      ,\n",
              "         498.91304348,   491.78571429,   484.85915493,   478.125     ,\n",
              "         471.57534247,   465.2027027 ,   459.        ,   452.96052632,\n",
              "         447.07792208,   441.34615385,   435.75949367,   430.3125    ,\n",
              "         425.        ,   419.81707317,   414.75903614,   409.82142857,\n",
              "         405.        ,   400.29069767,   395.68965517,   391.19318182,\n",
              "         386.79775281,   382.5       ,   378.2967033 ,   374.18478261,\n",
              "         370.16129032,   366.22340426,   362.36842105,   358.59375   ,\n",
              "         354.89690722,   351.2755102 ,   347.72727273])"
            ]
          },
          "metadata": {
            "tags": []
          },
          "execution_count": 66
        }
      ]
    },
    {
      "cell_type": "code",
      "metadata": {
        "colab": {
          "base_uri": "https://localhost:8080/"
        },
        "id": "CCVV1W0U7xbr",
        "outputId": "3209ed15-5fa4-44f1-9d56-93e80efcf26c"
      },
      "source": [
        "# Define AOC function\r\n",
        "def ATC(D, S, Q, H):\r\n",
        "    import numpy as np\r\n",
        "    \"\"\"\r\n",
        "    Annual total costs\r\n",
        "    \r\n",
        "    Arguments:\r\n",
        "    D: (int) Annual demand\r\n",
        "    S: (float) Cost of placing an order\r\n",
        "    Q: (int) Number of values in array\r\n",
        "    H: (float) holding cost per unit\r\n",
        "\r\n",
        "    Returns:\r\n",
        "    Array of AOC values for EOQ plot\r\n",
        "    \"\"\"\r\n",
        "    # Validate that all function arguments are non-negative\r\n",
        "    if(D>0 and S>0 and Q>0 and H>0):\r\n",
        "        \r\n",
        "        return AOC(D, S, Q) + AHC(Q, H)\r\n",
        "    else: \r\n",
        "        print(\"-\"*40)   \r\n",
        "        print(\"Error. All function arguments must be non-negative.\")\r\n",
        "        print(\"-\"*40)\r\n",
        "# Run example    \r\n",
        "ATC(300, 1600, 150, 35/160*179)"
      ],
      "execution_count": 193,
      "outputs": [
        {
          "output_type": "execute_result",
          "data": {
            "text/plain": [
              "array([480019.578125  , 240039.15625   , 160058.734375  , 120078.3125    ,\n",
              "        96097.890625  ,  80117.46875   ,  68708.47544643,  60156.625     ,\n",
              "        53509.53645833,  48195.78125   ,  43851.72301136,  40234.9375    ,\n",
              "        37177.59254808,  34559.80803571,  32293.671875  ,  30313.25      ,\n",
              "        28568.12224265,  27019.07291667,  25635.14226974,  24391.5625    ,\n",
              "        23268.28348214,  22248.90056818,  21319.86209239,  20469.875     ,\n",
              "        19689.453125  ,  18970.56971154,  18306.38715278,  17691.04464286,\n",
              "        17119.48976293,  16587.34375   ,  16090.79284274,  15626.5       ,\n",
              "        15191.53267045,  14783.30330882,  14399.52008929,  14038.14583333,\n",
              "        13697.36359797,  13375.54769737,  13071.23918269,  12783.125     ,\n",
              "        12510.02019817,  12250.85267857,  12004.65007267,  11770.52840909,\n",
              "        11547.68229167,  11335.3763587 ,  11132.93783245,  10939.75      ,\n",
              "        10755.24649235,  10578.90625   ,  10410.24908088,  10248.83173077,\n",
              "        10094.24439858,   9946.10763889,   9804.06960227,   9667.80357143,\n",
              "         9537.00575658,   9411.39331897,   9290.70259534,   9174.6875    ,\n",
              "         9063.11808402,   8955.77923387,   8852.46949405,   8753.        ,\n",
              "         8657.19350962,   8564.88352273,   8475.91347948,   8390.13602941,\n",
              "         8307.41236413,   8227.61160714,   8150.61025528,   8076.29166667,\n",
              "         8004.54559075,   7935.26773649,   7868.359375  ,   7803.72697368,\n",
              "         7741.28185877,   7680.93990385,   7622.62124209,   7566.25      ,\n",
              "         7511.75405093,   7459.06478659,   7408.11690512,   7358.84821429,\n",
              "         7311.19944853,   7265.11409884,   7220.53825431,   7177.42045455,\n",
              "         7135.71155197,   7095.36458333,   7056.33464973,   7018.57880435,\n",
              "         6982.05594758,   6946.72672872,   6912.55345395,   6879.5       ,\n",
              "         6847.53173325,   6816.61543367,   6786.71922348,   6757.8125    ,\n",
              "         6729.86587252,   6702.85110294,   6676.74104976,   6651.50961538,\n",
              "         6627.13169643,   6603.58313679,   6580.84068341,   6558.88194444,\n",
              "         6537.68534977,   6517.23011364,   6497.49619932,   6478.46428571,\n",
              "         6460.11573562,   6442.43256579,   6425.39741848,   6408.99353448,\n",
              "         6393.20472756,   6378.01536017,   6363.41032038,   6349.375     ,\n",
              "         6335.89527376,   6322.95747951,   6310.54839939,   6298.65524194,\n",
              "         6287.265625  ,   6276.36755952,   6265.94943406,   6256.        ,\n",
              "         6246.50835756,   6237.46394231,   6228.8565124 ,   6220.67613636,\n",
              "         6212.91318139,   6205.55830224,   6198.60243056,   6192.03676471,\n",
              "         6185.85276004,   6180.04211957,   6174.59678507,   6169.50892857,\n",
              "         6164.77094415,   6160.37544014,   6156.31523164,   6152.58333333,\n",
              "         6149.17295259,   6146.07748288,   6143.29049745,   6140.80574324,\n",
              "         6138.61713507])"
            ]
          },
          "metadata": {
            "tags": []
          },
          "execution_count": 193
        }
      ]
    },
    {
      "cell_type": "markdown",
      "metadata": {
        "id": "0t36-AKUa10L"
      },
      "source": [
        "# Step 4"
      ]
    },
    {
      "cell_type": "code",
      "metadata": {
        "colab": {
          "base_uri": "https://localhost:8080/",
          "height": 35
        },
        "id": "by6sEuC6no_k",
        "outputId": "6f88d9ae-5a41-431a-cf4e-1024db197123"
      },
      "source": [
        "excel_file.sheet_names\r\n",
        "excel_file.parse(\"Instructions\").iloc[3,1]"
      ],
      "execution_count": 200,
      "outputs": [
        {
          "output_type": "execute_result",
          "data": {
            "application/vnd.google.colaboratory.intrinsic+json": {
              "type": "string"
            },
            "text/plain": [
              "'Plot the model'"
            ]
          },
          "metadata": {
            "tags": []
          },
          "execution_count": 200
        }
      ]
    },
    {
      "cell_type": "code",
      "metadata": {
        "colab": {
          "base_uri": "https://localhost:8080/",
          "height": 517
        },
        "id": "zGfR1vc4hZo3",
        "outputId": "0f2aee5a-977d-4b70-8cc7-6cbd9963088a"
      },
      "source": [
        "from plotly.subplots import make_subplots\r\n",
        "import plotly.graph_objects as go\r\n",
        "\r\n",
        "D=300\r\n",
        "Q=D\r\n",
        "S=1600\r\n",
        "H=35/160*179\r\n",
        "\r\n",
        "q=np.arange(1,Q)\r\n",
        "y_holding=AHC(Q,H)\r\n",
        "y_ordering=AOC(D, S, Q)\r\n",
        "y_total=ATC(D, S, Q, H)\r\n",
        "\r\n",
        "y=[y_total, y_ordering, y_holding]\r\n",
        "names=['Total costs', 'Ordering costs', 'Holding costs']\r\n",
        "\r\n",
        "fig = go.Figure()\r\n",
        "\r\n",
        "for i in range(3):\r\n",
        "  fig.add_trace(go.Scatter(x=q, y=y[i],\r\n",
        "                    mode='lines',\r\n",
        "                    name=names[i]))\r\n",
        "\r\n",
        "# Edit the layout\r\n",
        "fig.update_layout(title='EOQ model',\r\n",
        "                   xaxis_title='Q',\r\n",
        "                   yaxis_title='Cost',\r\n",
        "                   height=500,\r\n",
        "                   width=700,\r\n",
        "                   xaxis={\"range\":[0,q.max()]},\r\n",
        "                   yaxis={\"range\":[0,y_total.mean()]})\r\n",
        "\r\n",
        "fig.show()"
      ],
      "execution_count": 215,
      "outputs": [
        {
          "output_type": "display_data",
          "data": {
            "text/html": [
              "<html>\n",
              "<head><meta charset=\"utf-8\" /></head>\n",
              "<body>\n",
              "    <div>\n",
              "            <script src=\"https://cdnjs.cloudflare.com/ajax/libs/mathjax/2.7.5/MathJax.js?config=TeX-AMS-MML_SVG\"></script><script type=\"text/javascript\">if (window.MathJax) {MathJax.Hub.Config({SVG: {font: \"STIX-Web\"}});}</script>\n",
              "                <script type=\"text/javascript\">window.PlotlyConfig = {MathJaxConfig: 'local'};</script>\n",
              "        <script src=\"https://cdn.plot.ly/plotly-latest.min.js\"></script>    \n",
              "            <div id=\"7009a59f-7fbe-4bba-914b-d5e81657b393\" class=\"plotly-graph-div\" style=\"height:500px; width:700px;\"></div>\n",
              "            <script type=\"text/javascript\">\n",
              "                \n",
              "                    window.PLOTLYENV=window.PLOTLYENV || {};\n",
              "                    \n",
              "                if (document.getElementById(\"7009a59f-7fbe-4bba-914b-d5e81657b393\")) {\n",
              "                    Plotly.newPlot(\n",
              "                        '7009a59f-7fbe-4bba-914b-d5e81657b393',\n",
              "                        [{\"mode\": \"lines\", \"name\": \"Total costs\", \"type\": \"scatter\", \"x\": [1, 2, 3, 4, 5, 6, 7, 8, 9, 10, 11, 12, 13, 14, 15, 16, 17, 18, 19, 20, 21, 22, 23, 24, 25, 26, 27, 28, 29, 30, 31, 32, 33, 34, 35, 36, 37, 38, 39, 40, 41, 42, 43, 44, 45, 46, 47, 48, 49, 50, 51, 52, 53, 54, 55, 56, 57, 58, 59, 60, 61, 62, 63, 64, 65, 66, 67, 68, 69, 70, 71, 72, 73, 74, 75, 76, 77, 78, 79, 80, 81, 82, 83, 84, 85, 86, 87, 88, 89, 90, 91, 92, 93, 94, 95, 96, 97, 98, 99, 100, 101, 102, 103, 104, 105, 106, 107, 108, 109, 110, 111, 112, 113, 114, 115, 116, 117, 118, 119, 120, 121, 122, 123, 124, 125, 126, 127, 128, 129, 130, 131, 132, 133, 134, 135, 136, 137, 138, 139, 140, 141, 142, 143, 144, 145, 146, 147, 148, 149, 150, 151, 152, 153, 154, 155, 156, 157, 158, 159, 160, 161, 162, 163, 164, 165, 166, 167, 168, 169, 170, 171, 172, 173, 174, 175, 176, 177, 178, 179, 180, 181, 182, 183, 184, 185, 186, 187, 188, 189, 190, 191, 192, 193, 194, 195, 196, 197, 198, 199, 200, 201, 202, 203, 204, 205, 206, 207, 208, 209, 210, 211, 212, 213, 214, 215, 216, 217, 218, 219, 220, 221, 222, 223, 224, 225, 226, 227, 228, 229, 230, 231, 232, 233, 234, 235, 236, 237, 238, 239, 240, 241, 242, 243, 244, 245, 246, 247, 248, 249, 250, 251, 252, 253, 254, 255, 256, 257, 258, 259, 260, 261, 262, 263, 264, 265, 266, 267, 268, 269, 270, 271, 272, 273, 274, 275, 276, 277, 278, 279, 280, 281, 282, 283, 284, 285, 286, 287, 288, 289, 290, 291, 292, 293, 294, 295, 296, 297, 298, 299], \"y\": [480019.578125, 240039.15625, 160058.734375, 120078.3125, 96097.890625, 80117.46875, 68708.47544642857, 60156.625, 53509.536458333336, 48195.78125, 43851.72301136364, 40234.9375, 37177.59254807692, 34559.80803571428, 32293.671875, 30313.25, 28568.12224264706, 27019.072916666668, 25635.142269736843, 24391.5625, 23268.28348214286, 22248.90056818182, 21319.862092391304, 20469.875, 19689.453125, 18970.56971153846, 18306.387152777777, 17691.04464285714, 17119.489762931036, 16587.34375, 16090.792842741936, 15626.5, 15191.532670454546, 14783.30330882353, 14399.520089285714, 14038.145833333334, 13697.363597972973, 13375.547697368422, 13071.239182692309, 12783.125, 12510.020198170732, 12250.85267857143, 12004.650072674418, 11770.52840909091, 11547.682291666666, 11335.376358695652, 11132.937832446809, 10939.75, 10755.246492346938, 10578.90625, 10410.249080882353, 10248.83173076923, 10094.244398584906, 9946.107638888889, 9804.069602272728, 9667.80357142857, 9537.005756578947, 9411.393318965518, 9290.702595338982, 9174.6875, 9063.118084016394, 8955.779233870968, 8852.469494047618, 8753.0, 8657.193509615385, 8564.883522727272, 8475.913479477611, 8390.136029411766, 8307.412364130436, 8227.611607142857, 8150.61025528169, 8076.291666666667, 8004.545590753424, 7935.267736486487, 7868.359375, 7803.726973684211, 7741.281858766234, 7680.939903846154, 7622.621242088608, 7566.25, 7511.754050925926, 7459.064786585366, 7408.1169051204815, 7358.848214285715, 7311.199448529412, 7265.114098837209, 7220.538254310345, 7177.420454545455, 7135.711551966292, 7095.364583333333, 7056.334649725275, 7018.578804347826, 6982.055947580645, 6946.726728723404, 6912.553453947368, 6879.5, 6847.531733247422, 6816.615433673469, 6786.719223484848, 6757.8125, 6729.865872524752, 6702.851102941177, 6676.741049757282, 6651.509615384615, 6627.131696428572, 6603.583136792453, 6580.840683411215, 6558.881944444444, 6537.6853497706425, 6517.230113636364, 6497.496199324324, 6478.464285714285, 6460.115735619469, 6442.432565789473, 6425.397418478261, 6408.993534482759, 6393.2047275641025, 6378.015360169491, 6363.4103203781515, 6349.375, 6335.89527376033, 6322.957479508197, 6310.5483993902435, 6298.655241935484, 6287.265625, 6276.367559523809, 6265.949434055118, 6256.0, 6246.508357558139, 6237.463942307692, 6228.85651240458, 6220.676136363636, 6212.913181390977, 6205.5583022388055, 6198.602430555556, 6192.036764705883, 6185.852760036496, 6180.042119565218, 6174.596785071943, 6169.508928571428, 6164.770944148936, 6160.375440140845, 6156.315231643357, 6152.583333333334, 6149.1729525862065, 6146.077482876712, 6143.290497448979, 6140.805743243243, 6138.617135067114, 6136.71875, 6135.104822019868, 6133.769736842105, 6132.708026960785, 6131.914366883117, 6131.383568548387, 6131.110576923077, 6131.090465764331, 6131.318433544304, 6131.789799528302, 6132.5, 6133.444584627329, 6134.6192129629635, 6136.01965107362, 6137.641768292683, 6139.481534090909, 6141.535015060241, 6143.798372005987, 6146.267857142857, 6148.939811390533, 6151.810661764706, 6154.876918859649, 6158.135174418605, 6161.58209898844, 6165.214439655172, 6169.029017857143, 6173.022727272728, 6177.192531779661, 6181.535463483146, 6186.048620810056, 6190.729166666666, 6195.574326657459, 6200.5813873626375, 6205.747694672131, 6211.070652173913, 6216.547719594595, 6222.176411290322, 6227.954294786096, 6233.878989361702, 6239.94816468254, 6246.159539473684, 6252.510880235603, 6259.0, 6265.624757124353, 6272.383054123711, 6279.272836538461, 6286.2920918367345, 6293.4388483502535, 6300.711174242424, 6308.107176507538, 6315.625, 6323.262826492537, 6331.018873762376, 6338.891394704433, 6346.878676470588, 6354.979039634147, 6363.190837378641, 6371.512454710145, 6379.942307692308, 6388.478842703349, 6397.120535714286, 6405.865891587678, 6414.7134433962265, 6423.661751760563, 6432.709404205607, 6441.855014534884, 6451.097222222223, 6460.434691820276, 6469.866112385322, 6479.390196917808, 6489.005681818182, 6498.7113263574665, 6508.505912162162, 6518.388242713005, 6528.357142857143, 6538.411458333334, 6548.5500553097345, 6558.771819933921, 6569.075657894737, 6579.460493995633, 6589.92527173913, 6600.468952922078, 6611.0905172413795, 6621.788961909871, 6632.563301282051, 6643.412566489362, 6654.3358050847455, 6665.332080696203, 6676.400472689076, 6687.54007583682, 6698.75, 6710.029369813278, 6721.377324380165, 6732.793016975309, 6744.275614754099, 6755.824298469388, 6767.438262195122, 6779.11671305668, 6790.858870967742, 6802.663968373494, 6814.53125, 6826.459972609562, 6838.449404761905, 6850.498826581028, 6862.607529527559, 6874.77481617647, 6887.0, 6899.282405155642, 6911.62136627907, 6924.016228281853, 6936.466346153846, 6948.971084770115, 6961.52981870229, 6974.141932034221, 6986.806818181818, 6999.523879716981, 7012.292528195489, 7025.112183988764, 7037.982276119403, 7050.902242100372, 7063.871527777777, 7076.889587177122, 7089.955882352941, 7103.069883241758, 7116.231067518248, 7129.438920454546, 7142.692934782609, 7155.992610559567, 7169.337455035971, 7182.726982526881, 7196.160714285714, 7209.638178380783, 7223.1589095744675, 7236.722449204947, 7250.328345070422, 7263.976151315789, 7277.6654283216785, 7291.395742595819, 7305.166666666667, 7318.977778979239, 7332.828663793103, 7346.718911082475, 7360.648116438356, 7374.615880972697, 7388.62181122449, 7402.665519067797, 7416.746621621622, 7430.864741161617, 7445.019505033557, 7459.210545568561]}, {\"mode\": \"lines\", \"name\": \"Ordering costs\", \"type\": \"scatter\", \"x\": [1, 2, 3, 4, 5, 6, 7, 8, 9, 10, 11, 12, 13, 14, 15, 16, 17, 18, 19, 20, 21, 22, 23, 24, 25, 26, 27, 28, 29, 30, 31, 32, 33, 34, 35, 36, 37, 38, 39, 40, 41, 42, 43, 44, 45, 46, 47, 48, 49, 50, 51, 52, 53, 54, 55, 56, 57, 58, 59, 60, 61, 62, 63, 64, 65, 66, 67, 68, 69, 70, 71, 72, 73, 74, 75, 76, 77, 78, 79, 80, 81, 82, 83, 84, 85, 86, 87, 88, 89, 90, 91, 92, 93, 94, 95, 96, 97, 98, 99, 100, 101, 102, 103, 104, 105, 106, 107, 108, 109, 110, 111, 112, 113, 114, 115, 116, 117, 118, 119, 120, 121, 122, 123, 124, 125, 126, 127, 128, 129, 130, 131, 132, 133, 134, 135, 136, 137, 138, 139, 140, 141, 142, 143, 144, 145, 146, 147, 148, 149, 150, 151, 152, 153, 154, 155, 156, 157, 158, 159, 160, 161, 162, 163, 164, 165, 166, 167, 168, 169, 170, 171, 172, 173, 174, 175, 176, 177, 178, 179, 180, 181, 182, 183, 184, 185, 186, 187, 188, 189, 190, 191, 192, 193, 194, 195, 196, 197, 198, 199, 200, 201, 202, 203, 204, 205, 206, 207, 208, 209, 210, 211, 212, 213, 214, 215, 216, 217, 218, 219, 220, 221, 222, 223, 224, 225, 226, 227, 228, 229, 230, 231, 232, 233, 234, 235, 236, 237, 238, 239, 240, 241, 242, 243, 244, 245, 246, 247, 248, 249, 250, 251, 252, 253, 254, 255, 256, 257, 258, 259, 260, 261, 262, 263, 264, 265, 266, 267, 268, 269, 270, 271, 272, 273, 274, 275, 276, 277, 278, 279, 280, 281, 282, 283, 284, 285, 286, 287, 288, 289, 290, 291, 292, 293, 294, 295, 296, 297, 298, 299], \"y\": [480000.0, 240000.0, 160000.0, 120000.0, 96000.0, 80000.0, 68571.42857142857, 60000.0, 53333.333333333336, 48000.0, 43636.36363636364, 40000.0, 36923.07692307692, 34285.71428571428, 32000.0, 30000.0, 28235.29411764706, 26666.666666666668, 25263.157894736843, 24000.0, 22857.14285714286, 21818.18181818182, 20869.565217391304, 20000.0, 19200.0, 18461.53846153846, 17777.777777777777, 17142.85714285714, 16551.724137931036, 16000.0, 15483.870967741936, 15000.0, 14545.454545454546, 14117.64705882353, 13714.285714285714, 13333.333333333334, 12972.972972972973, 12631.578947368422, 12307.692307692309, 12000.0, 11707.317073170732, 11428.57142857143, 11162.790697674418, 10909.09090909091, 10666.666666666666, 10434.782608695652, 10212.765957446809, 10000.0, 9795.918367346938, 9600.0, 9411.764705882353, 9230.76923076923, 9056.603773584906, 8888.888888888889, 8727.272727272728, 8571.42857142857, 8421.052631578947, 8275.862068965518, 8135.593220338983, 8000.0, 7868.852459016393, 7741.935483870968, 7619.047619047619, 7500.0, 7384.615384615385, 7272.727272727273, 7164.179104477612, 7058.823529411765, 6956.521739130435, 6857.142857142857, 6760.56338028169, 6666.666666666667, 6575.342465753424, 6486.486486486487, 6400.0, 6315.789473684211, 6233.766233766234, 6153.846153846154, 6075.949367088608, 6000.0, 5925.925925925926, 5853.658536585366, 5783.1325301204815, 5714.285714285715, 5647.058823529412, 5581.395348837209, 5517.241379310345, 5454.545454545455, 5393.258426966292, 5333.333333333333, 5274.725274725275, 5217.391304347826, 5161.290322580645, 5106.382978723404, 5052.631578947368, 5000.0, 4948.453608247422, 4897.959183673469, 4848.484848484848, 4800.0, 4752.475247524752, 4705.882352941177, 4660.194174757282, 4615.384615384615, 4571.428571428572, 4528.301886792453, 4485.981308411215, 4444.444444444444, 4403.6697247706425, 4363.636363636364, 4324.324324324324, 4285.714285714285, 4247.787610619469, 4210.526315789473, 4173.913043478261, 4137.931034482759, 4102.5641025641025, 4067.7966101694915, 4033.6134453781515, 4000.0, 3966.9421487603304, 3934.4262295081967, 3902.439024390244, 3870.967741935484, 3840.0, 3809.5238095238096, 3779.527559055118, 3750.0, 3720.9302325581393, 3692.3076923076924, 3664.1221374045804, 3636.3636363636365, 3609.0225563909776, 3582.089552238806, 3555.5555555555557, 3529.4117647058824, 3503.6496350364964, 3478.2608695652175, 3453.2374100719426, 3428.5714285714284, 3404.255319148936, 3380.281690140845, 3356.6433566433566, 3333.3333333333335, 3310.344827586207, 3287.671232876712, 3265.3061224489797, 3243.2432432432433, 3221.4765100671143, 3200.0, 3178.8079470198677, 3157.8947368421054, 3137.2549019607845, 3116.883116883117, 3096.7741935483873, 3076.923076923077, 3057.3248407643314, 3037.974683544304, 3018.867924528302, 3000.0, 2981.3664596273293, 2962.962962962963, 2944.7852760736196, 2926.829268292683, 2909.090909090909, 2891.5662650602408, 2874.251497005988, 2857.1428571428573, 2840.2366863905327, 2823.529411764706, 2807.0175438596493, 2790.6976744186045, 2774.566473988439, 2758.6206896551726, 2742.8571428571427, 2727.2727272727275, 2711.864406779661, 2696.629213483146, 2681.564245810056, 2666.6666666666665, 2651.9337016574586, 2637.3626373626375, 2622.9508196721313, 2608.695652173913, 2594.5945945945946, 2580.6451612903224, 2566.8449197860964, 2553.191489361702, 2539.6825396825398, 2526.315789473684, 2513.089005235602, 2500.0, 2487.0466321243525, 2474.226804123711, 2461.5384615384614, 2448.9795918367345, 2436.548223350254, 2424.242424242424, 2412.0603015075376, 2400.0, 2388.0597014925374, 2376.237623762376, 2364.5320197044334, 2352.9411764705883, 2341.4634146341464, 2330.097087378641, 2318.840579710145, 2307.6923076923076, 2296.650717703349, 2285.714285714286, 2274.8815165876777, 2264.1509433962265, 2253.521126760563, 2242.9906542056074, 2232.5581395348836, 2222.222222222222, 2211.9815668202764, 2201.8348623853212, 2191.780821917808, 2181.818181818182, 2171.945701357466, 2162.162162162162, 2152.4663677130043, 2142.8571428571427, 2133.3333333333335, 2123.8938053097345, 2114.5374449339206, 2105.2631578947367, 2096.069868995633, 2086.9565217391305, 2077.9220779220777, 2068.9655172413795, 2060.0858369098714, 2051.2820512820513, 2042.5531914893618, 2033.8983050847457, 2025.3164556962026, 2016.8067226890757, 2008.36820083682, 2000.0, 1991.701244813278, 1983.4710743801652, 1975.3086419753085, 1967.2131147540983, 1959.1836734693877, 1951.219512195122, 1943.31983805668, 1935.483870967742, 1927.710843373494, 1920.0, 1912.3505976095616, 1904.7619047619048, 1897.2332015810277, 1889.763779527559, 1882.3529411764705, 1875.0, 1867.704280155642, 1860.4651162790697, 1853.2818532818533, 1846.1538461538462, 1839.0804597701149, 1832.0610687022902, 1825.0950570342206, 1818.1818181818182, 1811.3207547169811, 1804.5112781954888, 1797.752808988764, 1791.044776119403, 1784.3866171003717, 1777.7777777777778, 1771.2177121771217, 1764.7058823529412, 1758.2417582417581, 1751.8248175182482, 1745.4545454545455, 1739.1304347826087, 1732.8519855595669, 1726.6187050359713, 1720.4301075268818, 1714.2857142857142, 1708.1850533807828, 1702.127659574468, 1696.113074204947, 1690.1408450704225, 1684.2105263157894, 1678.3216783216783, 1672.4738675958188, 1666.6666666666667, 1660.8996539792388, 1655.1724137931035, 1649.4845360824743, 1643.835616438356, 1638.2252559726962, 1632.6530612244899, 1627.1186440677966, 1621.6216216216217, 1616.1616161616162, 1610.7382550335572, 1605.3511705685619]}, {\"mode\": \"lines\", \"name\": \"Holding costs\", \"type\": \"scatter\", \"x\": [1, 2, 3, 4, 5, 6, 7, 8, 9, 10, 11, 12, 13, 14, 15, 16, 17, 18, 19, 20, 21, 22, 23, 24, 25, 26, 27, 28, 29, 30, 31, 32, 33, 34, 35, 36, 37, 38, 39, 40, 41, 42, 43, 44, 45, 46, 47, 48, 49, 50, 51, 52, 53, 54, 55, 56, 57, 58, 59, 60, 61, 62, 63, 64, 65, 66, 67, 68, 69, 70, 71, 72, 73, 74, 75, 76, 77, 78, 79, 80, 81, 82, 83, 84, 85, 86, 87, 88, 89, 90, 91, 92, 93, 94, 95, 96, 97, 98, 99, 100, 101, 102, 103, 104, 105, 106, 107, 108, 109, 110, 111, 112, 113, 114, 115, 116, 117, 118, 119, 120, 121, 122, 123, 124, 125, 126, 127, 128, 129, 130, 131, 132, 133, 134, 135, 136, 137, 138, 139, 140, 141, 142, 143, 144, 145, 146, 147, 148, 149, 150, 151, 152, 153, 154, 155, 156, 157, 158, 159, 160, 161, 162, 163, 164, 165, 166, 167, 168, 169, 170, 171, 172, 173, 174, 175, 176, 177, 178, 179, 180, 181, 182, 183, 184, 185, 186, 187, 188, 189, 190, 191, 192, 193, 194, 195, 196, 197, 198, 199, 200, 201, 202, 203, 204, 205, 206, 207, 208, 209, 210, 211, 212, 213, 214, 215, 216, 217, 218, 219, 220, 221, 222, 223, 224, 225, 226, 227, 228, 229, 230, 231, 232, 233, 234, 235, 236, 237, 238, 239, 240, 241, 242, 243, 244, 245, 246, 247, 248, 249, 250, 251, 252, 253, 254, 255, 256, 257, 258, 259, 260, 261, 262, 263, 264, 265, 266, 267, 268, 269, 270, 271, 272, 273, 274, 275, 276, 277, 278, 279, 280, 281, 282, 283, 284, 285, 286, 287, 288, 289, 290, 291, 292, 293, 294, 295, 296, 297, 298, 299], \"y\": [19.578125, 39.15625, 58.734375, 78.3125, 97.890625, 117.46875, 137.046875, 156.625, 176.203125, 195.78125, 215.359375, 234.9375, 254.515625, 274.09375, 293.671875, 313.25, 332.828125, 352.40625, 371.984375, 391.5625, 411.140625, 430.71875, 450.296875, 469.875, 489.453125, 509.03125, 528.609375, 548.1875, 567.765625, 587.34375, 606.921875, 626.5, 646.078125, 665.65625, 685.234375, 704.8125, 724.390625, 743.96875, 763.546875, 783.125, 802.703125, 822.28125, 841.859375, 861.4375, 881.015625, 900.59375, 920.171875, 939.75, 959.328125, 978.90625, 998.484375, 1018.0625, 1037.640625, 1057.21875, 1076.796875, 1096.375, 1115.953125, 1135.53125, 1155.109375, 1174.6875, 1194.265625, 1213.84375, 1233.421875, 1253.0, 1272.578125, 1292.15625, 1311.734375, 1331.3125, 1350.890625, 1370.46875, 1390.046875, 1409.625, 1429.203125, 1448.78125, 1468.359375, 1487.9375, 1507.515625, 1527.09375, 1546.671875, 1566.25, 1585.828125, 1605.40625, 1624.984375, 1644.5625, 1664.140625, 1683.71875, 1703.296875, 1722.875, 1742.453125, 1762.03125, 1781.609375, 1801.1875, 1820.765625, 1840.34375, 1859.921875, 1879.5, 1899.078125, 1918.65625, 1938.234375, 1957.8125, 1977.390625, 1996.96875, 2016.546875, 2036.125, 2055.703125, 2075.28125, 2094.859375, 2114.4375, 2134.015625, 2153.59375, 2173.171875, 2192.75, 2212.328125, 2231.90625, 2251.484375, 2271.0625, 2290.640625, 2310.21875, 2329.796875, 2349.375, 2368.953125, 2388.53125, 2408.109375, 2427.6875, 2447.265625, 2466.84375, 2486.421875, 2506.0, 2525.578125, 2545.15625, 2564.734375, 2584.3125, 2603.890625, 2623.46875, 2643.046875, 2662.625, 2682.203125, 2701.78125, 2721.359375, 2740.9375, 2760.515625, 2780.09375, 2799.671875, 2819.25, 2838.828125, 2858.40625, 2877.984375, 2897.5625, 2917.140625, 2936.71875, 2956.296875, 2975.875, 2995.453125, 3015.03125, 3034.609375, 3054.1875, 3073.765625, 3093.34375, 3112.921875, 3132.5, 3152.078125, 3171.65625, 3191.234375, 3210.8125, 3230.390625, 3249.96875, 3269.546875, 3289.125, 3308.703125, 3328.28125, 3347.859375, 3367.4375, 3387.015625, 3406.59375, 3426.171875, 3445.75, 3465.328125, 3484.90625, 3504.484375, 3524.0625, 3543.640625, 3563.21875, 3582.796875, 3602.375, 3621.953125, 3641.53125, 3661.109375, 3680.6875, 3700.265625, 3719.84375, 3739.421875, 3759.0, 3778.578125, 3798.15625, 3817.734375, 3837.3125, 3856.890625, 3876.46875, 3896.046875, 3915.625, 3935.203125, 3954.78125, 3974.359375, 3993.9375, 4013.515625, 4033.09375, 4052.671875, 4072.25, 4091.828125, 4111.40625, 4130.984375, 4150.5625, 4170.140625, 4189.71875, 4209.296875, 4228.875, 4248.453125, 4268.03125, 4287.609375, 4307.1875, 4326.765625, 4346.34375, 4365.921875, 4385.5, 4405.078125, 4424.65625, 4444.234375, 4463.8125, 4483.390625, 4502.96875, 4522.546875, 4542.125, 4561.703125, 4581.28125, 4600.859375, 4620.4375, 4640.015625, 4659.59375, 4679.171875, 4698.75, 4718.328125, 4737.90625, 4757.484375, 4777.0625, 4796.640625, 4816.21875, 4835.796875, 4855.375, 4874.953125, 4894.53125, 4914.109375, 4933.6875, 4953.265625, 4972.84375, 4992.421875, 5012.0, 5031.578125, 5051.15625, 5070.734375, 5090.3125, 5109.890625, 5129.46875, 5149.046875, 5168.625, 5188.203125, 5207.78125, 5227.359375, 5246.9375, 5266.515625, 5286.09375, 5305.671875, 5325.25, 5344.828125, 5364.40625, 5383.984375, 5403.5625, 5423.140625, 5442.71875, 5462.296875, 5481.875, 5501.453125, 5521.03125, 5540.609375, 5560.1875, 5579.765625, 5599.34375, 5618.921875, 5638.5, 5658.078125, 5677.65625, 5697.234375, 5716.8125, 5736.390625, 5755.96875, 5775.546875, 5795.125, 5814.703125, 5834.28125, 5853.859375]}],\n",
              "                        {\"height\": 500, \"template\": {\"data\": {\"bar\": [{\"error_x\": {\"color\": \"#2a3f5f\"}, \"error_y\": {\"color\": \"#2a3f5f\"}, \"marker\": {\"line\": {\"color\": \"#E5ECF6\", \"width\": 0.5}}, \"type\": \"bar\"}], \"barpolar\": [{\"marker\": {\"line\": {\"color\": \"#E5ECF6\", \"width\": 0.5}}, \"type\": \"barpolar\"}], \"carpet\": [{\"aaxis\": {\"endlinecolor\": \"#2a3f5f\", \"gridcolor\": \"white\", \"linecolor\": \"white\", \"minorgridcolor\": \"white\", \"startlinecolor\": \"#2a3f5f\"}, \"baxis\": {\"endlinecolor\": \"#2a3f5f\", \"gridcolor\": \"white\", \"linecolor\": \"white\", \"minorgridcolor\": \"white\", \"startlinecolor\": \"#2a3f5f\"}, \"type\": \"carpet\"}], \"choropleth\": [{\"colorbar\": {\"outlinewidth\": 0, \"ticks\": \"\"}, \"type\": \"choropleth\"}], \"contour\": [{\"colorbar\": {\"outlinewidth\": 0, \"ticks\": \"\"}, \"colorscale\": [[0.0, \"#0d0887\"], [0.1111111111111111, \"#46039f\"], [0.2222222222222222, \"#7201a8\"], [0.3333333333333333, \"#9c179e\"], [0.4444444444444444, \"#bd3786\"], [0.5555555555555556, \"#d8576b\"], [0.6666666666666666, \"#ed7953\"], [0.7777777777777778, \"#fb9f3a\"], [0.8888888888888888, \"#fdca26\"], [1.0, \"#f0f921\"]], \"type\": \"contour\"}], \"contourcarpet\": [{\"colorbar\": {\"outlinewidth\": 0, \"ticks\": \"\"}, \"type\": \"contourcarpet\"}], \"heatmap\": [{\"colorbar\": {\"outlinewidth\": 0, \"ticks\": \"\"}, \"colorscale\": [[0.0, \"#0d0887\"], [0.1111111111111111, \"#46039f\"], [0.2222222222222222, \"#7201a8\"], [0.3333333333333333, \"#9c179e\"], [0.4444444444444444, \"#bd3786\"], [0.5555555555555556, \"#d8576b\"], [0.6666666666666666, \"#ed7953\"], [0.7777777777777778, \"#fb9f3a\"], [0.8888888888888888, \"#fdca26\"], [1.0, \"#f0f921\"]], \"type\": \"heatmap\"}], \"heatmapgl\": [{\"colorbar\": {\"outlinewidth\": 0, \"ticks\": \"\"}, \"colorscale\": [[0.0, \"#0d0887\"], [0.1111111111111111, \"#46039f\"], [0.2222222222222222, \"#7201a8\"], [0.3333333333333333, \"#9c179e\"], [0.4444444444444444, \"#bd3786\"], [0.5555555555555556, \"#d8576b\"], [0.6666666666666666, \"#ed7953\"], [0.7777777777777778, \"#fb9f3a\"], [0.8888888888888888, \"#fdca26\"], [1.0, \"#f0f921\"]], \"type\": \"heatmapgl\"}], \"histogram\": [{\"marker\": {\"colorbar\": {\"outlinewidth\": 0, \"ticks\": \"\"}}, \"type\": \"histogram\"}], \"histogram2d\": [{\"colorbar\": {\"outlinewidth\": 0, \"ticks\": \"\"}, \"colorscale\": [[0.0, \"#0d0887\"], [0.1111111111111111, \"#46039f\"], [0.2222222222222222, \"#7201a8\"], [0.3333333333333333, \"#9c179e\"], [0.4444444444444444, \"#bd3786\"], [0.5555555555555556, \"#d8576b\"], [0.6666666666666666, \"#ed7953\"], [0.7777777777777778, \"#fb9f3a\"], [0.8888888888888888, \"#fdca26\"], [1.0, \"#f0f921\"]], \"type\": \"histogram2d\"}], \"histogram2dcontour\": [{\"colorbar\": {\"outlinewidth\": 0, \"ticks\": \"\"}, \"colorscale\": [[0.0, \"#0d0887\"], [0.1111111111111111, \"#46039f\"], [0.2222222222222222, \"#7201a8\"], [0.3333333333333333, \"#9c179e\"], [0.4444444444444444, \"#bd3786\"], [0.5555555555555556, \"#d8576b\"], [0.6666666666666666, \"#ed7953\"], [0.7777777777777778, \"#fb9f3a\"], [0.8888888888888888, \"#fdca26\"], [1.0, \"#f0f921\"]], \"type\": \"histogram2dcontour\"}], \"mesh3d\": [{\"colorbar\": {\"outlinewidth\": 0, \"ticks\": \"\"}, \"type\": \"mesh3d\"}], \"parcoords\": [{\"line\": {\"colorbar\": {\"outlinewidth\": 0, \"ticks\": \"\"}}, \"type\": \"parcoords\"}], \"pie\": [{\"automargin\": true, \"type\": \"pie\"}], \"scatter\": [{\"marker\": {\"colorbar\": {\"outlinewidth\": 0, \"ticks\": \"\"}}, \"type\": \"scatter\"}], \"scatter3d\": [{\"line\": {\"colorbar\": {\"outlinewidth\": 0, \"ticks\": \"\"}}, \"marker\": {\"colorbar\": {\"outlinewidth\": 0, \"ticks\": \"\"}}, \"type\": \"scatter3d\"}], \"scattercarpet\": [{\"marker\": {\"colorbar\": {\"outlinewidth\": 0, \"ticks\": \"\"}}, \"type\": \"scattercarpet\"}], \"scattergeo\": [{\"marker\": {\"colorbar\": {\"outlinewidth\": 0, \"ticks\": \"\"}}, \"type\": \"scattergeo\"}], \"scattergl\": [{\"marker\": {\"colorbar\": {\"outlinewidth\": 0, \"ticks\": \"\"}}, \"type\": \"scattergl\"}], \"scattermapbox\": [{\"marker\": {\"colorbar\": {\"outlinewidth\": 0, \"ticks\": \"\"}}, \"type\": \"scattermapbox\"}], \"scatterpolar\": [{\"marker\": {\"colorbar\": {\"outlinewidth\": 0, \"ticks\": \"\"}}, \"type\": \"scatterpolar\"}], \"scatterpolargl\": [{\"marker\": {\"colorbar\": {\"outlinewidth\": 0, \"ticks\": \"\"}}, \"type\": \"scatterpolargl\"}], \"scatterternary\": [{\"marker\": {\"colorbar\": {\"outlinewidth\": 0, \"ticks\": \"\"}}, \"type\": \"scatterternary\"}], \"surface\": [{\"colorbar\": {\"outlinewidth\": 0, \"ticks\": \"\"}, \"colorscale\": [[0.0, \"#0d0887\"], [0.1111111111111111, \"#46039f\"], [0.2222222222222222, \"#7201a8\"], [0.3333333333333333, \"#9c179e\"], [0.4444444444444444, \"#bd3786\"], [0.5555555555555556, \"#d8576b\"], [0.6666666666666666, \"#ed7953\"], [0.7777777777777778, \"#fb9f3a\"], [0.8888888888888888, \"#fdca26\"], [1.0, \"#f0f921\"]], \"type\": \"surface\"}], \"table\": [{\"cells\": {\"fill\": {\"color\": \"#EBF0F8\"}, \"line\": {\"color\": \"white\"}}, \"header\": {\"fill\": {\"color\": \"#C8D4E3\"}, \"line\": {\"color\": \"white\"}}, \"type\": \"table\"}]}, \"layout\": {\"annotationdefaults\": {\"arrowcolor\": \"#2a3f5f\", \"arrowhead\": 0, \"arrowwidth\": 1}, \"coloraxis\": {\"colorbar\": {\"outlinewidth\": 0, \"ticks\": \"\"}}, \"colorscale\": {\"diverging\": [[0, \"#8e0152\"], [0.1, \"#c51b7d\"], [0.2, \"#de77ae\"], [0.3, \"#f1b6da\"], [0.4, \"#fde0ef\"], [0.5, \"#f7f7f7\"], [0.6, \"#e6f5d0\"], [0.7, \"#b8e186\"], [0.8, \"#7fbc41\"], [0.9, \"#4d9221\"], [1, \"#276419\"]], \"sequential\": [[0.0, \"#0d0887\"], [0.1111111111111111, \"#46039f\"], [0.2222222222222222, \"#7201a8\"], [0.3333333333333333, \"#9c179e\"], [0.4444444444444444, \"#bd3786\"], [0.5555555555555556, \"#d8576b\"], [0.6666666666666666, \"#ed7953\"], [0.7777777777777778, \"#fb9f3a\"], [0.8888888888888888, \"#fdca26\"], [1.0, \"#f0f921\"]], \"sequentialminus\": [[0.0, \"#0d0887\"], [0.1111111111111111, \"#46039f\"], [0.2222222222222222, \"#7201a8\"], [0.3333333333333333, \"#9c179e\"], [0.4444444444444444, \"#bd3786\"], [0.5555555555555556, \"#d8576b\"], [0.6666666666666666, \"#ed7953\"], [0.7777777777777778, \"#fb9f3a\"], [0.8888888888888888, \"#fdca26\"], [1.0, \"#f0f921\"]]}, \"colorway\": [\"#636efa\", \"#EF553B\", \"#00cc96\", \"#ab63fa\", \"#FFA15A\", \"#19d3f3\", \"#FF6692\", \"#B6E880\", \"#FF97FF\", \"#FECB52\"], \"font\": {\"color\": \"#2a3f5f\"}, \"geo\": {\"bgcolor\": \"white\", \"lakecolor\": \"white\", \"landcolor\": \"#E5ECF6\", \"showlakes\": true, \"showland\": true, \"subunitcolor\": \"white\"}, \"hoverlabel\": {\"align\": \"left\"}, \"hovermode\": \"closest\", \"mapbox\": {\"style\": \"light\"}, \"paper_bgcolor\": \"white\", \"plot_bgcolor\": \"#E5ECF6\", \"polar\": {\"angularaxis\": {\"gridcolor\": \"white\", \"linecolor\": \"white\", \"ticks\": \"\"}, \"bgcolor\": \"#E5ECF6\", \"radialaxis\": {\"gridcolor\": \"white\", \"linecolor\": \"white\", \"ticks\": \"\"}}, \"scene\": {\"xaxis\": {\"backgroundcolor\": \"#E5ECF6\", \"gridcolor\": \"white\", \"gridwidth\": 2, \"linecolor\": \"white\", \"showbackground\": true, \"ticks\": \"\", \"zerolinecolor\": \"white\"}, \"yaxis\": {\"backgroundcolor\": \"#E5ECF6\", \"gridcolor\": \"white\", \"gridwidth\": 2, \"linecolor\": \"white\", \"showbackground\": true, \"ticks\": \"\", \"zerolinecolor\": \"white\"}, \"zaxis\": {\"backgroundcolor\": \"#E5ECF6\", \"gridcolor\": \"white\", \"gridwidth\": 2, \"linecolor\": \"white\", \"showbackground\": true, \"ticks\": \"\", \"zerolinecolor\": \"white\"}}, \"shapedefaults\": {\"line\": {\"color\": \"#2a3f5f\"}}, \"ternary\": {\"aaxis\": {\"gridcolor\": \"white\", \"linecolor\": \"white\", \"ticks\": \"\"}, \"baxis\": {\"gridcolor\": \"white\", \"linecolor\": \"white\", \"ticks\": \"\"}, \"bgcolor\": \"#E5ECF6\", \"caxis\": {\"gridcolor\": \"white\", \"linecolor\": \"white\", \"ticks\": \"\"}}, \"title\": {\"x\": 0.05}, \"xaxis\": {\"automargin\": true, \"gridcolor\": \"white\", \"linecolor\": \"white\", \"ticks\": \"\", \"title\": {\"standoff\": 15}, \"zerolinecolor\": \"white\", \"zerolinewidth\": 2}, \"yaxis\": {\"automargin\": true, \"gridcolor\": \"white\", \"linecolor\": \"white\", \"ticks\": \"\", \"title\": {\"standoff\": 15}, \"zerolinecolor\": \"white\", \"zerolinewidth\": 2}}}, \"title\": {\"text\": \"EOQ model\"}, \"width\": 700, \"xaxis\": {\"range\": [0, 299], \"title\": {\"text\": \"Q\"}}, \"yaxis\": {\"range\": [0, 13017.24939395907], \"title\": {\"text\": \"Cost\"}}},\n",
              "                        {\"responsive\": true}\n",
              "                    ).then(function(){\n",
              "                            \n",
              "var gd = document.getElementById('7009a59f-7fbe-4bba-914b-d5e81657b393');\n",
              "var x = new MutationObserver(function (mutations, observer) {{\n",
              "        var display = window.getComputedStyle(gd).display;\n",
              "        if (!display || display === 'none') {{\n",
              "            console.log([gd, 'removed!']);\n",
              "            Plotly.purge(gd);\n",
              "            observer.disconnect();\n",
              "        }}\n",
              "}});\n",
              "\n",
              "// Listen for the removal of the full notebook cells\n",
              "var notebookContainer = gd.closest('#notebook-container');\n",
              "if (notebookContainer) {{\n",
              "    x.observe(notebookContainer, {childList: true});\n",
              "}}\n",
              "\n",
              "// Listen for the clearing of the current output cell\n",
              "var outputEl = gd.closest('.output');\n",
              "if (outputEl) {{\n",
              "    x.observe(outputEl, {childList: true});\n",
              "}}\n",
              "\n",
              "                        })\n",
              "                };\n",
              "                \n",
              "            </script>\n",
              "        </div>\n",
              "</body>\n",
              "</html>"
            ]
          },
          "metadata": {
            "tags": []
          }
        }
      ]
    },
    {
      "cell_type": "code",
      "metadata": {
        "colab": {
          "base_uri": "https://localhost:8080/"
        },
        "id": "KM3XCdudejY_",
        "outputId": "816786f3-54fd-42b8-d5ef-f5e3df1cb6ac"
      },
      "source": [
        "EOQ(1600,300,35/160*179)"
      ],
      "execution_count": 216,
      "outputs": [
        {
          "output_type": "execute_result",
          "data": {
            "text/plain": [
              "156.5795606675239"
            ]
          },
          "metadata": {
            "tags": []
          },
          "execution_count": 216
        }
      ]
    },
    {
      "cell_type": "code",
      "metadata": {
        "colab": {
          "base_uri": "https://localhost:8080/"
        },
        "id": "ylP8-Lm4enJa",
        "outputId": "4f3c3a3b-f3f1-478b-888f-3ca37eedfd56"
      },
      "source": [
        "data.iloc[3,13:]"
      ],
      "execution_count": 219,
      "outputs": [
        {
          "output_type": "execute_result",
          "data": {
            "text/plain": [
              "Quantity                  300\n",
              "Unit cost($)              179\n",
              "Ordering cost            1600\n",
              "Stock cost              53700\n",
              "Daily Average        0.821918\n",
              "Max                        28\n",
              "Daily average Max    0.933333\n",
              "Safety stock                3\n",
              "Reorder Point         19.4384\n",
              "Name: 3, dtype: object"
            ]
          },
          "metadata": {
            "tags": []
          },
          "execution_count": 219
        }
      ]
    },
    {
      "cell_type": "code",
      "metadata": {
        "colab": {
          "base_uri": "https://localhost:8080/"
        },
        "id": "xmxz7hfdezEF",
        "outputId": "6ab0b30b-ee94-4859-bd26-02d4016d2e5f"
      },
      "source": [
        "300/157"
      ],
      "execution_count": 221,
      "outputs": [
        {
          "output_type": "execute_result",
          "data": {
            "text/plain": [
              "1.910828025477707"
            ]
          },
          "metadata": {
            "tags": []
          },
          "execution_count": 221
        }
      ]
    },
    {
      "cell_type": "code",
      "metadata": {
        "colab": {
          "base_uri": "https://localhost:8080/"
        },
        "id": "1cx51Rgie617",
        "outputId": "a076106d-7d9c-4239-d5a6-717bbc7ecd62"
      },
      "source": [
        "365/2"
      ],
      "execution_count": 223,
      "outputs": [
        {
          "output_type": "execute_result",
          "data": {
            "text/plain": [
              "182.5"
            ]
          },
          "metadata": {
            "tags": []
          },
          "execution_count": 223
        }
      ]
    },
    {
      "cell_type": "code",
      "metadata": {
        "colab": {
          "base_uri": "https://localhost:8080/"
        },
        "id": "VwijZ__CfAxX",
        "outputId": "a8f19e58-25b0-4c13-ad05-c3318e0a2db1"
      },
      "source": [
        "batch_arrivals=np.linspace(1,365,3)\r\n",
        "batch_arrivals"
      ],
      "execution_count": 249,
      "outputs": [
        {
          "output_type": "execute_result",
          "data": {
            "text/plain": [
              "array([  1., 183., 365.])"
            ]
          },
          "metadata": {
            "tags": []
          },
          "execution_count": 249
        }
      ]
    },
    {
      "cell_type": "code",
      "metadata": {
        "colab": {
          "base_uri": "https://localhost:8080/"
        },
        "id": "E0RZ8rBtfzxC",
        "outputId": "9cae911c-2954-4689-89f7-193fa31dedbd"
      },
      "source": [
        "batch_q0=np.zeros(len(batch_arrivals))\r\n",
        "batch_q0"
      ],
      "execution_count": 248,
      "outputs": [
        {
          "output_type": "execute_result",
          "data": {
            "text/plain": [
              "array([0., 0., 0.])"
            ]
          },
          "metadata": {
            "tags": []
          },
          "execution_count": 248
        }
      ]
    },
    {
      "cell_type": "code",
      "metadata": {
        "colab": {
          "base_uri": "https://localhost:8080/"
        },
        "id": "CrbtyCI0fMan",
        "outputId": "27001199-330d-494e-c48a-3284efac79d1"
      },
      "source": [
        "batch_q1=np.ones(len(batch_arrivals))*np.ceil(EOQ(1600,300,35/160*179))\r\n",
        "batch_q1"
      ],
      "execution_count": 247,
      "outputs": [
        {
          "output_type": "execute_result",
          "data": {
            "text/plain": [
              "array([157., 157., 157.])"
            ]
          },
          "metadata": {
            "tags": []
          },
          "execution_count": 247
        }
      ]
    },
    {
      "cell_type": "code",
      "metadata": {
        "colab": {
          "base_uri": "https://localhost:8080/",
          "height": 235
        },
        "id": "Gg2qDdQrggor",
        "outputId": "72936ff5-d15a-44e0-e0e5-f83e236f3337"
      },
      "source": [
        "df=pd.DataFrame({\"Batch time\":np.concatenate([batch_arrivals,batch_arrivals]), \"Batch q\":np.concatenate([batch_q0,batch_q1])})\r\n",
        "df=df.sort_values(\"Batch time\").reset_index().drop(columns=\"index\")\r\n",
        "df"
      ],
      "execution_count": 258,
      "outputs": [
        {
          "output_type": "execute_result",
          "data": {
            "text/html": [
              "<div>\n",
              "<style scoped>\n",
              "    .dataframe tbody tr th:only-of-type {\n",
              "        vertical-align: middle;\n",
              "    }\n",
              "\n",
              "    .dataframe tbody tr th {\n",
              "        vertical-align: top;\n",
              "    }\n",
              "\n",
              "    .dataframe thead th {\n",
              "        text-align: right;\n",
              "    }\n",
              "</style>\n",
              "<table border=\"1\" class=\"dataframe\">\n",
              "  <thead>\n",
              "    <tr style=\"text-align: right;\">\n",
              "      <th></th>\n",
              "      <th>Batch time</th>\n",
              "      <th>Batch q</th>\n",
              "    </tr>\n",
              "  </thead>\n",
              "  <tbody>\n",
              "    <tr>\n",
              "      <th>0</th>\n",
              "      <td>1.0</td>\n",
              "      <td>0.0</td>\n",
              "    </tr>\n",
              "    <tr>\n",
              "      <th>1</th>\n",
              "      <td>1.0</td>\n",
              "      <td>157.0</td>\n",
              "    </tr>\n",
              "    <tr>\n",
              "      <th>2</th>\n",
              "      <td>183.0</td>\n",
              "      <td>0.0</td>\n",
              "    </tr>\n",
              "    <tr>\n",
              "      <th>3</th>\n",
              "      <td>183.0</td>\n",
              "      <td>157.0</td>\n",
              "    </tr>\n",
              "    <tr>\n",
              "      <th>4</th>\n",
              "      <td>365.0</td>\n",
              "      <td>0.0</td>\n",
              "    </tr>\n",
              "    <tr>\n",
              "      <th>5</th>\n",
              "      <td>365.0</td>\n",
              "      <td>157.0</td>\n",
              "    </tr>\n",
              "  </tbody>\n",
              "</table>\n",
              "</div>"
            ],
            "text/plain": [
              "   Batch time  Batch q\n",
              "0         1.0      0.0\n",
              "1         1.0    157.0\n",
              "2       183.0      0.0\n",
              "3       183.0    157.0\n",
              "4       365.0      0.0\n",
              "5       365.0    157.0"
            ]
          },
          "metadata": {
            "tags": []
          },
          "execution_count": 258
        }
      ]
    },
    {
      "cell_type": "code",
      "metadata": {
        "colab": {
          "base_uri": "https://localhost:8080/",
          "height": 517
        },
        "id": "oYZDswk4iBed",
        "outputId": "f6de82e0-9beb-4938-cce2-fea68b0aa387"
      },
      "source": [
        "fig = go.Figure()\r\n",
        "\r\n",
        "fig.add_trace(go.Scatter(x=df[\"Batch time\"], y=df[\"Batch q\"],\r\n",
        "                    mode='lines',\r\n",
        "                    name=\"Batches\"))\r\n",
        "\r\n",
        "fig.add_trace(go.Scatter(x=np.arange(0,366), y=np.ones(366)*20,\r\n",
        "                    mode='lines',\r\n",
        "                    name=\"Reorder point\"))\r\n",
        "\r\n",
        "# Edit the layout\r\n",
        "fig.update_layout(title='EOQ reorder time',\r\n",
        "                   xaxis_title='Time',\r\n",
        "                   yaxis_title='Q',\r\n",
        "                   height=500,\r\n",
        "                   width=700)\r\n",
        "\r\n",
        "fig.show()"
      ],
      "execution_count": 262,
      "outputs": [
        {
          "output_type": "display_data",
          "data": {
            "text/html": [
              "<html>\n",
              "<head><meta charset=\"utf-8\" /></head>\n",
              "<body>\n",
              "    <div>\n",
              "            <script src=\"https://cdnjs.cloudflare.com/ajax/libs/mathjax/2.7.5/MathJax.js?config=TeX-AMS-MML_SVG\"></script><script type=\"text/javascript\">if (window.MathJax) {MathJax.Hub.Config({SVG: {font: \"STIX-Web\"}});}</script>\n",
              "                <script type=\"text/javascript\">window.PlotlyConfig = {MathJaxConfig: 'local'};</script>\n",
              "        <script src=\"https://cdn.plot.ly/plotly-latest.min.js\"></script>    \n",
              "            <div id=\"896a96e3-56e3-4b98-a7bd-a9614112b48f\" class=\"plotly-graph-div\" style=\"height:500px; width:700px;\"></div>\n",
              "            <script type=\"text/javascript\">\n",
              "                \n",
              "                    window.PLOTLYENV=window.PLOTLYENV || {};\n",
              "                    \n",
              "                if (document.getElementById(\"896a96e3-56e3-4b98-a7bd-a9614112b48f\")) {\n",
              "                    Plotly.newPlot(\n",
              "                        '896a96e3-56e3-4b98-a7bd-a9614112b48f',\n",
              "                        [{\"mode\": \"lines\", \"name\": \"Batches\", \"type\": \"scatter\", \"x\": [1.0, 1.0, 183.0, 183.0, 365.0, 365.0], \"y\": [0.0, 157.0, 0.0, 157.0, 0.0, 157.0]}, {\"mode\": \"lines\", \"name\": \"Reorder point\", \"type\": \"scatter\", \"x\": [0, 1, 2, 3, 4, 5, 6, 7, 8, 9, 10, 11, 12, 13, 14, 15, 16, 17, 18, 19, 20, 21, 22, 23, 24, 25, 26, 27, 28, 29, 30, 31, 32, 33, 34, 35, 36, 37, 38, 39, 40, 41, 42, 43, 44, 45, 46, 47, 48, 49, 50, 51, 52, 53, 54, 55, 56, 57, 58, 59, 60, 61, 62, 63, 64, 65, 66, 67, 68, 69, 70, 71, 72, 73, 74, 75, 76, 77, 78, 79, 80, 81, 82, 83, 84, 85, 86, 87, 88, 89, 90, 91, 92, 93, 94, 95, 96, 97, 98, 99, 100, 101, 102, 103, 104, 105, 106, 107, 108, 109, 110, 111, 112, 113, 114, 115, 116, 117, 118, 119, 120, 121, 122, 123, 124, 125, 126, 127, 128, 129, 130, 131, 132, 133, 134, 135, 136, 137, 138, 139, 140, 141, 142, 143, 144, 145, 146, 147, 148, 149, 150, 151, 152, 153, 154, 155, 156, 157, 158, 159, 160, 161, 162, 163, 164, 165, 166, 167, 168, 169, 170, 171, 172, 173, 174, 175, 176, 177, 178, 179, 180, 181, 182, 183, 184, 185, 186, 187, 188, 189, 190, 191, 192, 193, 194, 195, 196, 197, 198, 199, 200, 201, 202, 203, 204, 205, 206, 207, 208, 209, 210, 211, 212, 213, 214, 215, 216, 217, 218, 219, 220, 221, 222, 223, 224, 225, 226, 227, 228, 229, 230, 231, 232, 233, 234, 235, 236, 237, 238, 239, 240, 241, 242, 243, 244, 245, 246, 247, 248, 249, 250, 251, 252, 253, 254, 255, 256, 257, 258, 259, 260, 261, 262, 263, 264, 265, 266, 267, 268, 269, 270, 271, 272, 273, 274, 275, 276, 277, 278, 279, 280, 281, 282, 283, 284, 285, 286, 287, 288, 289, 290, 291, 292, 293, 294, 295, 296, 297, 298, 299, 300, 301, 302, 303, 304, 305, 306, 307, 308, 309, 310, 311, 312, 313, 314, 315, 316, 317, 318, 319, 320, 321, 322, 323, 324, 325, 326, 327, 328, 329, 330, 331, 332, 333, 334, 335, 336, 337, 338, 339, 340, 341, 342, 343, 344, 345, 346, 347, 348, 349, 350, 351, 352, 353, 354, 355, 356, 357, 358, 359, 360, 361, 362, 363, 364, 365], \"y\": [20.0, 20.0, 20.0, 20.0, 20.0, 20.0, 20.0, 20.0, 20.0, 20.0, 20.0, 20.0, 20.0, 20.0, 20.0, 20.0, 20.0, 20.0, 20.0, 20.0, 20.0, 20.0, 20.0, 20.0, 20.0, 20.0, 20.0, 20.0, 20.0, 20.0, 20.0, 20.0, 20.0, 20.0, 20.0, 20.0, 20.0, 20.0, 20.0, 20.0, 20.0, 20.0, 20.0, 20.0, 20.0, 20.0, 20.0, 20.0, 20.0, 20.0, 20.0, 20.0, 20.0, 20.0, 20.0, 20.0, 20.0, 20.0, 20.0, 20.0, 20.0, 20.0, 20.0, 20.0, 20.0, 20.0, 20.0, 20.0, 20.0, 20.0, 20.0, 20.0, 20.0, 20.0, 20.0, 20.0, 20.0, 20.0, 20.0, 20.0, 20.0, 20.0, 20.0, 20.0, 20.0, 20.0, 20.0, 20.0, 20.0, 20.0, 20.0, 20.0, 20.0, 20.0, 20.0, 20.0, 20.0, 20.0, 20.0, 20.0, 20.0, 20.0, 20.0, 20.0, 20.0, 20.0, 20.0, 20.0, 20.0, 20.0, 20.0, 20.0, 20.0, 20.0, 20.0, 20.0, 20.0, 20.0, 20.0, 20.0, 20.0, 20.0, 20.0, 20.0, 20.0, 20.0, 20.0, 20.0, 20.0, 20.0, 20.0, 20.0, 20.0, 20.0, 20.0, 20.0, 20.0, 20.0, 20.0, 20.0, 20.0, 20.0, 20.0, 20.0, 20.0, 20.0, 20.0, 20.0, 20.0, 20.0, 20.0, 20.0, 20.0, 20.0, 20.0, 20.0, 20.0, 20.0, 20.0, 20.0, 20.0, 20.0, 20.0, 20.0, 20.0, 20.0, 20.0, 20.0, 20.0, 20.0, 20.0, 20.0, 20.0, 20.0, 20.0, 20.0, 20.0, 20.0, 20.0, 20.0, 20.0, 20.0, 20.0, 20.0, 20.0, 20.0, 20.0, 20.0, 20.0, 20.0, 20.0, 20.0, 20.0, 20.0, 20.0, 20.0, 20.0, 20.0, 20.0, 20.0, 20.0, 20.0, 20.0, 20.0, 20.0, 20.0, 20.0, 20.0, 20.0, 20.0, 20.0, 20.0, 20.0, 20.0, 20.0, 20.0, 20.0, 20.0, 20.0, 20.0, 20.0, 20.0, 20.0, 20.0, 20.0, 20.0, 20.0, 20.0, 20.0, 20.0, 20.0, 20.0, 20.0, 20.0, 20.0, 20.0, 20.0, 20.0, 20.0, 20.0, 20.0, 20.0, 20.0, 20.0, 20.0, 20.0, 20.0, 20.0, 20.0, 20.0, 20.0, 20.0, 20.0, 20.0, 20.0, 20.0, 20.0, 20.0, 20.0, 20.0, 20.0, 20.0, 20.0, 20.0, 20.0, 20.0, 20.0, 20.0, 20.0, 20.0, 20.0, 20.0, 20.0, 20.0, 20.0, 20.0, 20.0, 20.0, 20.0, 20.0, 20.0, 20.0, 20.0, 20.0, 20.0, 20.0, 20.0, 20.0, 20.0, 20.0, 20.0, 20.0, 20.0, 20.0, 20.0, 20.0, 20.0, 20.0, 20.0, 20.0, 20.0, 20.0, 20.0, 20.0, 20.0, 20.0, 20.0, 20.0, 20.0, 20.0, 20.0, 20.0, 20.0, 20.0, 20.0, 20.0, 20.0, 20.0, 20.0, 20.0, 20.0, 20.0, 20.0, 20.0, 20.0, 20.0, 20.0, 20.0, 20.0, 20.0, 20.0, 20.0, 20.0, 20.0, 20.0, 20.0, 20.0, 20.0, 20.0, 20.0, 20.0, 20.0, 20.0, 20.0, 20.0, 20.0, 20.0, 20.0, 20.0, 20.0, 20.0, 20.0, 20.0, 20.0, 20.0, 20.0, 20.0, 20.0, 20.0, 20.0, 20.0, 20.0, 20.0, 20.0, 20.0, 20.0]}],\n",
              "                        {\"height\": 500, \"template\": {\"data\": {\"bar\": [{\"error_x\": {\"color\": \"#2a3f5f\"}, \"error_y\": {\"color\": \"#2a3f5f\"}, \"marker\": {\"line\": {\"color\": \"#E5ECF6\", \"width\": 0.5}}, \"type\": \"bar\"}], \"barpolar\": [{\"marker\": {\"line\": {\"color\": \"#E5ECF6\", \"width\": 0.5}}, \"type\": \"barpolar\"}], \"carpet\": [{\"aaxis\": {\"endlinecolor\": \"#2a3f5f\", \"gridcolor\": \"white\", \"linecolor\": \"white\", \"minorgridcolor\": \"white\", \"startlinecolor\": \"#2a3f5f\"}, \"baxis\": {\"endlinecolor\": \"#2a3f5f\", \"gridcolor\": \"white\", \"linecolor\": \"white\", \"minorgridcolor\": \"white\", \"startlinecolor\": \"#2a3f5f\"}, \"type\": \"carpet\"}], \"choropleth\": [{\"colorbar\": {\"outlinewidth\": 0, \"ticks\": \"\"}, \"type\": \"choropleth\"}], \"contour\": [{\"colorbar\": {\"outlinewidth\": 0, \"ticks\": \"\"}, \"colorscale\": [[0.0, \"#0d0887\"], [0.1111111111111111, \"#46039f\"], [0.2222222222222222, \"#7201a8\"], [0.3333333333333333, \"#9c179e\"], [0.4444444444444444, \"#bd3786\"], [0.5555555555555556, \"#d8576b\"], [0.6666666666666666, \"#ed7953\"], [0.7777777777777778, \"#fb9f3a\"], [0.8888888888888888, \"#fdca26\"], [1.0, \"#f0f921\"]], \"type\": \"contour\"}], \"contourcarpet\": [{\"colorbar\": {\"outlinewidth\": 0, \"ticks\": \"\"}, \"type\": \"contourcarpet\"}], \"heatmap\": [{\"colorbar\": {\"outlinewidth\": 0, \"ticks\": \"\"}, \"colorscale\": [[0.0, \"#0d0887\"], [0.1111111111111111, \"#46039f\"], [0.2222222222222222, \"#7201a8\"], [0.3333333333333333, \"#9c179e\"], [0.4444444444444444, \"#bd3786\"], [0.5555555555555556, \"#d8576b\"], [0.6666666666666666, \"#ed7953\"], [0.7777777777777778, \"#fb9f3a\"], [0.8888888888888888, \"#fdca26\"], [1.0, \"#f0f921\"]], \"type\": \"heatmap\"}], \"heatmapgl\": [{\"colorbar\": {\"outlinewidth\": 0, \"ticks\": \"\"}, \"colorscale\": [[0.0, \"#0d0887\"], [0.1111111111111111, \"#46039f\"], [0.2222222222222222, \"#7201a8\"], [0.3333333333333333, \"#9c179e\"], [0.4444444444444444, \"#bd3786\"], [0.5555555555555556, \"#d8576b\"], [0.6666666666666666, \"#ed7953\"], [0.7777777777777778, \"#fb9f3a\"], [0.8888888888888888, \"#fdca26\"], [1.0, \"#f0f921\"]], \"type\": \"heatmapgl\"}], \"histogram\": [{\"marker\": {\"colorbar\": {\"outlinewidth\": 0, \"ticks\": \"\"}}, \"type\": \"histogram\"}], \"histogram2d\": [{\"colorbar\": {\"outlinewidth\": 0, \"ticks\": \"\"}, \"colorscale\": [[0.0, \"#0d0887\"], [0.1111111111111111, \"#46039f\"], [0.2222222222222222, \"#7201a8\"], [0.3333333333333333, \"#9c179e\"], [0.4444444444444444, \"#bd3786\"], [0.5555555555555556, \"#d8576b\"], [0.6666666666666666, \"#ed7953\"], [0.7777777777777778, \"#fb9f3a\"], [0.8888888888888888, \"#fdca26\"], [1.0, \"#f0f921\"]], \"type\": \"histogram2d\"}], \"histogram2dcontour\": [{\"colorbar\": {\"outlinewidth\": 0, \"ticks\": \"\"}, \"colorscale\": [[0.0, \"#0d0887\"], [0.1111111111111111, \"#46039f\"], [0.2222222222222222, \"#7201a8\"], [0.3333333333333333, \"#9c179e\"], [0.4444444444444444, \"#bd3786\"], [0.5555555555555556, \"#d8576b\"], [0.6666666666666666, \"#ed7953\"], [0.7777777777777778, \"#fb9f3a\"], [0.8888888888888888, \"#fdca26\"], [1.0, \"#f0f921\"]], \"type\": \"histogram2dcontour\"}], \"mesh3d\": [{\"colorbar\": {\"outlinewidth\": 0, \"ticks\": \"\"}, \"type\": \"mesh3d\"}], \"parcoords\": [{\"line\": {\"colorbar\": {\"outlinewidth\": 0, \"ticks\": \"\"}}, \"type\": \"parcoords\"}], \"pie\": [{\"automargin\": true, \"type\": \"pie\"}], \"scatter\": [{\"marker\": {\"colorbar\": {\"outlinewidth\": 0, \"ticks\": \"\"}}, \"type\": \"scatter\"}], \"scatter3d\": [{\"line\": {\"colorbar\": {\"outlinewidth\": 0, \"ticks\": \"\"}}, \"marker\": {\"colorbar\": {\"outlinewidth\": 0, \"ticks\": \"\"}}, \"type\": \"scatter3d\"}], \"scattercarpet\": [{\"marker\": {\"colorbar\": {\"outlinewidth\": 0, \"ticks\": \"\"}}, \"type\": \"scattercarpet\"}], \"scattergeo\": [{\"marker\": {\"colorbar\": {\"outlinewidth\": 0, \"ticks\": \"\"}}, \"type\": \"scattergeo\"}], \"scattergl\": [{\"marker\": {\"colorbar\": {\"outlinewidth\": 0, \"ticks\": \"\"}}, \"type\": \"scattergl\"}], \"scattermapbox\": [{\"marker\": {\"colorbar\": {\"outlinewidth\": 0, \"ticks\": \"\"}}, \"type\": \"scattermapbox\"}], \"scatterpolar\": [{\"marker\": {\"colorbar\": {\"outlinewidth\": 0, \"ticks\": \"\"}}, \"type\": \"scatterpolar\"}], \"scatterpolargl\": [{\"marker\": {\"colorbar\": {\"outlinewidth\": 0, \"ticks\": \"\"}}, \"type\": \"scatterpolargl\"}], \"scatterternary\": [{\"marker\": {\"colorbar\": {\"outlinewidth\": 0, \"ticks\": \"\"}}, \"type\": \"scatterternary\"}], \"surface\": [{\"colorbar\": {\"outlinewidth\": 0, \"ticks\": \"\"}, \"colorscale\": [[0.0, \"#0d0887\"], [0.1111111111111111, \"#46039f\"], [0.2222222222222222, \"#7201a8\"], [0.3333333333333333, \"#9c179e\"], [0.4444444444444444, \"#bd3786\"], [0.5555555555555556, \"#d8576b\"], [0.6666666666666666, \"#ed7953\"], [0.7777777777777778, \"#fb9f3a\"], [0.8888888888888888, \"#fdca26\"], [1.0, \"#f0f921\"]], \"type\": \"surface\"}], \"table\": [{\"cells\": {\"fill\": {\"color\": \"#EBF0F8\"}, \"line\": {\"color\": \"white\"}}, \"header\": {\"fill\": {\"color\": \"#C8D4E3\"}, \"line\": {\"color\": \"white\"}}, \"type\": \"table\"}]}, \"layout\": {\"annotationdefaults\": {\"arrowcolor\": \"#2a3f5f\", \"arrowhead\": 0, \"arrowwidth\": 1}, \"coloraxis\": {\"colorbar\": {\"outlinewidth\": 0, \"ticks\": \"\"}}, \"colorscale\": {\"diverging\": [[0, \"#8e0152\"], [0.1, \"#c51b7d\"], [0.2, \"#de77ae\"], [0.3, \"#f1b6da\"], [0.4, \"#fde0ef\"], [0.5, \"#f7f7f7\"], [0.6, \"#e6f5d0\"], [0.7, \"#b8e186\"], [0.8, \"#7fbc41\"], [0.9, \"#4d9221\"], [1, \"#276419\"]], \"sequential\": [[0.0, \"#0d0887\"], [0.1111111111111111, \"#46039f\"], [0.2222222222222222, \"#7201a8\"], [0.3333333333333333, \"#9c179e\"], [0.4444444444444444, \"#bd3786\"], [0.5555555555555556, \"#d8576b\"], [0.6666666666666666, \"#ed7953\"], [0.7777777777777778, \"#fb9f3a\"], [0.8888888888888888, \"#fdca26\"], [1.0, \"#f0f921\"]], \"sequentialminus\": [[0.0, \"#0d0887\"], [0.1111111111111111, \"#46039f\"], [0.2222222222222222, \"#7201a8\"], [0.3333333333333333, \"#9c179e\"], [0.4444444444444444, \"#bd3786\"], [0.5555555555555556, \"#d8576b\"], [0.6666666666666666, \"#ed7953\"], [0.7777777777777778, \"#fb9f3a\"], [0.8888888888888888, \"#fdca26\"], [1.0, \"#f0f921\"]]}, \"colorway\": [\"#636efa\", \"#EF553B\", \"#00cc96\", \"#ab63fa\", \"#FFA15A\", \"#19d3f3\", \"#FF6692\", \"#B6E880\", \"#FF97FF\", \"#FECB52\"], \"font\": {\"color\": \"#2a3f5f\"}, \"geo\": {\"bgcolor\": \"white\", \"lakecolor\": \"white\", \"landcolor\": \"#E5ECF6\", \"showlakes\": true, \"showland\": true, \"subunitcolor\": \"white\"}, \"hoverlabel\": {\"align\": \"left\"}, \"hovermode\": \"closest\", \"mapbox\": {\"style\": \"light\"}, \"paper_bgcolor\": \"white\", \"plot_bgcolor\": \"#E5ECF6\", \"polar\": {\"angularaxis\": {\"gridcolor\": \"white\", \"linecolor\": \"white\", \"ticks\": \"\"}, \"bgcolor\": \"#E5ECF6\", \"radialaxis\": {\"gridcolor\": \"white\", \"linecolor\": \"white\", \"ticks\": \"\"}}, \"scene\": {\"xaxis\": {\"backgroundcolor\": \"#E5ECF6\", \"gridcolor\": \"white\", \"gridwidth\": 2, \"linecolor\": \"white\", \"showbackground\": true, \"ticks\": \"\", \"zerolinecolor\": \"white\"}, \"yaxis\": {\"backgroundcolor\": \"#E5ECF6\", \"gridcolor\": \"white\", \"gridwidth\": 2, \"linecolor\": \"white\", \"showbackground\": true, \"ticks\": \"\", \"zerolinecolor\": \"white\"}, \"zaxis\": {\"backgroundcolor\": \"#E5ECF6\", \"gridcolor\": \"white\", \"gridwidth\": 2, \"linecolor\": \"white\", \"showbackground\": true, \"ticks\": \"\", \"zerolinecolor\": \"white\"}}, \"shapedefaults\": {\"line\": {\"color\": \"#2a3f5f\"}}, \"ternary\": {\"aaxis\": {\"gridcolor\": \"white\", \"linecolor\": \"white\", \"ticks\": \"\"}, \"baxis\": {\"gridcolor\": \"white\", \"linecolor\": \"white\", \"ticks\": \"\"}, \"bgcolor\": \"#E5ECF6\", \"caxis\": {\"gridcolor\": \"white\", \"linecolor\": \"white\", \"ticks\": \"\"}}, \"title\": {\"x\": 0.05}, \"xaxis\": {\"automargin\": true, \"gridcolor\": \"white\", \"linecolor\": \"white\", \"ticks\": \"\", \"title\": {\"standoff\": 15}, \"zerolinecolor\": \"white\", \"zerolinewidth\": 2}, \"yaxis\": {\"automargin\": true, \"gridcolor\": \"white\", \"linecolor\": \"white\", \"ticks\": \"\", \"title\": {\"standoff\": 15}, \"zerolinecolor\": \"white\", \"zerolinewidth\": 2}}}, \"title\": {\"text\": \"EOQ reorder time\"}, \"width\": 700, \"xaxis\": {\"title\": {\"text\": \"Time\"}}, \"yaxis\": {\"title\": {\"text\": \"Q\"}}},\n",
              "                        {\"responsive\": true}\n",
              "                    ).then(function(){\n",
              "                            \n",
              "var gd = document.getElementById('896a96e3-56e3-4b98-a7bd-a9614112b48f');\n",
              "var x = new MutationObserver(function (mutations, observer) {{\n",
              "        var display = window.getComputedStyle(gd).display;\n",
              "        if (!display || display === 'none') {{\n",
              "            console.log([gd, 'removed!']);\n",
              "            Plotly.purge(gd);\n",
              "            observer.disconnect();\n",
              "        }}\n",
              "}});\n",
              "\n",
              "// Listen for the removal of the full notebook cells\n",
              "var notebookContainer = gd.closest('#notebook-container');\n",
              "if (notebookContainer) {{\n",
              "    x.observe(notebookContainer, {childList: true});\n",
              "}}\n",
              "\n",
              "// Listen for the clearing of the current output cell\n",
              "var outputEl = gd.closest('.output');\n",
              "if (outputEl) {{\n",
              "    x.observe(outputEl, {childList: true});\n",
              "}}\n",
              "\n",
              "                        })\n",
              "                };\n",
              "                \n",
              "            </script>\n",
              "        </div>\n",
              "</body>\n",
              "</html>"
            ]
          },
          "metadata": {
            "tags": []
          }
        }
      ]
    },
    {
      "cell_type": "code",
      "metadata": {
        "colab": {
          "base_uri": "https://localhost:8080/",
          "height": 517
        },
        "id": "kg57s92qcyZV",
        "outputId": "61c9d273-0f9f-484c-b7b3-3c6a685c4825"
      },
      "source": [
        "from plotly.subplots import make_subplots\r\n",
        "import plotly.graph_objects as go\r\n",
        "\r\n",
        "D=300\r\n",
        "Q=D\r\n",
        "S=1600\r\n",
        "H=35/160*179\r\n",
        "\r\n",
        "q=np.arange(1,Q)\r\n",
        "y_holding=AHC(Q,H)\r\n",
        "y_ordering=AOC(D, S, Q)\r\n",
        "y_total=ATC(D, S, Q, H)\r\n",
        "\r\n",
        "y=[y_total, y_ordering, y_holding]\r\n",
        "names=['Total costs', 'Ordering costs', 'Holding costs']\r\n",
        "\r\n",
        "\r\n",
        "fig = make_subplots(rows=1, cols=2,\r\n",
        "                    subplot_titles=(\"EOQ calculation\", \"Stock cycle with reorder point\"))\r\n",
        "\r\n",
        "for i in range(3):\r\n",
        "  fig.add_trace(go.Scatter(x=q, y=y[i],\r\n",
        "                    mode='lines',\r\n",
        "                    name=names[i],),\r\n",
        "                    row=1,\r\n",
        "                    col=1)\r\n",
        "  fig.update_xaxes(title_text=\"Quantity\", row=1, col=1)\r\n",
        "  fig.update_yaxes(title_text=\"Costs\", row=1, col=1)\r\n",
        "  \r\n",
        "fig.add_trace(go.Scatter(x=df[\"Batch time\"], y=df[\"Batch q\"],\r\n",
        "                    mode='lines',\r\n",
        "                    name=\"Batches\"),\r\n",
        "                    row=1,\r\n",
        "                    col=2)\r\n",
        "\r\n",
        "fig.add_trace(go.Scatter(x=np.arange(0,366), y=np.ones(366)*20,\r\n",
        "                    mode='lines',\r\n",
        "                    name=\"Reorder point\"),\r\n",
        "                    row=1,\r\n",
        "                    col=2)\r\n",
        "fig.update_xaxes(title_text=\"Time\", row=1, col=2)\r\n",
        "fig.update_yaxes(title_text=\"Batch size\", row=1, col=2)\r\n",
        "\r\n",
        "# Edit the layout\r\n",
        "fig.update_layout(title='EOQ analysis',\r\n",
        "                   height=500,\r\n",
        "                   width=1200,\r\n",
        "                   xaxis={\"range\":[0,q.max()]},\r\n",
        "                   yaxis={\"range\":[0,y_total.mean()]})\r\n",
        "\r\n",
        "fig.show()"
      ],
      "execution_count": 265,
      "outputs": [
        {
          "output_type": "display_data",
          "data": {
            "text/html": [
              "<html>\n",
              "<head><meta charset=\"utf-8\" /></head>\n",
              "<body>\n",
              "    <div>\n",
              "            <script src=\"https://cdnjs.cloudflare.com/ajax/libs/mathjax/2.7.5/MathJax.js?config=TeX-AMS-MML_SVG\"></script><script type=\"text/javascript\">if (window.MathJax) {MathJax.Hub.Config({SVG: {font: \"STIX-Web\"}});}</script>\n",
              "                <script type=\"text/javascript\">window.PlotlyConfig = {MathJaxConfig: 'local'};</script>\n",
              "        <script src=\"https://cdn.plot.ly/plotly-latest.min.js\"></script>    \n",
              "            <div id=\"d727cd88-4a3d-4c8e-84cc-7148b75a39dd\" class=\"plotly-graph-div\" style=\"height:500px; width:1200px;\"></div>\n",
              "            <script type=\"text/javascript\">\n",
              "                \n",
              "                    window.PLOTLYENV=window.PLOTLYENV || {};\n",
              "                    \n",
              "                if (document.getElementById(\"d727cd88-4a3d-4c8e-84cc-7148b75a39dd\")) {\n",
              "                    Plotly.newPlot(\n",
              "                        'd727cd88-4a3d-4c8e-84cc-7148b75a39dd',\n",
              "                        [{\"mode\": \"lines\", \"name\": \"Total costs\", \"type\": \"scatter\", \"x\": [1, 2, 3, 4, 5, 6, 7, 8, 9, 10, 11, 12, 13, 14, 15, 16, 17, 18, 19, 20, 21, 22, 23, 24, 25, 26, 27, 28, 29, 30, 31, 32, 33, 34, 35, 36, 37, 38, 39, 40, 41, 42, 43, 44, 45, 46, 47, 48, 49, 50, 51, 52, 53, 54, 55, 56, 57, 58, 59, 60, 61, 62, 63, 64, 65, 66, 67, 68, 69, 70, 71, 72, 73, 74, 75, 76, 77, 78, 79, 80, 81, 82, 83, 84, 85, 86, 87, 88, 89, 90, 91, 92, 93, 94, 95, 96, 97, 98, 99, 100, 101, 102, 103, 104, 105, 106, 107, 108, 109, 110, 111, 112, 113, 114, 115, 116, 117, 118, 119, 120, 121, 122, 123, 124, 125, 126, 127, 128, 129, 130, 131, 132, 133, 134, 135, 136, 137, 138, 139, 140, 141, 142, 143, 144, 145, 146, 147, 148, 149, 150, 151, 152, 153, 154, 155, 156, 157, 158, 159, 160, 161, 162, 163, 164, 165, 166, 167, 168, 169, 170, 171, 172, 173, 174, 175, 176, 177, 178, 179, 180, 181, 182, 183, 184, 185, 186, 187, 188, 189, 190, 191, 192, 193, 194, 195, 196, 197, 198, 199, 200, 201, 202, 203, 204, 205, 206, 207, 208, 209, 210, 211, 212, 213, 214, 215, 216, 217, 218, 219, 220, 221, 222, 223, 224, 225, 226, 227, 228, 229, 230, 231, 232, 233, 234, 235, 236, 237, 238, 239, 240, 241, 242, 243, 244, 245, 246, 247, 248, 249, 250, 251, 252, 253, 254, 255, 256, 257, 258, 259, 260, 261, 262, 263, 264, 265, 266, 267, 268, 269, 270, 271, 272, 273, 274, 275, 276, 277, 278, 279, 280, 281, 282, 283, 284, 285, 286, 287, 288, 289, 290, 291, 292, 293, 294, 295, 296, 297, 298, 299], \"xaxis\": \"x\", \"y\": [480019.578125, 240039.15625, 160058.734375, 120078.3125, 96097.890625, 80117.46875, 68708.47544642857, 60156.625, 53509.536458333336, 48195.78125, 43851.72301136364, 40234.9375, 37177.59254807692, 34559.80803571428, 32293.671875, 30313.25, 28568.12224264706, 27019.072916666668, 25635.142269736843, 24391.5625, 23268.28348214286, 22248.90056818182, 21319.862092391304, 20469.875, 19689.453125, 18970.56971153846, 18306.387152777777, 17691.04464285714, 17119.489762931036, 16587.34375, 16090.792842741936, 15626.5, 15191.532670454546, 14783.30330882353, 14399.520089285714, 14038.145833333334, 13697.363597972973, 13375.547697368422, 13071.239182692309, 12783.125, 12510.020198170732, 12250.85267857143, 12004.650072674418, 11770.52840909091, 11547.682291666666, 11335.376358695652, 11132.937832446809, 10939.75, 10755.246492346938, 10578.90625, 10410.249080882353, 10248.83173076923, 10094.244398584906, 9946.107638888889, 9804.069602272728, 9667.80357142857, 9537.005756578947, 9411.393318965518, 9290.702595338982, 9174.6875, 9063.118084016394, 8955.779233870968, 8852.469494047618, 8753.0, 8657.193509615385, 8564.883522727272, 8475.913479477611, 8390.136029411766, 8307.412364130436, 8227.611607142857, 8150.61025528169, 8076.291666666667, 8004.545590753424, 7935.267736486487, 7868.359375, 7803.726973684211, 7741.281858766234, 7680.939903846154, 7622.621242088608, 7566.25, 7511.754050925926, 7459.064786585366, 7408.1169051204815, 7358.848214285715, 7311.199448529412, 7265.114098837209, 7220.538254310345, 7177.420454545455, 7135.711551966292, 7095.364583333333, 7056.334649725275, 7018.578804347826, 6982.055947580645, 6946.726728723404, 6912.553453947368, 6879.5, 6847.531733247422, 6816.615433673469, 6786.719223484848, 6757.8125, 6729.865872524752, 6702.851102941177, 6676.741049757282, 6651.509615384615, 6627.131696428572, 6603.583136792453, 6580.840683411215, 6558.881944444444, 6537.6853497706425, 6517.230113636364, 6497.496199324324, 6478.464285714285, 6460.115735619469, 6442.432565789473, 6425.397418478261, 6408.993534482759, 6393.2047275641025, 6378.015360169491, 6363.4103203781515, 6349.375, 6335.89527376033, 6322.957479508197, 6310.5483993902435, 6298.655241935484, 6287.265625, 6276.367559523809, 6265.949434055118, 6256.0, 6246.508357558139, 6237.463942307692, 6228.85651240458, 6220.676136363636, 6212.913181390977, 6205.5583022388055, 6198.602430555556, 6192.036764705883, 6185.852760036496, 6180.042119565218, 6174.596785071943, 6169.508928571428, 6164.770944148936, 6160.375440140845, 6156.315231643357, 6152.583333333334, 6149.1729525862065, 6146.077482876712, 6143.290497448979, 6140.805743243243, 6138.617135067114, 6136.71875, 6135.104822019868, 6133.769736842105, 6132.708026960785, 6131.914366883117, 6131.383568548387, 6131.110576923077, 6131.090465764331, 6131.318433544304, 6131.789799528302, 6132.5, 6133.444584627329, 6134.6192129629635, 6136.01965107362, 6137.641768292683, 6139.481534090909, 6141.535015060241, 6143.798372005987, 6146.267857142857, 6148.939811390533, 6151.810661764706, 6154.876918859649, 6158.135174418605, 6161.58209898844, 6165.214439655172, 6169.029017857143, 6173.022727272728, 6177.192531779661, 6181.535463483146, 6186.048620810056, 6190.729166666666, 6195.574326657459, 6200.5813873626375, 6205.747694672131, 6211.070652173913, 6216.547719594595, 6222.176411290322, 6227.954294786096, 6233.878989361702, 6239.94816468254, 6246.159539473684, 6252.510880235603, 6259.0, 6265.624757124353, 6272.383054123711, 6279.272836538461, 6286.2920918367345, 6293.4388483502535, 6300.711174242424, 6308.107176507538, 6315.625, 6323.262826492537, 6331.018873762376, 6338.891394704433, 6346.878676470588, 6354.979039634147, 6363.190837378641, 6371.512454710145, 6379.942307692308, 6388.478842703349, 6397.120535714286, 6405.865891587678, 6414.7134433962265, 6423.661751760563, 6432.709404205607, 6441.855014534884, 6451.097222222223, 6460.434691820276, 6469.866112385322, 6479.390196917808, 6489.005681818182, 6498.7113263574665, 6508.505912162162, 6518.388242713005, 6528.357142857143, 6538.411458333334, 6548.5500553097345, 6558.771819933921, 6569.075657894737, 6579.460493995633, 6589.92527173913, 6600.468952922078, 6611.0905172413795, 6621.788961909871, 6632.563301282051, 6643.412566489362, 6654.3358050847455, 6665.332080696203, 6676.400472689076, 6687.54007583682, 6698.75, 6710.029369813278, 6721.377324380165, 6732.793016975309, 6744.275614754099, 6755.824298469388, 6767.438262195122, 6779.11671305668, 6790.858870967742, 6802.663968373494, 6814.53125, 6826.459972609562, 6838.449404761905, 6850.498826581028, 6862.607529527559, 6874.77481617647, 6887.0, 6899.282405155642, 6911.62136627907, 6924.016228281853, 6936.466346153846, 6948.971084770115, 6961.52981870229, 6974.141932034221, 6986.806818181818, 6999.523879716981, 7012.292528195489, 7025.112183988764, 7037.982276119403, 7050.902242100372, 7063.871527777777, 7076.889587177122, 7089.955882352941, 7103.069883241758, 7116.231067518248, 7129.438920454546, 7142.692934782609, 7155.992610559567, 7169.337455035971, 7182.726982526881, 7196.160714285714, 7209.638178380783, 7223.1589095744675, 7236.722449204947, 7250.328345070422, 7263.976151315789, 7277.6654283216785, 7291.395742595819, 7305.166666666667, 7318.977778979239, 7332.828663793103, 7346.718911082475, 7360.648116438356, 7374.615880972697, 7388.62181122449, 7402.665519067797, 7416.746621621622, 7430.864741161617, 7445.019505033557, 7459.210545568561], \"yaxis\": \"y\"}, {\"mode\": \"lines\", \"name\": \"Ordering costs\", \"type\": \"scatter\", \"x\": [1, 2, 3, 4, 5, 6, 7, 8, 9, 10, 11, 12, 13, 14, 15, 16, 17, 18, 19, 20, 21, 22, 23, 24, 25, 26, 27, 28, 29, 30, 31, 32, 33, 34, 35, 36, 37, 38, 39, 40, 41, 42, 43, 44, 45, 46, 47, 48, 49, 50, 51, 52, 53, 54, 55, 56, 57, 58, 59, 60, 61, 62, 63, 64, 65, 66, 67, 68, 69, 70, 71, 72, 73, 74, 75, 76, 77, 78, 79, 80, 81, 82, 83, 84, 85, 86, 87, 88, 89, 90, 91, 92, 93, 94, 95, 96, 97, 98, 99, 100, 101, 102, 103, 104, 105, 106, 107, 108, 109, 110, 111, 112, 113, 114, 115, 116, 117, 118, 119, 120, 121, 122, 123, 124, 125, 126, 127, 128, 129, 130, 131, 132, 133, 134, 135, 136, 137, 138, 139, 140, 141, 142, 143, 144, 145, 146, 147, 148, 149, 150, 151, 152, 153, 154, 155, 156, 157, 158, 159, 160, 161, 162, 163, 164, 165, 166, 167, 168, 169, 170, 171, 172, 173, 174, 175, 176, 177, 178, 179, 180, 181, 182, 183, 184, 185, 186, 187, 188, 189, 190, 191, 192, 193, 194, 195, 196, 197, 198, 199, 200, 201, 202, 203, 204, 205, 206, 207, 208, 209, 210, 211, 212, 213, 214, 215, 216, 217, 218, 219, 220, 221, 222, 223, 224, 225, 226, 227, 228, 229, 230, 231, 232, 233, 234, 235, 236, 237, 238, 239, 240, 241, 242, 243, 244, 245, 246, 247, 248, 249, 250, 251, 252, 253, 254, 255, 256, 257, 258, 259, 260, 261, 262, 263, 264, 265, 266, 267, 268, 269, 270, 271, 272, 273, 274, 275, 276, 277, 278, 279, 280, 281, 282, 283, 284, 285, 286, 287, 288, 289, 290, 291, 292, 293, 294, 295, 296, 297, 298, 299], \"xaxis\": \"x\", \"y\": [480000.0, 240000.0, 160000.0, 120000.0, 96000.0, 80000.0, 68571.42857142857, 60000.0, 53333.333333333336, 48000.0, 43636.36363636364, 40000.0, 36923.07692307692, 34285.71428571428, 32000.0, 30000.0, 28235.29411764706, 26666.666666666668, 25263.157894736843, 24000.0, 22857.14285714286, 21818.18181818182, 20869.565217391304, 20000.0, 19200.0, 18461.53846153846, 17777.777777777777, 17142.85714285714, 16551.724137931036, 16000.0, 15483.870967741936, 15000.0, 14545.454545454546, 14117.64705882353, 13714.285714285714, 13333.333333333334, 12972.972972972973, 12631.578947368422, 12307.692307692309, 12000.0, 11707.317073170732, 11428.57142857143, 11162.790697674418, 10909.09090909091, 10666.666666666666, 10434.782608695652, 10212.765957446809, 10000.0, 9795.918367346938, 9600.0, 9411.764705882353, 9230.76923076923, 9056.603773584906, 8888.888888888889, 8727.272727272728, 8571.42857142857, 8421.052631578947, 8275.862068965518, 8135.593220338983, 8000.0, 7868.852459016393, 7741.935483870968, 7619.047619047619, 7500.0, 7384.615384615385, 7272.727272727273, 7164.179104477612, 7058.823529411765, 6956.521739130435, 6857.142857142857, 6760.56338028169, 6666.666666666667, 6575.342465753424, 6486.486486486487, 6400.0, 6315.789473684211, 6233.766233766234, 6153.846153846154, 6075.949367088608, 6000.0, 5925.925925925926, 5853.658536585366, 5783.1325301204815, 5714.285714285715, 5647.058823529412, 5581.395348837209, 5517.241379310345, 5454.545454545455, 5393.258426966292, 5333.333333333333, 5274.725274725275, 5217.391304347826, 5161.290322580645, 5106.382978723404, 5052.631578947368, 5000.0, 4948.453608247422, 4897.959183673469, 4848.484848484848, 4800.0, 4752.475247524752, 4705.882352941177, 4660.194174757282, 4615.384615384615, 4571.428571428572, 4528.301886792453, 4485.981308411215, 4444.444444444444, 4403.6697247706425, 4363.636363636364, 4324.324324324324, 4285.714285714285, 4247.787610619469, 4210.526315789473, 4173.913043478261, 4137.931034482759, 4102.5641025641025, 4067.7966101694915, 4033.6134453781515, 4000.0, 3966.9421487603304, 3934.4262295081967, 3902.439024390244, 3870.967741935484, 3840.0, 3809.5238095238096, 3779.527559055118, 3750.0, 3720.9302325581393, 3692.3076923076924, 3664.1221374045804, 3636.3636363636365, 3609.0225563909776, 3582.089552238806, 3555.5555555555557, 3529.4117647058824, 3503.6496350364964, 3478.2608695652175, 3453.2374100719426, 3428.5714285714284, 3404.255319148936, 3380.281690140845, 3356.6433566433566, 3333.3333333333335, 3310.344827586207, 3287.671232876712, 3265.3061224489797, 3243.2432432432433, 3221.4765100671143, 3200.0, 3178.8079470198677, 3157.8947368421054, 3137.2549019607845, 3116.883116883117, 3096.7741935483873, 3076.923076923077, 3057.3248407643314, 3037.974683544304, 3018.867924528302, 3000.0, 2981.3664596273293, 2962.962962962963, 2944.7852760736196, 2926.829268292683, 2909.090909090909, 2891.5662650602408, 2874.251497005988, 2857.1428571428573, 2840.2366863905327, 2823.529411764706, 2807.0175438596493, 2790.6976744186045, 2774.566473988439, 2758.6206896551726, 2742.8571428571427, 2727.2727272727275, 2711.864406779661, 2696.629213483146, 2681.564245810056, 2666.6666666666665, 2651.9337016574586, 2637.3626373626375, 2622.9508196721313, 2608.695652173913, 2594.5945945945946, 2580.6451612903224, 2566.8449197860964, 2553.191489361702, 2539.6825396825398, 2526.315789473684, 2513.089005235602, 2500.0, 2487.0466321243525, 2474.226804123711, 2461.5384615384614, 2448.9795918367345, 2436.548223350254, 2424.242424242424, 2412.0603015075376, 2400.0, 2388.0597014925374, 2376.237623762376, 2364.5320197044334, 2352.9411764705883, 2341.4634146341464, 2330.097087378641, 2318.840579710145, 2307.6923076923076, 2296.650717703349, 2285.714285714286, 2274.8815165876777, 2264.1509433962265, 2253.521126760563, 2242.9906542056074, 2232.5581395348836, 2222.222222222222, 2211.9815668202764, 2201.8348623853212, 2191.780821917808, 2181.818181818182, 2171.945701357466, 2162.162162162162, 2152.4663677130043, 2142.8571428571427, 2133.3333333333335, 2123.8938053097345, 2114.5374449339206, 2105.2631578947367, 2096.069868995633, 2086.9565217391305, 2077.9220779220777, 2068.9655172413795, 2060.0858369098714, 2051.2820512820513, 2042.5531914893618, 2033.8983050847457, 2025.3164556962026, 2016.8067226890757, 2008.36820083682, 2000.0, 1991.701244813278, 1983.4710743801652, 1975.3086419753085, 1967.2131147540983, 1959.1836734693877, 1951.219512195122, 1943.31983805668, 1935.483870967742, 1927.710843373494, 1920.0, 1912.3505976095616, 1904.7619047619048, 1897.2332015810277, 1889.763779527559, 1882.3529411764705, 1875.0, 1867.704280155642, 1860.4651162790697, 1853.2818532818533, 1846.1538461538462, 1839.0804597701149, 1832.0610687022902, 1825.0950570342206, 1818.1818181818182, 1811.3207547169811, 1804.5112781954888, 1797.752808988764, 1791.044776119403, 1784.3866171003717, 1777.7777777777778, 1771.2177121771217, 1764.7058823529412, 1758.2417582417581, 1751.8248175182482, 1745.4545454545455, 1739.1304347826087, 1732.8519855595669, 1726.6187050359713, 1720.4301075268818, 1714.2857142857142, 1708.1850533807828, 1702.127659574468, 1696.113074204947, 1690.1408450704225, 1684.2105263157894, 1678.3216783216783, 1672.4738675958188, 1666.6666666666667, 1660.8996539792388, 1655.1724137931035, 1649.4845360824743, 1643.835616438356, 1638.2252559726962, 1632.6530612244899, 1627.1186440677966, 1621.6216216216217, 1616.1616161616162, 1610.7382550335572, 1605.3511705685619], \"yaxis\": \"y\"}, {\"mode\": \"lines\", \"name\": \"Holding costs\", \"type\": \"scatter\", \"x\": [1, 2, 3, 4, 5, 6, 7, 8, 9, 10, 11, 12, 13, 14, 15, 16, 17, 18, 19, 20, 21, 22, 23, 24, 25, 26, 27, 28, 29, 30, 31, 32, 33, 34, 35, 36, 37, 38, 39, 40, 41, 42, 43, 44, 45, 46, 47, 48, 49, 50, 51, 52, 53, 54, 55, 56, 57, 58, 59, 60, 61, 62, 63, 64, 65, 66, 67, 68, 69, 70, 71, 72, 73, 74, 75, 76, 77, 78, 79, 80, 81, 82, 83, 84, 85, 86, 87, 88, 89, 90, 91, 92, 93, 94, 95, 96, 97, 98, 99, 100, 101, 102, 103, 104, 105, 106, 107, 108, 109, 110, 111, 112, 113, 114, 115, 116, 117, 118, 119, 120, 121, 122, 123, 124, 125, 126, 127, 128, 129, 130, 131, 132, 133, 134, 135, 136, 137, 138, 139, 140, 141, 142, 143, 144, 145, 146, 147, 148, 149, 150, 151, 152, 153, 154, 155, 156, 157, 158, 159, 160, 161, 162, 163, 164, 165, 166, 167, 168, 169, 170, 171, 172, 173, 174, 175, 176, 177, 178, 179, 180, 181, 182, 183, 184, 185, 186, 187, 188, 189, 190, 191, 192, 193, 194, 195, 196, 197, 198, 199, 200, 201, 202, 203, 204, 205, 206, 207, 208, 209, 210, 211, 212, 213, 214, 215, 216, 217, 218, 219, 220, 221, 222, 223, 224, 225, 226, 227, 228, 229, 230, 231, 232, 233, 234, 235, 236, 237, 238, 239, 240, 241, 242, 243, 244, 245, 246, 247, 248, 249, 250, 251, 252, 253, 254, 255, 256, 257, 258, 259, 260, 261, 262, 263, 264, 265, 266, 267, 268, 269, 270, 271, 272, 273, 274, 275, 276, 277, 278, 279, 280, 281, 282, 283, 284, 285, 286, 287, 288, 289, 290, 291, 292, 293, 294, 295, 296, 297, 298, 299], \"xaxis\": \"x\", \"y\": [19.578125, 39.15625, 58.734375, 78.3125, 97.890625, 117.46875, 137.046875, 156.625, 176.203125, 195.78125, 215.359375, 234.9375, 254.515625, 274.09375, 293.671875, 313.25, 332.828125, 352.40625, 371.984375, 391.5625, 411.140625, 430.71875, 450.296875, 469.875, 489.453125, 509.03125, 528.609375, 548.1875, 567.765625, 587.34375, 606.921875, 626.5, 646.078125, 665.65625, 685.234375, 704.8125, 724.390625, 743.96875, 763.546875, 783.125, 802.703125, 822.28125, 841.859375, 861.4375, 881.015625, 900.59375, 920.171875, 939.75, 959.328125, 978.90625, 998.484375, 1018.0625, 1037.640625, 1057.21875, 1076.796875, 1096.375, 1115.953125, 1135.53125, 1155.109375, 1174.6875, 1194.265625, 1213.84375, 1233.421875, 1253.0, 1272.578125, 1292.15625, 1311.734375, 1331.3125, 1350.890625, 1370.46875, 1390.046875, 1409.625, 1429.203125, 1448.78125, 1468.359375, 1487.9375, 1507.515625, 1527.09375, 1546.671875, 1566.25, 1585.828125, 1605.40625, 1624.984375, 1644.5625, 1664.140625, 1683.71875, 1703.296875, 1722.875, 1742.453125, 1762.03125, 1781.609375, 1801.1875, 1820.765625, 1840.34375, 1859.921875, 1879.5, 1899.078125, 1918.65625, 1938.234375, 1957.8125, 1977.390625, 1996.96875, 2016.546875, 2036.125, 2055.703125, 2075.28125, 2094.859375, 2114.4375, 2134.015625, 2153.59375, 2173.171875, 2192.75, 2212.328125, 2231.90625, 2251.484375, 2271.0625, 2290.640625, 2310.21875, 2329.796875, 2349.375, 2368.953125, 2388.53125, 2408.109375, 2427.6875, 2447.265625, 2466.84375, 2486.421875, 2506.0, 2525.578125, 2545.15625, 2564.734375, 2584.3125, 2603.890625, 2623.46875, 2643.046875, 2662.625, 2682.203125, 2701.78125, 2721.359375, 2740.9375, 2760.515625, 2780.09375, 2799.671875, 2819.25, 2838.828125, 2858.40625, 2877.984375, 2897.5625, 2917.140625, 2936.71875, 2956.296875, 2975.875, 2995.453125, 3015.03125, 3034.609375, 3054.1875, 3073.765625, 3093.34375, 3112.921875, 3132.5, 3152.078125, 3171.65625, 3191.234375, 3210.8125, 3230.390625, 3249.96875, 3269.546875, 3289.125, 3308.703125, 3328.28125, 3347.859375, 3367.4375, 3387.015625, 3406.59375, 3426.171875, 3445.75, 3465.328125, 3484.90625, 3504.484375, 3524.0625, 3543.640625, 3563.21875, 3582.796875, 3602.375, 3621.953125, 3641.53125, 3661.109375, 3680.6875, 3700.265625, 3719.84375, 3739.421875, 3759.0, 3778.578125, 3798.15625, 3817.734375, 3837.3125, 3856.890625, 3876.46875, 3896.046875, 3915.625, 3935.203125, 3954.78125, 3974.359375, 3993.9375, 4013.515625, 4033.09375, 4052.671875, 4072.25, 4091.828125, 4111.40625, 4130.984375, 4150.5625, 4170.140625, 4189.71875, 4209.296875, 4228.875, 4248.453125, 4268.03125, 4287.609375, 4307.1875, 4326.765625, 4346.34375, 4365.921875, 4385.5, 4405.078125, 4424.65625, 4444.234375, 4463.8125, 4483.390625, 4502.96875, 4522.546875, 4542.125, 4561.703125, 4581.28125, 4600.859375, 4620.4375, 4640.015625, 4659.59375, 4679.171875, 4698.75, 4718.328125, 4737.90625, 4757.484375, 4777.0625, 4796.640625, 4816.21875, 4835.796875, 4855.375, 4874.953125, 4894.53125, 4914.109375, 4933.6875, 4953.265625, 4972.84375, 4992.421875, 5012.0, 5031.578125, 5051.15625, 5070.734375, 5090.3125, 5109.890625, 5129.46875, 5149.046875, 5168.625, 5188.203125, 5207.78125, 5227.359375, 5246.9375, 5266.515625, 5286.09375, 5305.671875, 5325.25, 5344.828125, 5364.40625, 5383.984375, 5403.5625, 5423.140625, 5442.71875, 5462.296875, 5481.875, 5501.453125, 5521.03125, 5540.609375, 5560.1875, 5579.765625, 5599.34375, 5618.921875, 5638.5, 5658.078125, 5677.65625, 5697.234375, 5716.8125, 5736.390625, 5755.96875, 5775.546875, 5795.125, 5814.703125, 5834.28125, 5853.859375], \"yaxis\": \"y\"}, {\"mode\": \"lines\", \"name\": \"Batches\", \"type\": \"scatter\", \"x\": [1.0, 1.0, 183.0, 183.0, 365.0, 365.0], \"xaxis\": \"x2\", \"y\": [0.0, 157.0, 0.0, 157.0, 0.0, 157.0], \"yaxis\": \"y2\"}, {\"mode\": \"lines\", \"name\": \"Reorder point\", \"type\": \"scatter\", \"x\": [0, 1, 2, 3, 4, 5, 6, 7, 8, 9, 10, 11, 12, 13, 14, 15, 16, 17, 18, 19, 20, 21, 22, 23, 24, 25, 26, 27, 28, 29, 30, 31, 32, 33, 34, 35, 36, 37, 38, 39, 40, 41, 42, 43, 44, 45, 46, 47, 48, 49, 50, 51, 52, 53, 54, 55, 56, 57, 58, 59, 60, 61, 62, 63, 64, 65, 66, 67, 68, 69, 70, 71, 72, 73, 74, 75, 76, 77, 78, 79, 80, 81, 82, 83, 84, 85, 86, 87, 88, 89, 90, 91, 92, 93, 94, 95, 96, 97, 98, 99, 100, 101, 102, 103, 104, 105, 106, 107, 108, 109, 110, 111, 112, 113, 114, 115, 116, 117, 118, 119, 120, 121, 122, 123, 124, 125, 126, 127, 128, 129, 130, 131, 132, 133, 134, 135, 136, 137, 138, 139, 140, 141, 142, 143, 144, 145, 146, 147, 148, 149, 150, 151, 152, 153, 154, 155, 156, 157, 158, 159, 160, 161, 162, 163, 164, 165, 166, 167, 168, 169, 170, 171, 172, 173, 174, 175, 176, 177, 178, 179, 180, 181, 182, 183, 184, 185, 186, 187, 188, 189, 190, 191, 192, 193, 194, 195, 196, 197, 198, 199, 200, 201, 202, 203, 204, 205, 206, 207, 208, 209, 210, 211, 212, 213, 214, 215, 216, 217, 218, 219, 220, 221, 222, 223, 224, 225, 226, 227, 228, 229, 230, 231, 232, 233, 234, 235, 236, 237, 238, 239, 240, 241, 242, 243, 244, 245, 246, 247, 248, 249, 250, 251, 252, 253, 254, 255, 256, 257, 258, 259, 260, 261, 262, 263, 264, 265, 266, 267, 268, 269, 270, 271, 272, 273, 274, 275, 276, 277, 278, 279, 280, 281, 282, 283, 284, 285, 286, 287, 288, 289, 290, 291, 292, 293, 294, 295, 296, 297, 298, 299, 300, 301, 302, 303, 304, 305, 306, 307, 308, 309, 310, 311, 312, 313, 314, 315, 316, 317, 318, 319, 320, 321, 322, 323, 324, 325, 326, 327, 328, 329, 330, 331, 332, 333, 334, 335, 336, 337, 338, 339, 340, 341, 342, 343, 344, 345, 346, 347, 348, 349, 350, 351, 352, 353, 354, 355, 356, 357, 358, 359, 360, 361, 362, 363, 364, 365], \"xaxis\": \"x2\", \"y\": [20.0, 20.0, 20.0, 20.0, 20.0, 20.0, 20.0, 20.0, 20.0, 20.0, 20.0, 20.0, 20.0, 20.0, 20.0, 20.0, 20.0, 20.0, 20.0, 20.0, 20.0, 20.0, 20.0, 20.0, 20.0, 20.0, 20.0, 20.0, 20.0, 20.0, 20.0, 20.0, 20.0, 20.0, 20.0, 20.0, 20.0, 20.0, 20.0, 20.0, 20.0, 20.0, 20.0, 20.0, 20.0, 20.0, 20.0, 20.0, 20.0, 20.0, 20.0, 20.0, 20.0, 20.0, 20.0, 20.0, 20.0, 20.0, 20.0, 20.0, 20.0, 20.0, 20.0, 20.0, 20.0, 20.0, 20.0, 20.0, 20.0, 20.0, 20.0, 20.0, 20.0, 20.0, 20.0, 20.0, 20.0, 20.0, 20.0, 20.0, 20.0, 20.0, 20.0, 20.0, 20.0, 20.0, 20.0, 20.0, 20.0, 20.0, 20.0, 20.0, 20.0, 20.0, 20.0, 20.0, 20.0, 20.0, 20.0, 20.0, 20.0, 20.0, 20.0, 20.0, 20.0, 20.0, 20.0, 20.0, 20.0, 20.0, 20.0, 20.0, 20.0, 20.0, 20.0, 20.0, 20.0, 20.0, 20.0, 20.0, 20.0, 20.0, 20.0, 20.0, 20.0, 20.0, 20.0, 20.0, 20.0, 20.0, 20.0, 20.0, 20.0, 20.0, 20.0, 20.0, 20.0, 20.0, 20.0, 20.0, 20.0, 20.0, 20.0, 20.0, 20.0, 20.0, 20.0, 20.0, 20.0, 20.0, 20.0, 20.0, 20.0, 20.0, 20.0, 20.0, 20.0, 20.0, 20.0, 20.0, 20.0, 20.0, 20.0, 20.0, 20.0, 20.0, 20.0, 20.0, 20.0, 20.0, 20.0, 20.0, 20.0, 20.0, 20.0, 20.0, 20.0, 20.0, 20.0, 20.0, 20.0, 20.0, 20.0, 20.0, 20.0, 20.0, 20.0, 20.0, 20.0, 20.0, 20.0, 20.0, 20.0, 20.0, 20.0, 20.0, 20.0, 20.0, 20.0, 20.0, 20.0, 20.0, 20.0, 20.0, 20.0, 20.0, 20.0, 20.0, 20.0, 20.0, 20.0, 20.0, 20.0, 20.0, 20.0, 20.0, 20.0, 20.0, 20.0, 20.0, 20.0, 20.0, 20.0, 20.0, 20.0, 20.0, 20.0, 20.0, 20.0, 20.0, 20.0, 20.0, 20.0, 20.0, 20.0, 20.0, 20.0, 20.0, 20.0, 20.0, 20.0, 20.0, 20.0, 20.0, 20.0, 20.0, 20.0, 20.0, 20.0, 20.0, 20.0, 20.0, 20.0, 20.0, 20.0, 20.0, 20.0, 20.0, 20.0, 20.0, 20.0, 20.0, 20.0, 20.0, 20.0, 20.0, 20.0, 20.0, 20.0, 20.0, 20.0, 20.0, 20.0, 20.0, 20.0, 20.0, 20.0, 20.0, 20.0, 20.0, 20.0, 20.0, 20.0, 20.0, 20.0, 20.0, 20.0, 20.0, 20.0, 20.0, 20.0, 20.0, 20.0, 20.0, 20.0, 20.0, 20.0, 20.0, 20.0, 20.0, 20.0, 20.0, 20.0, 20.0, 20.0, 20.0, 20.0, 20.0, 20.0, 20.0, 20.0, 20.0, 20.0, 20.0, 20.0, 20.0, 20.0, 20.0, 20.0, 20.0, 20.0, 20.0, 20.0, 20.0, 20.0, 20.0, 20.0, 20.0, 20.0, 20.0, 20.0, 20.0, 20.0, 20.0, 20.0, 20.0, 20.0, 20.0, 20.0, 20.0, 20.0, 20.0, 20.0, 20.0, 20.0, 20.0, 20.0, 20.0, 20.0, 20.0, 20.0, 20.0, 20.0, 20.0, 20.0, 20.0, 20.0, 20.0, 20.0, 20.0, 20.0, 20.0, 20.0, 20.0, 20.0, 20.0], \"yaxis\": \"y2\"}],\n",
              "                        {\"annotations\": [{\"font\": {\"size\": 16}, \"showarrow\": false, \"text\": \"EOQ calculation\", \"x\": 0.225, \"xanchor\": \"center\", \"xref\": \"paper\", \"y\": 1.0, \"yanchor\": \"bottom\", \"yref\": \"paper\"}, {\"font\": {\"size\": 16}, \"showarrow\": false, \"text\": \"Stock cycle with reorder point\", \"x\": 0.775, \"xanchor\": \"center\", \"xref\": \"paper\", \"y\": 1.0, \"yanchor\": \"bottom\", \"yref\": \"paper\"}], \"height\": 500, \"template\": {\"data\": {\"bar\": [{\"error_x\": {\"color\": \"#2a3f5f\"}, \"error_y\": {\"color\": \"#2a3f5f\"}, \"marker\": {\"line\": {\"color\": \"#E5ECF6\", \"width\": 0.5}}, \"type\": \"bar\"}], \"barpolar\": [{\"marker\": {\"line\": {\"color\": \"#E5ECF6\", \"width\": 0.5}}, \"type\": \"barpolar\"}], \"carpet\": [{\"aaxis\": {\"endlinecolor\": \"#2a3f5f\", \"gridcolor\": \"white\", \"linecolor\": \"white\", \"minorgridcolor\": \"white\", \"startlinecolor\": \"#2a3f5f\"}, \"baxis\": {\"endlinecolor\": \"#2a3f5f\", \"gridcolor\": \"white\", \"linecolor\": \"white\", \"minorgridcolor\": \"white\", \"startlinecolor\": \"#2a3f5f\"}, \"type\": \"carpet\"}], \"choropleth\": [{\"colorbar\": {\"outlinewidth\": 0, \"ticks\": \"\"}, \"type\": \"choropleth\"}], \"contour\": [{\"colorbar\": {\"outlinewidth\": 0, \"ticks\": \"\"}, \"colorscale\": [[0.0, \"#0d0887\"], [0.1111111111111111, \"#46039f\"], [0.2222222222222222, \"#7201a8\"], [0.3333333333333333, \"#9c179e\"], [0.4444444444444444, \"#bd3786\"], [0.5555555555555556, \"#d8576b\"], [0.6666666666666666, \"#ed7953\"], [0.7777777777777778, \"#fb9f3a\"], [0.8888888888888888, \"#fdca26\"], [1.0, \"#f0f921\"]], \"type\": \"contour\"}], \"contourcarpet\": [{\"colorbar\": {\"outlinewidth\": 0, \"ticks\": \"\"}, \"type\": \"contourcarpet\"}], \"heatmap\": [{\"colorbar\": {\"outlinewidth\": 0, \"ticks\": \"\"}, \"colorscale\": [[0.0, \"#0d0887\"], [0.1111111111111111, \"#46039f\"], [0.2222222222222222, \"#7201a8\"], [0.3333333333333333, \"#9c179e\"], [0.4444444444444444, \"#bd3786\"], [0.5555555555555556, \"#d8576b\"], [0.6666666666666666, \"#ed7953\"], [0.7777777777777778, \"#fb9f3a\"], [0.8888888888888888, \"#fdca26\"], [1.0, \"#f0f921\"]], \"type\": \"heatmap\"}], \"heatmapgl\": [{\"colorbar\": {\"outlinewidth\": 0, \"ticks\": \"\"}, \"colorscale\": [[0.0, \"#0d0887\"], [0.1111111111111111, \"#46039f\"], [0.2222222222222222, \"#7201a8\"], [0.3333333333333333, \"#9c179e\"], [0.4444444444444444, \"#bd3786\"], [0.5555555555555556, \"#d8576b\"], [0.6666666666666666, \"#ed7953\"], [0.7777777777777778, \"#fb9f3a\"], [0.8888888888888888, \"#fdca26\"], [1.0, \"#f0f921\"]], \"type\": \"heatmapgl\"}], \"histogram\": [{\"marker\": {\"colorbar\": {\"outlinewidth\": 0, \"ticks\": \"\"}}, \"type\": \"histogram\"}], \"histogram2d\": [{\"colorbar\": {\"outlinewidth\": 0, \"ticks\": \"\"}, \"colorscale\": [[0.0, \"#0d0887\"], [0.1111111111111111, \"#46039f\"], [0.2222222222222222, \"#7201a8\"], [0.3333333333333333, \"#9c179e\"], [0.4444444444444444, \"#bd3786\"], [0.5555555555555556, \"#d8576b\"], [0.6666666666666666, \"#ed7953\"], [0.7777777777777778, \"#fb9f3a\"], [0.8888888888888888, \"#fdca26\"], [1.0, \"#f0f921\"]], \"type\": \"histogram2d\"}], \"histogram2dcontour\": [{\"colorbar\": {\"outlinewidth\": 0, \"ticks\": \"\"}, \"colorscale\": [[0.0, \"#0d0887\"], [0.1111111111111111, \"#46039f\"], [0.2222222222222222, \"#7201a8\"], [0.3333333333333333, \"#9c179e\"], [0.4444444444444444, \"#bd3786\"], [0.5555555555555556, \"#d8576b\"], [0.6666666666666666, \"#ed7953\"], [0.7777777777777778, \"#fb9f3a\"], [0.8888888888888888, \"#fdca26\"], [1.0, \"#f0f921\"]], \"type\": \"histogram2dcontour\"}], \"mesh3d\": [{\"colorbar\": {\"outlinewidth\": 0, \"ticks\": \"\"}, \"type\": \"mesh3d\"}], \"parcoords\": [{\"line\": {\"colorbar\": {\"outlinewidth\": 0, \"ticks\": \"\"}}, \"type\": \"parcoords\"}], \"pie\": [{\"automargin\": true, \"type\": \"pie\"}], \"scatter\": [{\"marker\": {\"colorbar\": {\"outlinewidth\": 0, \"ticks\": \"\"}}, \"type\": \"scatter\"}], \"scatter3d\": [{\"line\": {\"colorbar\": {\"outlinewidth\": 0, \"ticks\": \"\"}}, \"marker\": {\"colorbar\": {\"outlinewidth\": 0, \"ticks\": \"\"}}, \"type\": \"scatter3d\"}], \"scattercarpet\": [{\"marker\": {\"colorbar\": {\"outlinewidth\": 0, \"ticks\": \"\"}}, \"type\": \"scattercarpet\"}], \"scattergeo\": [{\"marker\": {\"colorbar\": {\"outlinewidth\": 0, \"ticks\": \"\"}}, \"type\": \"scattergeo\"}], \"scattergl\": [{\"marker\": {\"colorbar\": {\"outlinewidth\": 0, \"ticks\": \"\"}}, \"type\": \"scattergl\"}], \"scattermapbox\": [{\"marker\": {\"colorbar\": {\"outlinewidth\": 0, \"ticks\": \"\"}}, \"type\": \"scattermapbox\"}], \"scatterpolar\": [{\"marker\": {\"colorbar\": {\"outlinewidth\": 0, \"ticks\": \"\"}}, \"type\": \"scatterpolar\"}], \"scatterpolargl\": [{\"marker\": {\"colorbar\": {\"outlinewidth\": 0, \"ticks\": \"\"}}, \"type\": \"scatterpolargl\"}], \"scatterternary\": [{\"marker\": {\"colorbar\": {\"outlinewidth\": 0, \"ticks\": \"\"}}, \"type\": \"scatterternary\"}], \"surface\": [{\"colorbar\": {\"outlinewidth\": 0, \"ticks\": \"\"}, \"colorscale\": [[0.0, \"#0d0887\"], [0.1111111111111111, \"#46039f\"], [0.2222222222222222, \"#7201a8\"], [0.3333333333333333, \"#9c179e\"], [0.4444444444444444, \"#bd3786\"], [0.5555555555555556, \"#d8576b\"], [0.6666666666666666, \"#ed7953\"], [0.7777777777777778, \"#fb9f3a\"], [0.8888888888888888, \"#fdca26\"], [1.0, \"#f0f921\"]], \"type\": \"surface\"}], \"table\": [{\"cells\": {\"fill\": {\"color\": \"#EBF0F8\"}, \"line\": {\"color\": \"white\"}}, \"header\": {\"fill\": {\"color\": \"#C8D4E3\"}, \"line\": {\"color\": \"white\"}}, \"type\": \"table\"}]}, \"layout\": {\"annotationdefaults\": {\"arrowcolor\": \"#2a3f5f\", \"arrowhead\": 0, \"arrowwidth\": 1}, \"coloraxis\": {\"colorbar\": {\"outlinewidth\": 0, \"ticks\": \"\"}}, \"colorscale\": {\"diverging\": [[0, \"#8e0152\"], [0.1, \"#c51b7d\"], [0.2, \"#de77ae\"], [0.3, \"#f1b6da\"], [0.4, \"#fde0ef\"], [0.5, \"#f7f7f7\"], [0.6, \"#e6f5d0\"], [0.7, \"#b8e186\"], [0.8, \"#7fbc41\"], [0.9, \"#4d9221\"], [1, \"#276419\"]], \"sequential\": [[0.0, \"#0d0887\"], [0.1111111111111111, \"#46039f\"], [0.2222222222222222, \"#7201a8\"], [0.3333333333333333, \"#9c179e\"], [0.4444444444444444, \"#bd3786\"], [0.5555555555555556, \"#d8576b\"], [0.6666666666666666, \"#ed7953\"], [0.7777777777777778, \"#fb9f3a\"], [0.8888888888888888, \"#fdca26\"], [1.0, \"#f0f921\"]], \"sequentialminus\": [[0.0, \"#0d0887\"], [0.1111111111111111, \"#46039f\"], [0.2222222222222222, \"#7201a8\"], [0.3333333333333333, \"#9c179e\"], [0.4444444444444444, \"#bd3786\"], [0.5555555555555556, \"#d8576b\"], [0.6666666666666666, \"#ed7953\"], [0.7777777777777778, \"#fb9f3a\"], [0.8888888888888888, \"#fdca26\"], [1.0, \"#f0f921\"]]}, \"colorway\": [\"#636efa\", \"#EF553B\", \"#00cc96\", \"#ab63fa\", \"#FFA15A\", \"#19d3f3\", \"#FF6692\", \"#B6E880\", \"#FF97FF\", \"#FECB52\"], \"font\": {\"color\": \"#2a3f5f\"}, \"geo\": {\"bgcolor\": \"white\", \"lakecolor\": \"white\", \"landcolor\": \"#E5ECF6\", \"showlakes\": true, \"showland\": true, \"subunitcolor\": \"white\"}, \"hoverlabel\": {\"align\": \"left\"}, \"hovermode\": \"closest\", \"mapbox\": {\"style\": \"light\"}, \"paper_bgcolor\": \"white\", \"plot_bgcolor\": \"#E5ECF6\", \"polar\": {\"angularaxis\": {\"gridcolor\": \"white\", \"linecolor\": \"white\", \"ticks\": \"\"}, \"bgcolor\": \"#E5ECF6\", \"radialaxis\": {\"gridcolor\": \"white\", \"linecolor\": \"white\", \"ticks\": \"\"}}, \"scene\": {\"xaxis\": {\"backgroundcolor\": \"#E5ECF6\", \"gridcolor\": \"white\", \"gridwidth\": 2, \"linecolor\": \"white\", \"showbackground\": true, \"ticks\": \"\", \"zerolinecolor\": \"white\"}, \"yaxis\": {\"backgroundcolor\": \"#E5ECF6\", \"gridcolor\": \"white\", \"gridwidth\": 2, \"linecolor\": \"white\", \"showbackground\": true, \"ticks\": \"\", \"zerolinecolor\": \"white\"}, \"zaxis\": {\"backgroundcolor\": \"#E5ECF6\", \"gridcolor\": \"white\", \"gridwidth\": 2, \"linecolor\": \"white\", \"showbackground\": true, \"ticks\": \"\", \"zerolinecolor\": \"white\"}}, \"shapedefaults\": {\"line\": {\"color\": \"#2a3f5f\"}}, \"ternary\": {\"aaxis\": {\"gridcolor\": \"white\", \"linecolor\": \"white\", \"ticks\": \"\"}, \"baxis\": {\"gridcolor\": \"white\", \"linecolor\": \"white\", \"ticks\": \"\"}, \"bgcolor\": \"#E5ECF6\", \"caxis\": {\"gridcolor\": \"white\", \"linecolor\": \"white\", \"ticks\": \"\"}}, \"title\": {\"x\": 0.05}, \"xaxis\": {\"automargin\": true, \"gridcolor\": \"white\", \"linecolor\": \"white\", \"ticks\": \"\", \"title\": {\"standoff\": 15}, \"zerolinecolor\": \"white\", \"zerolinewidth\": 2}, \"yaxis\": {\"automargin\": true, \"gridcolor\": \"white\", \"linecolor\": \"white\", \"ticks\": \"\", \"title\": {\"standoff\": 15}, \"zerolinecolor\": \"white\", \"zerolinewidth\": 2}}}, \"title\": {\"text\": \"EOQ analysis\"}, \"width\": 1200, \"xaxis\": {\"anchor\": \"y\", \"domain\": [0.0, 0.45], \"range\": [0, 299], \"title\": {\"text\": \"Quantity\"}}, \"xaxis2\": {\"anchor\": \"y2\", \"domain\": [0.55, 1.0], \"title\": {\"text\": \"Time\"}}, \"yaxis\": {\"anchor\": \"x\", \"domain\": [0.0, 1.0], \"range\": [0, 13017.24939395907], \"title\": {\"text\": \"Costs\"}}, \"yaxis2\": {\"anchor\": \"x2\", \"domain\": [0.0, 1.0], \"title\": {\"text\": \"Batch size\"}}},\n",
              "                        {\"responsive\": true}\n",
              "                    ).then(function(){\n",
              "                            \n",
              "var gd = document.getElementById('d727cd88-4a3d-4c8e-84cc-7148b75a39dd');\n",
              "var x = new MutationObserver(function (mutations, observer) {{\n",
              "        var display = window.getComputedStyle(gd).display;\n",
              "        if (!display || display === 'none') {{\n",
              "            console.log([gd, 'removed!']);\n",
              "            Plotly.purge(gd);\n",
              "            observer.disconnect();\n",
              "        }}\n",
              "}});\n",
              "\n",
              "// Listen for the removal of the full notebook cells\n",
              "var notebookContainer = gd.closest('#notebook-container');\n",
              "if (notebookContainer) {{\n",
              "    x.observe(notebookContainer, {childList: true});\n",
              "}}\n",
              "\n",
              "// Listen for the clearing of the current output cell\n",
              "var outputEl = gd.closest('.output');\n",
              "if (outputEl) {{\n",
              "    x.observe(outputEl, {childList: true});\n",
              "}}\n",
              "\n",
              "                        })\n",
              "                };\n",
              "                \n",
              "            </script>\n",
              "        </div>\n",
              "</body>\n",
              "</html>"
            ]
          },
          "metadata": {
            "tags": []
          }
        }
      ]
    },
    {
      "cell_type": "code",
      "metadata": {
        "id": "A-c83MAneakR"
      },
      "source": [
        ""
      ],
      "execution_count": null,
      "outputs": []
    }
  ]
}