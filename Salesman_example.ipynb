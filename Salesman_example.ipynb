{
 "cells": [
  {
   "cell_type": "markdown",
   "metadata": {},
   "source": [
    "# Algoritmo Genético"
   ]
  },
  {
   "cell_type": "code",
   "execution_count": 19,
   "metadata": {},
   "outputs": [],
   "source": [
    "import numpy as np, random, operator, pandas as pd, matplotlib.pyplot as plt"
   ]
  },
  {
   "cell_type": "code",
   "execution_count": 20,
   "metadata": {},
   "outputs": [],
   "source": [
    "# Clase para poder crear ciudades con sus correspondientes coordenadas en (x,y)\n",
    "# Esta clase contiene un método para determinar la distancia con respecto a otra ciudad\n",
    "class City:\n",
    "    def __init__(self, x, y):\n",
    "        self.x = x\n",
    "        self.y = y\n",
    "    \n",
    "    def distance(self, city):\n",
    "        # Calculará la distancia Pitagórica entre 2 puntos\n",
    "        xDis = abs(self.x - city.x)\n",
    "        yDis = abs(self.y - city.y)\n",
    "        distance = np.sqrt((xDis ** 2) + (yDis ** 2))\n",
    "        return distance\n",
    "    \n",
    "    def __repr__(self):\n",
    "        # Este método cambia la representación de los objetos creados. Esto será útil\n",
    "        # para cuando las ciudades creadas sean ingresadas a listas.\n",
    "        return \"(\" + str(self.x) + \",\" + str(self.y) + \")\""
   ]
  },
  {
   "cell_type": "code",
   "execution_count": 21,
   "metadata": {},
   "outputs": [
    {
     "name": "stdout",
     "output_type": "stream",
     "text": [
      "(2,3)\n",
      "[(2,3)]\n"
     ]
    }
   ],
   "source": [
    "# Estas líneas muestran el resultado de cambiar/no cambiar el método __repr__\n",
    "ciudad_a=City(2,3)\n",
    "print(ciudad_a.__repr__())\n",
    "ejemplo=[]\n",
    "ejemplo.append(ciudad_a)\n",
    "print(ejemplo)"
   ]
  },
  {
   "cell_type": "markdown",
   "metadata": {},
   "source": [
    "A continuación se muestra como funciona la clase City:"
   ]
  },
  {
   "cell_type": "code",
   "execution_count": 22,
   "metadata": {},
   "outputs": [],
   "source": [
    "# Creamos 2 ciudades random\n",
    "ciudad_a=City(2,3)\n",
    "ciudad_b=City(-5,-7)"
   ]
  },
  {
   "cell_type": "code",
   "execution_count": 23,
   "metadata": {},
   "outputs": [
    {
     "data": {
      "text/plain": [
       "{'x': 2, 'y': 3}"
      ]
     },
     "execution_count": 23,
     "metadata": {},
     "output_type": "execute_result"
    }
   ],
   "source": [
    "# Verificamos la posición de la ciudad\n",
    "vars(ciudad_a)"
   ]
  },
  {
   "cell_type": "code",
   "execution_count": 24,
   "metadata": {},
   "outputs": [
    {
     "data": {
      "text/plain": [
       "{'x': -5, 'y': -7}"
      ]
     },
     "execution_count": 24,
     "metadata": {},
     "output_type": "execute_result"
    }
   ],
   "source": [
    "vars(ciudad_b)"
   ]
  },
  {
   "cell_type": "code",
   "execution_count": 25,
   "metadata": {},
   "outputs": [
    {
     "data": {
      "image/png": "[encoded data removed]",
      "text/plain": [
       "<Figure size 432x288 with 1 Axes>"
      ]
     },
     "metadata": {
      "needs_background": "light"
     },
     "output_type": "display_data"
    }
   ],
   "source": [
    "plt.plot(ciudad_a.x,ciudad_a.y, marker='o', markersize=5, color=\"red\")\n",
    "plt.plot(ciudad_b.x,ciudad_b.y, marker='o', markersize=5, color=\"blue\")\n",
    "plt.plot([ciudad_a.x, ciudad_b.x],[ciudad_a.y, ciudad_b.y], color=\"green\", linestyle=\"--\")\n",
    "plt.title(\"Distancia entre 2 ciudades\")\n",
    "plt.show()"
   ]
  },
  {
   "cell_type": "code",
   "execution_count": 26,
   "metadata": {},
   "outputs": [
    {
     "data": {
      "text/plain": [
       "12.206555615733702"
      ]
     },
     "execution_count": 26,
     "metadata": {},
     "output_type": "execute_result"
    }
   ],
   "source": [
    "# Revisamos la distancia entre a y b\n",
    "ciudad_a.distance(ciudad_b)"
   ]
  },
  {
   "cell_type": "code",
   "execution_count": 27,
   "metadata": {
    "scrolled": true
   },
   "outputs": [
    {
     "data": {
      "text/plain": [
       "12.206555615733702"
      ]
     },
     "execution_count": 27,
     "metadata": {},
     "output_type": "execute_result"
    }
   ],
   "source": [
    "# La distancia debe ser la misma de b hacia a\n",
    "ciudad_b.distance(ciudad_a)"
   ]
  },
  {
   "cell_type": "markdown",
   "metadata": {},
   "source": [
    "## Valor de ajuste"
   ]
  },
  {
   "cell_type": "markdown",
   "metadata": {},
   "source": [
    "El siguiente paso, es crear el valor de ajuste para cada una de las ciudades. Dicho valor será igual al **inverso de la distancia entre las ciudades**. Esto a razón de que mientras mas cercanas estén las ciudades, mayor será el nivel de ajuste entre dichas ciudades y por lo tanto más óptima sería esa ruta. Por el contrario, mientras más alejadas estén las ciudades, mayor será el nivel de ajuste, y el nivel óptimo de la solución disminuye."
   ]
  },
  {
   "cell_type": "markdown",
   "metadata": {},
   "source": [
    "Puesto que la ruta óptima, estará compuesta por la suma de las distancias recorridas entre cada una de las ciudades, se crea una clase que servirá para calcular el nivel de ajuste entre cada una de las soluciones propuestas para rutas óptimas."
   ]
  },
  {
   "cell_type": "code",
   "execution_count": 28,
   "metadata": {},
   "outputs": [],
   "source": [
    "class Fitness:\n",
    "    def __init__(self, route):\n",
    "        self.route = route\n",
    "        self.total_distance = 0\n",
    "        self.fitness= 0.0\n",
    "    \n",
    "    def routeDistance(self):\n",
    "        # Método que sumará la distancia entre ciudades y de la última al inicio\n",
    "        if self.total_distance ==0:\n",
    "            pathDistance = 0\n",
    "            for i in range(0, len(self.route)):\n",
    "                fromCity = self.route[i]\n",
    "                toCity = None\n",
    "                if i + 1 < len(self.route):\n",
    "                    toCity = self.route[i + 1]\n",
    "                else:\n",
    "                    toCity = self.route[0]\n",
    "                pathDistance += fromCity.distance(toCity)\n",
    "            self.total_distance = pathDistance\n",
    "        return self.total_distance\n",
    "    \n",
    "    def routeFitness(self):\n",
    "        # Método que calculará el valor de ajuste\n",
    "        if self.fitness == 0:\n",
    "            self.fitness = 1 / float(self.routeDistance())\n",
    "        return self.fitness"
   ]
  },
  {
   "cell_type": "markdown",
   "metadata": {},
   "source": [
    "Para poder comprobar el funcionamiento de la clase anterior, habrá que crear una ruta de ciudades para determinar su nivel de ajuste:"
   ]
  },
  {
   "cell_type": "code",
   "execution_count": 29,
   "metadata": {},
   "outputs": [],
   "source": [
    "# Loop para crear 5 objetos ciudad:\n",
    "for i in range(1, 6):\n",
    "    x=np.random.randint(-5,5)\n",
    "    y=np.random.randint(-5,5)\n",
    "    globals()[\"Ciudad_\"+str(i)]= City(x,y)"
   ]
  },
  {
   "cell_type": "code",
   "execution_count": 30,
   "metadata": {},
   "outputs": [
    {
     "data": {
      "text/plain": [
       "((-4,-4), (-4,-2), (4,-2), (-3,0), (4,-3))"
      ]
     },
     "execution_count": 30,
     "metadata": {},
     "output_type": "execute_result"
    }
   ],
   "source": [
    "Ciudad_1, Ciudad_2, Ciudad_3, Ciudad_4, Ciudad_5"
   ]
  },
  {
   "cell_type": "code",
   "execution_count": 31,
   "metadata": {},
   "outputs": [
    {
     "name": "stdout",
     "output_type": "stream",
     "text": [
      "La suma total de las distancias entre la Ciudad 1 y la Ciudad5:\t 32.958140743442975\n",
      "Inverso de la distanciatotal, valor de ajuste:\t\t\t 3.03%\n"
     ]
    }
   ],
   "source": [
    "d1=Ciudad_1.distance(Ciudad_2)\n",
    "d2=Ciudad_2.distance(Ciudad_3)\n",
    "d3=Ciudad_3.distance(Ciudad_4)\n",
    "d4=Ciudad_4.distance(Ciudad_5)\n",
    "d5=Ciudad_5.distance(Ciudad_1)\n",
    "dT=d1+d2+d3+d4+d5\n",
    "a=(1/dT)\n",
    "print(\"La suma total de las distancias entre la Ciudad 1 y la Ciudad5:\\t\",dT)\n",
    "print(\"Inverso de la distanciatotal, valor de ajuste:\\t\\t\\t\",f\"{a:.2%}\")"
   ]
  },
  {
   "cell_type": "code",
   "execution_count": 32,
   "metadata": {},
   "outputs": [],
   "source": [
    "# Creamos una ruta con cada una de los objeto Ciudad_\n",
    "ruta=[]\n",
    "for i in range(1, 6):\n",
    "    ruta.append(globals()[\"Ciudad_{}\".format(i)])"
   ]
  },
  {
   "cell_type": "code",
   "execution_count": 33,
   "metadata": {
    "scrolled": true
   },
   "outputs": [
    {
     "data": {
      "text/plain": [
       "[(-4,-4), (-4,-2), (4,-2), (-3,0), (4,-3)]"
      ]
     },
     "execution_count": 33,
     "metadata": {},
     "output_type": "execute_result"
    }
   ],
   "source": [
    "ruta"
   ]
  },
  {
   "cell_type": "code",
   "execution_count": 34,
   "metadata": {
    "scrolled": true
   },
   "outputs": [
    {
     "name": "stdout",
     "output_type": "stream",
     "text": [
      "Valor de ajuste obtenido de la clase Fitness:\t 3.03%\n"
     ]
    }
   ],
   "source": [
    "ajuste=Fitness(ruta)\n",
    "print(\"Valor de ajuste obtenido de la clase Fitness:\\t\",f\"{ajuste.routeFitness():.2%}\")"
   ]
  },
  {
   "cell_type": "code",
   "execution_count": 81,
   "metadata": {},
   "outputs": [],
   "source": [
    "# Mapa mostrando los puntos que debe reccorer el vendedor:\n",
    "def mapping_route(route, user_ax):\n",
    "    x_min, x_max = 0,0\n",
    "    y_min, y_max = 0,0\n",
    "    for i,city in enumerate(route,1):\n",
    "        user_ax.plot(city.x,city.y,marker='o', markersize=5, color=\"red\")\n",
    "        user_ax.annotate(i,(city.x*1.1,city.y*1.1))\n",
    "        if city.x<x_min:\n",
    "            x_min=city.x\n",
    "        if city.x>x_max:\n",
    "            x_max=city.x\n",
    "        if city.y<y_min:\n",
    "            y_min=city.y\n",
    "        if city.y>y_max:\n",
    "            y_max=city.y\n",
    "    user_ax.set_xlim([x_min*1.25, x_max*1.25])\n",
    "    user_ax.set_ylim([y_min*1.25, y_max*1.25])\n",
    "    return user_ax"
   ]
  },
  {
   "cell_type": "code",
   "execution_count": 82,
   "metadata": {},
   "outputs": [
    {
     "data": {
      "image/png": "[encoded data removed]",
      "text/plain": [
       "<Figure size 432x288 with 1 Axes>"
      ]
     },
     "metadata": {
      "needs_background": "light"
     },
     "output_type": "display_data"
    }
   ],
   "source": [
    "fig, axs=plt.subplots()\n",
    "mapping_route(ruta, axs)\n",
    "axs.set_ylim([-5,1])\n",
    "plt.show()"
   ]
  },
  {
   "cell_type": "code",
   "execution_count": 115,
   "metadata": {},
   "outputs": [],
   "source": [
    "def walked_route(selected_route, user_ax):\n",
    "    user_ax=mapping_route(selected_route, user_ax)\n",
    "    X=[city.x for city in selected_route]\n",
    "    Y=[city.y for city in selected_route]\n",
    "    X.append(X[0])\n",
    "    Y.append(Y[0])\n",
    "    user_ax.plot(X,Y)\n",
    "    return user_ax"
   ]
  },
  {
   "cell_type": "code",
   "execution_count": 116,
   "metadata": {},
   "outputs": [
    {
     "data": {
      "image/png": "[encoded data removed]",
      "text/plain": [
       "<Figure size 432x288 with 1 Axes>"
      ]
     },
     "metadata": {
      "needs_background": "light"
     },
     "output_type": "display_data"
    }
   ],
   "source": [
    "fig, axs=plt.subplots()\n",
    "walked_route(ruta, axs)\n",
    "axs.set_ylim([-5,1])\n",
    "plt.show()"
   ]
  },
  {
   "cell_type": "markdown",
   "metadata": {},
   "source": [
    "El siguiente elemento, es para cambiar el orden en el que las ciudades fueron ingresadas en la ruta original. De este modo se obitenen alternativas de ruta para recorrer todas las ciudades."
   ]
  },
  {
   "cell_type": "code",
   "execution_count": 99,
   "metadata": {},
   "outputs": [
    {
     "data": {
      "text/plain": [
       "[(-4,-4), (-4,-2), (4,-2), (-3,0), (4,-3)]"
      ]
     },
     "execution_count": 99,
     "metadata": {},
     "output_type": "execute_result"
    }
   ],
   "source": [
    "# Ruta original\n",
    "ruta"
   ]
  },
  {
   "cell_type": "code",
   "execution_count": 100,
   "metadata": {},
   "outputs": [],
   "source": [
    "def createRoute(cityList):\n",
    "    # El método random.sample crea muestras aleatorias de alguna estructura de datos.\n",
    "    # En este caso al decirle que use la misma longitud que la original, lo único que\n",
    "    # hará es cambiar los elementos de posición de manera aleatoria.\n",
    "    route = random.sample(cityList, len(cityList))\n",
    "    return route"
   ]
  },
  {
   "cell_type": "code",
   "execution_count": 101,
   "metadata": {},
   "outputs": [
    {
     "data": {
      "text/plain": [
       "[(-4,-4), (4,-3), (-3,0), (-4,-2), (4,-2)]"
      ]
     },
     "execution_count": 101,
     "metadata": {},
     "output_type": "execute_result"
    }
   ],
   "source": [
    "# Ruta alternativa\n",
    "createRoute(ruta)"
   ]
  },
  {
   "cell_type": "code",
   "execution_count": 118,
   "metadata": {
    "scrolled": true
   },
   "outputs": [
    {
     "data": {
      "image/png": "[encoded data removed]",
      "text/plain": [
       "<Figure size 432x288 with 1 Axes>"
      ]
     },
     "metadata": {
      "needs_background": "light"
     },
     "output_type": "display_data"
    }
   ],
   "source": [
    "fig, axs=plt.subplots()\n",
    "walked_route(createRoute(ruta), axs)\n",
    "axs.set_ylim([-5,1])\n",
    "plt.show()"
   ]
  },
  {
   "cell_type": "code",
   "execution_count": 119,
   "metadata": {},
   "outputs": [],
   "source": [
    "# Creando una matriz de distancias para ejemplificar mejor el problema\n",
    "def distance_matrix(route):\n",
    "    matriz=np.zeros((len(route),len(route)))\n",
    "    for i in range(matriz.shape[0]):\n",
    "        X=route[i]\n",
    "        for j in range(matriz.shape[1]):\n",
    "            Y=route[j]\n",
    "            matriz[i][j]=X.distance(Y)\n",
    "    filas=[\"Ciudad\"+str(i+1) for i in range(matriz.shape[0])]\n",
    "    columnas=[\"Ciudad\"+str(i+1) for i in range(matriz.shape[1])]\n",
    "    df = pd.DataFrame(data=matriz, index=filas, columns=columnas)\n",
    "    return df"
   ]
  },
  {
   "cell_type": "code",
   "execution_count": 121,
   "metadata": {},
   "outputs": [
    {
     "name": "stdout",
     "output_type": "stream",
     "text": [
      "[(-4,-4), (-4,-2), (4,-2), (-3,0), (4,-3)]\n",
      "          Ciudad1   Ciudad2   Ciudad3   Ciudad4   Ciudad5\n",
      "Ciudad1  0.000000  2.000000  8.246211  4.123106  8.062258\n",
      "Ciudad2  2.000000  0.000000  8.000000  2.236068  8.062258\n",
      "Ciudad3  8.246211  8.000000  0.000000  7.280110  1.000000\n",
      "Ciudad4  4.123106  2.236068  7.280110  0.000000  7.615773\n",
      "Ciudad5  8.062258  8.062258  1.000000  7.615773  0.000000\n"
     ]
    }
   ],
   "source": [
    "print(ruta)\n",
    "print(distance_matrix(ruta))"
   ]
  },
  {
   "cell_type": "markdown",
   "metadata": {},
   "source": [
    "## Creando la población"
   ]
  },
  {
   "cell_type": "markdown",
   "metadata": {},
   "source": [
    "El siguiente elemento del algoritmo genético, es crear la población de soluciones. Esta población de solución será la primera generación de soluciones. Cada una de ellas es una alternativa válida para solucionar el problema."
   ]
  },
  {
   "cell_type": "code",
   "execution_count": 45,
   "metadata": {},
   "outputs": [],
   "source": [
    "def initialPopulation(popSize, cityList):\n",
    "    population = []\n",
    "\n",
    "    for i in range(0, popSize):\n",
    "        population.append(createRoute(cityList))\n",
    "    return population"
   ]
  },
  {
   "cell_type": "code",
   "execution_count": 144,
   "metadata": {
    "scrolled": true
   },
   "outputs": [
    {
     "data": {
      "text/plain": [
       "[[(4,-2), (-4,-2), (-3,0), (-4,-4), (4,-3)],\n",
       " [(-4,-2), (4,-3), (-3,0), (-4,-4), (4,-2)],\n",
       " [(-4,-4), (-4,-2), (4,-2), (-3,0), (4,-3)],\n",
       " [(-4,-4), (4,-3), (-3,0), (4,-2), (-4,-2)],\n",
       " [(4,-3), (4,-2), (-4,-2), (-4,-4), (-3,0)],\n",
       " [(-4,-4), (-3,0), (4,-2), (-4,-2), (4,-3)],\n",
       " [(4,-2), (-3,0), (-4,-4), (-4,-2), (4,-3)],\n",
       " [(-4,-2), (4,-3), (4,-2), (-4,-4), (-3,0)],\n",
       " [(-4,-2), (-3,0), (4,-3), (-4,-4), (4,-2)],\n",
       " [(-3,0), (-4,-4), (4,-3), (4,-2), (-4,-2)],\n",
       " [(4,-2), (4,-3), (-4,-4), (-3,0), (-4,-2)],\n",
       " [(-4,-2), (-4,-4), (4,-3), (-3,0), (4,-2)],\n",
       " [(-3,0), (4,-3), (-4,-4), (-4,-2), (4,-2)],\n",
       " [(4,-3), (-4,-4), (-4,-2), (4,-2), (-3,0)],\n",
       " [(-4,-2), (4,-3), (-3,0), (4,-2), (-4,-4)],\n",
       " [(-4,-4), (-3,0), (4,-2), (4,-3), (-4,-2)]]"
      ]
     },
     "execution_count": 144,
     "metadata": {},
     "output_type": "execute_result"
    }
   ],
   "source": [
    "# Supongamos que queremos crear una población de 10 soluciones:\n",
    "poblacion=initialPopulation(16,ruta)\n",
    "poblacion"
   ]
  },
  {
   "cell_type": "code",
   "execution_count": 145,
   "metadata": {},
   "outputs": [
    {
     "data": {
      "image/png": "[encoded data removed]",
      "text/plain": [
       "<Figure size 1152x1152 with 16 Axes>"
      ]
     },
     "metadata": {
      "needs_background": "light"
     },
     "output_type": "display_data"
    }
   ],
   "source": [
    "fig, axs= plt.subplots(4,4, figsize=(16,16))\n",
    "for i, ax in enumerate(axs.flatten()):\n",
    "    walked_route(poblacion[i], ax)\n",
    "    ax.set_ylim([-5,1])"
   ]
  },
  {
   "cell_type": "markdown",
   "metadata": {},
   "source": [
    "## Rankeando las soluciones"
   ]
  },
  {
   "cell_type": "markdown",
   "metadata": {},
   "source": [
    "Cada una de esas rutas, es una alternativa válida para solucionar el problema. Sin embargo hay que considerar aquellas que tengan los valores de ajuste mayores, por tratarse de las rutas de menor distancia."
   ]
  },
  {
   "cell_type": "code",
   "execution_count": 146,
   "metadata": {},
   "outputs": [],
   "source": [
    "def rankRoutes(population):\n",
    "    # Diccionario que contendrá los cálculos de ajuste de cada ruta\n",
    "    fitnessResults = {}\n",
    "    # Ciclo que calcula los ajustes para cada una de las rutas\n",
    "    for i in range(0,len(population)):\n",
    "        fitnessResults[i] = Fitness(population[i]).routeFitness()\n",
    "    # El resultado final, será una lista generada por el método sorted\n",
    "    # Dicha lista estará ordenada de mayor a menor, considerando el \n",
    "    # valor de ajuste y no el del índice de la ruta.\n",
    "    return sorted(fitnessResults.items(), key = operator.itemgetter(1), reverse = True)"
   ]
  },
  {
   "cell_type": "code",
   "execution_count": 158,
   "metadata": {},
   "outputs": [
    {
     "data": {
      "text/plain": [
       "[(6, 0.04451275022272577),\n",
       " (15, 0.04451275022272577),\n",
       " (4, 0.04397754224422323),\n",
       " (0, 0.04269593881757114),\n",
       " (9, 0.04269593881757114),\n",
       " (10, 0.04269593881757114),\n",
       " (7, 0.042251778801492335),\n",
       " (2, 0.030341517374548807),\n",
       " (3, 0.030341517374548807),\n",
       " (11, 0.030341517374548807),\n",
       " (12, 0.030341517374548807),\n",
       " (13, 0.030341517374548807),\n",
       " (14, 0.030116534126619042),\n",
       " (8, 0.029273738955333785),\n",
       " (5, 0.02814702688658733),\n",
       " (1, 0.027741292021315388)]"
      ]
     },
     "execution_count": 158,
     "metadata": {},
     "output_type": "execute_result"
    }
   ],
   "source": [
    "ranking=rankRoutes(poblacion)\n",
    "ranking"
   ]
  },
  {
   "cell_type": "code",
   "execution_count": null,
   "metadata": {},
   "outputs": [],
   "source": []
  },
  {
   "cell_type": "markdown",
   "metadata": {},
   "source": [
    "## Selección natural / Selección del mas fuerte"
   ]
  },
  {
   "cell_type": "markdown",
   "metadata": {},
   "source": [
    "De la población de soluciones, se seleccionan aquellas que contengan el valor más óptimo de ajuste. Estas soluciones servirán como padres para la siguiente generación."
   ]
  },
  {
   "cell_type": "code",
   "execution_count": 161,
   "metadata": {},
   "outputs": [],
   "source": [
    "def selection(popRanked, eliteSize):\n",
    "    # Se crea una lista que contendrá los elementos seleccionados \n",
    "    # para procrear la siguiente generación.\n",
    "    selectionResults = []\n",
    "    \n",
    "    # De acuerdo al valor indicado, se seleccionan de forma directa\n",
    "    # aquellas respuestas con los mayores resultados de fitness\n",
    "    for i in range(0, eliteSize):\n",
    "        selectionResults.append(popRanked[i][0])\n",
    "    \n",
    "    # Dado que se necesita un número idéntico al tamaño de la población \n",
    "    # original, el resto de valores serán seleccionados por azar; i.e.\n",
    "    # puede que se vuelvan a seleccionar rutas ya escogidas, o puede\n",
    "    # que una de las soluciones no óptimas pase a formar parte del \n",
    "    # grupo selecto.\n",
    "    for i in range(0, len(popRanked) - eliteSize):\n",
    "        num=np.random.randint(0,len(popRanked))\n",
    "        selectionResults.append(popRanked[num][0])\n",
    "    return selectionResults"
   ]
  },
  {
   "cell_type": "code",
   "execution_count": 162,
   "metadata": {},
   "outputs": [
    {
     "data": {
      "text/plain": [
       "[6, 15, 4, 0, 9, 10, 7, 2, 10, 11, 4, 14, 2, 3, 10, 5]"
      ]
     },
     "execution_count": 162,
     "metadata": {},
     "output_type": "execute_result"
    }
   ],
   "source": [
    "seleccionados=selection(ranking,8)\n",
    "seleccionados"
   ]
  },
  {
   "cell_type": "markdown",
   "metadata": {},
   "source": [
    "## Procreación y mutación"
   ]
  },
  {
   "cell_type": "markdown",
   "metadata": {},
   "source": [
    "El primer paso será crear la lista con las soluciones seleccionadas para poder procrear:"
   ]
  },
  {
   "cell_type": "code",
   "execution_count": 163,
   "metadata": {},
   "outputs": [],
   "source": [
    "def matingPool(population, selectionResults):\n",
    "    matingpool = []\n",
    "    for i in range(0, len(selectionResults)):\n",
    "        index = selectionResults[i]\n",
    "        matingpool.append(population[index])\n",
    "    return matingpool"
   ]
  },
  {
   "cell_type": "code",
   "execution_count": 164,
   "metadata": {
    "scrolled": true
   },
   "outputs": [
    {
     "data": {
      "text/plain": [
       "[[(4,-2), (-3,0), (-4,-4), (-4,-2), (4,-3)],\n",
       " [(-4,-4), (-3,0), (4,-2), (4,-3), (-4,-2)],\n",
       " [(4,-3), (4,-2), (-4,-2), (-4,-4), (-3,0)],\n",
       " [(4,-2), (-4,-2), (-3,0), (-4,-4), (4,-3)],\n",
       " [(-3,0), (-4,-4), (4,-3), (4,-2), (-4,-2)],\n",
       " [(4,-2), (4,-3), (-4,-4), (-3,0), (-4,-2)],\n",
       " [(-4,-2), (4,-3), (4,-2), (-4,-4), (-3,0)],\n",
       " [(-4,-4), (-4,-2), (4,-2), (-3,0), (4,-3)],\n",
       " [(4,-2), (4,-3), (-4,-4), (-3,0), (-4,-2)],\n",
       " [(-4,-2), (-4,-4), (4,-3), (-3,0), (4,-2)],\n",
       " [(4,-3), (4,-2), (-4,-2), (-4,-4), (-3,0)],\n",
       " [(-4,-2), (4,-3), (-3,0), (4,-2), (-4,-4)],\n",
       " [(-4,-4), (-4,-2), (4,-2), (-3,0), (4,-3)],\n",
       " [(-4,-4), (4,-3), (-3,0), (4,-2), (-4,-2)],\n",
       " [(4,-2), (4,-3), (-4,-4), (-3,0), (-4,-2)],\n",
       " [(-4,-4), (-3,0), (4,-2), (-4,-2), (4,-3)]]"
      ]
     },
     "execution_count": 164,
     "metadata": {},
     "output_type": "execute_result"
    }
   ],
   "source": [
    "soluciones_para_procrear=matingPool(poblacion,seleccionados)\n",
    "soluciones_para_procrear"
   ]
  },
  {
   "cell_type": "markdown",
   "metadata": {},
   "source": [
    "Cada hijo será creado tomando una parte de la primera solución, y completandolo con los elementos de la segunda solución."
   ]
  },
  {
   "cell_type": "code",
   "execution_count": 35,
   "metadata": {},
   "outputs": [],
   "source": [
    "def breed(parent1, parent2):\n",
    "    # Combinación de los elementos recibidos de los padres\n",
    "    child = []\n",
    "    # Elementos tomados del primer padre\n",
    "    childP1 = []\n",
    "    # Elementos tomados del segundo padre\n",
    "    childP2 = []\n",
    "    \n",
    "    # De forma aleatoria, se determina cuantos elementos se recibirán del primer padre\n",
    "    geneA = int(random.random() * len(parent1))\n",
    "    geneB = int(random.random() * len(parent1))\n",
    "    \n",
    "    startGene = min(geneA, geneB)\n",
    "    endGene = max(geneA, geneB)\n",
    "    \n",
    "    # Se agregan los elementos que fueron seleccionados de forma aleatoria\n",
    "    for i in range(startGene, endGene):\n",
    "        childP1.append(parent1[i])\n",
    "    \n",
    "    # Se seleccionana los elementos de Padre 2 que no fueron seleccionados en Padre 1\n",
    "    childP2 = [item for item in parent2 if item not in childP1]\n",
    "    \n",
    "    # Se crea el hijo\n",
    "    child = childP1 + childP2\n",
    "    return child"
   ]
  },
  {
   "cell_type": "code",
   "execution_count": 36,
   "metadata": {},
   "outputs": [],
   "source": [
    "def breedPopulation(matingpool, eliteSize):\n",
    "    children = []\n",
    "    length = len(matingpool) - eliteSize\n",
    "    pool = random.sample(matingpool, len(matingpool))\n",
    "\n",
    "    for i in range(0,eliteSize):\n",
    "        children.append(matingpool[i])\n",
    "    \n",
    "    for i in range(0, length):\n",
    "        child = breed(pool[i], pool[len(matingpool)-i-1])\n",
    "        children.append(child)\n",
    "    return children"
   ]
  },
  {
   "cell_type": "code",
   "execution_count": 37,
   "metadata": {},
   "outputs": [],
   "source": [
    "def mutate(individual, mutationRate):\n",
    "    for swapped in range(len(individual)):\n",
    "        if(random.random() < mutationRate):\n",
    "            swapWith = int(random.random() * len(individual))\n",
    "            \n",
    "            city1 = individual[swapped]\n",
    "            city2 = individual[swapWith]\n",
    "            \n",
    "            individual[swapped] = city2\n",
    "            individual[swapWith] = city1\n",
    "    return individual"
   ]
  },
  {
   "cell_type": "code",
   "execution_count": 38,
   "metadata": {},
   "outputs": [],
   "source": [
    "def mutatePopulation(population, mutationRate):\n",
    "    mutatedPop = []\n",
    "    \n",
    "    for ind in range(0, len(population)):\n",
    "        mutatedInd = mutate(population[ind], mutationRate)\n",
    "        mutatedPop.append(mutatedInd)\n",
    "    return mutatedPop"
   ]
  },
  {
   "cell_type": "code",
   "execution_count": 39,
   "metadata": {},
   "outputs": [],
   "source": [
    "def nextGeneration(currentGen, eliteSize, mutationRate):\n",
    "    popRanked = rankRoutes(currentGen)\n",
    "    selectionResults = selection(popRanked, eliteSize)\n",
    "    matingpool = matingPool(currentGen, selectionResults)\n",
    "    children = breedPopulation(matingpool, eliteSize)\n",
    "    nextGeneration = mutatePopulation(children, mutationRate)\n",
    "    return nextGeneration"
   ]
  },
  {
   "cell_type": "code",
   "execution_count": 40,
   "metadata": {},
   "outputs": [],
   "source": [
    "def geneticAlgorithm(population, popSize, eliteSize, mutationRate, generations):\n",
    "    pop = initialPopulation(popSize, population)\n",
    "    print(\"Initial distance: \" + str(1 / rankRoutes(pop)[0][1]))\n",
    "    \n",
    "    for i in range(0, generations):\n",
    "        pop = nextGeneration(pop, eliteSize, mutationRate)\n",
    "    \n",
    "    print(\"Final distance: \" + str(1 / rankRoutes(pop)[0][1]))\n",
    "    bestRouteIndex = rankRoutes(pop)[0][0]\n",
    "    bestRoute = pop[bestRouteIndex]\n",
    "    return bestRoute"
   ]
  },
  {
   "cell_type": "markdown",
   "metadata": {},
   "source": [
    "# Probando el algoritmo"
   ]
  },
  {
   "cell_type": "markdown",
   "metadata": {},
   "source": [
    "Para esta prueba se va a considerar una muestra de 25 ciudades, con una población de soluciones igual a 100, seleccionando a los 20 mejores resultados y con una mutación del 0.01. Se revisarán los resultados para un total de 500 generaciones:"
   ]
  },
  {
   "cell_type": "code",
   "execution_count": 41,
   "metadata": {},
   "outputs": [],
   "source": [
    "cityList = []\n",
    "\n",
    "for i in range(0,25):\n",
    "    cityList.append(City(x=random.randint(-200,200), y=random.randint(-200,200)))"
   ]
  },
  {
   "cell_type": "code",
   "execution_count": 42,
   "metadata": {},
   "outputs": [
    {
     "name": "stdout",
     "output_type": "stream",
     "text": [
      "Initial distance: 4536.069833798304\n",
      "Final distance: 1822.8593418761707\n"
     ]
    },
    {
     "data": {
      "text/plain": [
       "[(-34,146),\n",
       " (152,171),\n",
       " (194,149),\n",
       " (188,80),\n",
       " (150,39),\n",
       " (184,-23),\n",
       " (138,-55),\n",
       " (167,-84),\n",
       " (-5,-200),\n",
       " (-52,-200),\n",
       " (-124,-189),\n",
       " (-107,-151),\n",
       " (-178,-113),\n",
       " (-44,-96),\n",
       " (3,-90),\n",
       " (16,-84),\n",
       " (45,5),\n",
       " (80,40),\n",
       " (29,30),\n",
       " (5,56),\n",
       " (-55,34),\n",
       " (-122,9),\n",
       " (-156,160),\n",
       " (-132,143),\n",
       " (-95,149)]"
      ]
     },
     "execution_count": 42,
     "metadata": {},
     "output_type": "execute_result"
    }
   ],
   "source": [
    "geneticAlgorithm(population=cityList, popSize=100, eliteSize=20, mutationRate=0.01, generations=500)"
   ]
  },
  {
   "cell_type": "markdown",
   "metadata": {},
   "source": [
    "# Reuniendo todos los elementos:"
   ]
  },
  {
   "cell_type": "code",
   "execution_count": 43,
   "metadata": {},
   "outputs": [
    {
     "data": {
      "text/html": [
       "<div>\n",
       "<style scoped>\n",
       "    .dataframe tbody tr th:only-of-type {\n",
       "        vertical-align: middle;\n",
       "    }\n",
       "\n",
       "    .dataframe tbody tr th {\n",
       "        vertical-align: top;\n",
       "    }\n",
       "\n",
       "    .dataframe thead th {\n",
       "        text-align: right;\n",
       "    }\n",
       "</style>\n",
       "<table border=\"1\" class=\"dataframe\">\n",
       "  <thead>\n",
       "    <tr style=\"text-align: right;\">\n",
       "      <th></th>\n",
       "      <th>Ciudad1</th>\n",
       "      <th>Ciudad2</th>\n",
       "      <th>Ciudad3</th>\n",
       "      <th>Ciudad4</th>\n",
       "      <th>Ciudad5</th>\n",
       "      <th>Ciudad6</th>\n",
       "      <th>Ciudad7</th>\n",
       "      <th>Ciudad8</th>\n",
       "      <th>Ciudad9</th>\n",
       "      <th>Ciudad10</th>\n",
       "      <th>...</th>\n",
       "      <th>Ciudad16</th>\n",
       "      <th>Ciudad17</th>\n",
       "      <th>Ciudad18</th>\n",
       "      <th>Ciudad19</th>\n",
       "      <th>Ciudad20</th>\n",
       "      <th>Ciudad21</th>\n",
       "      <th>Ciudad22</th>\n",
       "      <th>Ciudad23</th>\n",
       "      <th>Ciudad24</th>\n",
       "      <th>Ciudad25</th>\n",
       "    </tr>\n",
       "  </thead>\n",
       "  <tbody>\n",
       "    <tr>\n",
       "      <th>Ciudad1</th>\n",
       "      <td>0.000000</td>\n",
       "      <td>36.249138</td>\n",
       "      <td>99.849887</td>\n",
       "      <td>231.311478</td>\n",
       "      <td>212.313448</td>\n",
       "      <td>363.279507</td>\n",
       "      <td>286.356421</td>\n",
       "      <td>40.261644</td>\n",
       "      <td>234.183689</td>\n",
       "      <td>130.418557</td>\n",
       "      <td>...</td>\n",
       "      <td>61.392182</td>\n",
       "      <td>302.292904</td>\n",
       "      <td>26.570661</td>\n",
       "      <td>20.248457</td>\n",
       "      <td>151.485973</td>\n",
       "      <td>127.003937</td>\n",
       "      <td>178.619708</td>\n",
       "      <td>278.217541</td>\n",
       "      <td>237.918053</td>\n",
       "      <td>202.805325</td>\n",
       "    </tr>\n",
       "    <tr>\n",
       "      <th>Ciudad2</th>\n",
       "      <td>36.249138</td>\n",
       "      <td>0.000000</td>\n",
       "      <td>136.000000</td>\n",
       "      <td>217.018432</td>\n",
       "      <td>212.849712</td>\n",
       "      <td>373.483601</td>\n",
       "      <td>303.199604</td>\n",
       "      <td>76.216796</td>\n",
       "      <td>251.872984</td>\n",
       "      <td>99.764723</td>\n",
       "      <td>...</td>\n",
       "      <td>93.021503</td>\n",
       "      <td>331.941260</td>\n",
       "      <td>25.298221</td>\n",
       "      <td>54.405882</td>\n",
       "      <td>169.097605</td>\n",
       "      <td>160.611332</td>\n",
       "      <td>202.249845</td>\n",
       "      <td>266.655208</td>\n",
       "      <td>219.228192</td>\n",
       "      <td>226.176922</td>\n",
       "    </tr>\n",
       "    <tr>\n",
       "      <th>Ciudad3</th>\n",
       "      <td>99.849887</td>\n",
       "      <td>136.000000</td>\n",
       "      <td>0.000000</td>\n",
       "      <td>296.986532</td>\n",
       "      <td>248.340492</td>\n",
       "      <td>361.930933</td>\n",
       "      <td>269.833282</td>\n",
       "      <td>61.846584</td>\n",
       "      <td>220.145406</td>\n",
       "      <td>225.816297</td>\n",
       "      <td>...</td>\n",
       "      <td>67.623960</td>\n",
       "      <td>237.674147</td>\n",
       "      <td>118.928550</td>\n",
       "      <td>82.462113</td>\n",
       "      <td>153.055545</td>\n",
       "      <td>64.031242</td>\n",
       "      <td>152.502459</td>\n",
       "      <td>335.715653</td>\n",
       "      <td>311.430570</td>\n",
       "      <td>173.216627</td>\n",
       "    </tr>\n",
       "    <tr>\n",
       "      <th>Ciudad4</th>\n",
       "      <td>231.311478</td>\n",
       "      <td>217.018432</td>\n",
       "      <td>296.986532</td>\n",
       "      <td>0.000000</td>\n",
       "      <td>91.760558</td>\n",
       "      <td>242.324163</td>\n",
       "      <td>232.019396</td>\n",
       "      <td>246.337167</td>\n",
       "      <td>207.077280</td>\n",
       "      <td>144.941367</td>\n",
       "      <td>...</td>\n",
       "      <td>229.582229</td>\n",
       "      <td>348.531204</td>\n",
       "      <td>240.351825</td>\n",
       "      <td>249.064249</td>\n",
       "      <td>178.932948</td>\n",
       "      <td>268.739651</td>\n",
       "      <td>221.269067</td>\n",
       "      <td>52.325902</td>\n",
       "      <td>31.144823</td>\n",
       "      <td>230.531993</td>\n",
       "    </tr>\n",
       "    <tr>\n",
       "      <th>Ciudad5</th>\n",
       "      <td>212.313448</td>\n",
       "      <td>212.849712</td>\n",
       "      <td>248.340492</td>\n",
       "      <td>91.760558</td>\n",
       "      <td>0.000000</td>\n",
       "      <td>173.404152</td>\n",
       "      <td>142.425419</td>\n",
       "      <td>211.910358</td>\n",
       "      <td>115.451288</td>\n",
       "      <td>181.471761</td>\n",
       "      <td>...</td>\n",
       "      <td>186.526138</td>\n",
       "      <td>257.934100</td>\n",
       "      <td>230.358416</td>\n",
       "      <td>225.000000</td>\n",
       "      <td>104.177733</td>\n",
       "      <td>204.970730</td>\n",
       "      <td>138.809222</td>\n",
       "      <td>101.044545</td>\n",
       "      <td>122.122889</td>\n",
       "      <td>143.558351</td>\n",
       "    </tr>\n",
       "    <tr>\n",
       "      <th>Ciudad6</th>\n",
       "      <td>363.279507</td>\n",
       "      <td>373.483601</td>\n",
       "      <td>361.930933</td>\n",
       "      <td>242.324163</td>\n",
       "      <td>173.404152</td>\n",
       "      <td>0.000000</td>\n",
       "      <td>98.325988</td>\n",
       "      <td>349.057302</td>\n",
       "      <td>142.302495</td>\n",
       "      <td>354.830946</td>\n",
       "      <td>...</td>\n",
       "      <td>318.472919</td>\n",
       "      <td>231.173095</td>\n",
       "      <td>386.038858</td>\n",
       "      <td>370.375485</td>\n",
       "      <td>215.406592</td>\n",
       "      <td>301.054812</td>\n",
       "      <td>210.297408</td>\n",
       "      <td>213.150182</td>\n",
       "      <td>272.016544</td>\n",
       "      <td>192.815974</td>\n",
       "    </tr>\n",
       "    <tr>\n",
       "      <th>Ciudad7</th>\n",
       "      <td>286.356421</td>\n",
       "      <td>303.199604</td>\n",
       "      <td>269.833282</td>\n",
       "      <td>232.019396</td>\n",
       "      <td>142.425419</td>\n",
       "      <td>98.325988</td>\n",
       "      <td>0.000000</td>\n",
       "      <td>265.580496</td>\n",
       "      <td>52.325902</td>\n",
       "      <td>307.962660</td>\n",
       "      <td>...</td>\n",
       "      <td>234.437625</td>\n",
       "      <td>145.344419</td>\n",
       "      <td>311.271586</td>\n",
       "      <td>289.913780</td>\n",
       "      <td>134.951843</td>\n",
       "      <td>207.099010</td>\n",
       "      <td>117.477657</td>\n",
       "      <td>223.886132</td>\n",
       "      <td>263.053227</td>\n",
       "      <td>97.169954</td>\n",
       "    </tr>\n",
       "    <tr>\n",
       "      <th>Ciudad8</th>\n",
       "      <td>40.261644</td>\n",
       "      <td>76.216796</td>\n",
       "      <td>61.846584</td>\n",
       "      <td>246.337167</td>\n",
       "      <td>211.910358</td>\n",
       "      <td>349.057302</td>\n",
       "      <td>265.580496</td>\n",
       "      <td>0.000000</td>\n",
       "      <td>213.356509</td>\n",
       "      <td>164.103626</td>\n",
       "      <td>...</td>\n",
       "      <td>31.144823</td>\n",
       "      <td>267.043068</td>\n",
       "      <td>64.007812</td>\n",
       "      <td>28.861739</td>\n",
       "      <td>133.689940</td>\n",
       "      <td>88.684835</td>\n",
       "      <td>151.980262</td>\n",
       "      <td>289.357910</td>\n",
       "      <td>257.410179</td>\n",
       "      <td>175.855054</td>\n",
       "    </tr>\n",
       "    <tr>\n",
       "      <th>Ciudad9</th>\n",
       "      <td>234.183689</td>\n",
       "      <td>251.872984</td>\n",
       "      <td>220.145406</td>\n",
       "      <td>207.077280</td>\n",
       "      <td>115.451288</td>\n",
       "      <td>142.302495</td>\n",
       "      <td>52.325902</td>\n",
       "      <td>213.356509</td>\n",
       "      <td>0.000000</td>\n",
       "      <td>263.410326</td>\n",
       "      <td>...</td>\n",
       "      <td>182.222392</td>\n",
       "      <td>143.808901</td>\n",
       "      <td>259.260487</td>\n",
       "      <td>237.587878</td>\n",
       "      <td>83.006024</td>\n",
       "      <td>158.757677</td>\n",
       "      <td>68.007353</td>\n",
       "      <td>210.601519</td>\n",
       "      <td>237.008439</td>\n",
       "      <td>52.038447</td>\n",
       "    </tr>\n",
       "    <tr>\n",
       "      <th>Ciudad10</th>\n",
       "      <td>130.418557</td>\n",
       "      <td>99.764723</td>\n",
       "      <td>225.816297</td>\n",
       "      <td>144.941367</td>\n",
       "      <td>181.471761</td>\n",
       "      <td>354.830946</td>\n",
       "      <td>307.962660</td>\n",
       "      <td>164.103626</td>\n",
       "      <td>263.410326</td>\n",
       "      <td>0.000000</td>\n",
       "      <td>...</td>\n",
       "      <td>166.433170</td>\n",
       "      <td>376.820912</td>\n",
       "      <td>124.775799</td>\n",
       "      <td>150.602125</td>\n",
       "      <td>192.002604</td>\n",
       "      <td>230.766115</td>\n",
       "      <td>236.541751</td>\n",
       "      <td>197.246039</td>\n",
       "      <td>136.124943</td>\n",
       "      <td>257.031127</td>\n",
       "    </tr>\n",
       "    <tr>\n",
       "      <th>Ciudad11</th>\n",
       "      <td>282.603963</td>\n",
       "      <td>276.703813</td>\n",
       "      <td>327.470609</td>\n",
       "      <td>82.097503</td>\n",
       "      <td>80.049984</td>\n",
       "      <td>168.240899</td>\n",
       "      <td>183.087411</td>\n",
       "      <td>287.503043</td>\n",
       "      <td>176.082367</td>\n",
       "      <td>220.843836</td>\n",
       "      <td>...</td>\n",
       "      <td>264.030301</td>\n",
       "      <td>318.813425</td>\n",
       "      <td>297.249054</td>\n",
       "      <td>297.423940</td>\n",
       "      <td>183.741666</td>\n",
       "      <td>284.985965</td>\n",
       "      <td>214.709106</td>\n",
       "      <td>45.011110</td>\n",
       "      <td>107.935166</td>\n",
       "      <td>215.232433</td>\n",
       "    </tr>\n",
       "    <tr>\n",
       "      <th>Ciudad12</th>\n",
       "      <td>182.833257</td>\n",
       "      <td>183.504768</td>\n",
       "      <td>222.409532</td>\n",
       "      <td>94.641429</td>\n",
       "      <td>29.546573</td>\n",
       "      <td>198.090888</td>\n",
       "      <td>154.828938</td>\n",
       "      <td>183.447540</td>\n",
       "      <td>118.869677</td>\n",
       "      <td>157.876534</td>\n",
       "      <td>...</td>\n",
       "      <td>159.012578</td>\n",
       "      <td>255.978515</td>\n",
       "      <td>200.823305</td>\n",
       "      <td>195.760057</td>\n",
       "      <td>86.023253</td>\n",
       "      <td>182.937148</td>\n",
       "      <td>126.732001</td>\n",
       "      <td>117.630778</td>\n",
       "      <td>121.938509</td>\n",
       "      <td>136.213068</td>\n",
       "    </tr>\n",
       "    <tr>\n",
       "      <th>Ciudad13</th>\n",
       "      <td>186.603858</td>\n",
       "      <td>171.944759</td>\n",
       "      <td>256.181576</td>\n",
       "      <td>45.099889</td>\n",
       "      <td>89.944427</td>\n",
       "      <td>259.077209</td>\n",
       "      <td>231.008658</td>\n",
       "      <td>203.302730</td>\n",
       "      <td>197.131936</td>\n",
       "      <td>105.422958</td>\n",
       "      <td>...</td>\n",
       "      <td>188.557683</td>\n",
       "      <td>332.415403</td>\n",
       "      <td>195.256242</td>\n",
       "      <td>204.658252</td>\n",
       "      <td>152.266214</td>\n",
       "      <td>233.214494</td>\n",
       "      <td>197.590486</td>\n",
       "      <td>95.603347</td>\n",
       "      <td>55.569776</td>\n",
       "      <td>210.791366</td>\n",
       "    </tr>\n",
       "    <tr>\n",
       "      <th>Ciudad14</th>\n",
       "      <td>189.042323</td>\n",
       "      <td>164.975756</td>\n",
       "      <td>273.790066</td>\n",
       "      <td>79.208585</td>\n",
       "      <td>144.837840</td>\n",
       "      <td>312.968049</td>\n",
       "      <td>285.252520</td>\n",
       "      <td>215.081380</td>\n",
       "      <td>249.256896</td>\n",
       "      <td>73.824115</td>\n",
       "      <td>...</td>\n",
       "      <td>207.870152</td>\n",
       "      <td>380.257807</td>\n",
       "      <td>190.160459</td>\n",
       "      <td>208.923431</td>\n",
       "      <td>195.542834</td>\n",
       "      <td>262.756541</td>\n",
       "      <td>241.962807</td>\n",
       "      <td>129.630243</td>\n",
       "      <td>63.560994</td>\n",
       "      <td>257.769277</td>\n",
       "    </tr>\n",
       "    <tr>\n",
       "      <th>Ciudad15</th>\n",
       "      <td>87.475711</td>\n",
       "      <td>122.971541</td>\n",
       "      <td>33.015148</td>\n",
       "      <td>265.731067</td>\n",
       "      <td>215.334623</td>\n",
       "      <td>332.036143</td>\n",
       "      <td>241.900806</td>\n",
       "      <td>47.381431</td>\n",
       "      <td>191.149156</td>\n",
       "      <td>204.247399</td>\n",
       "      <td>...</td>\n",
       "      <td>38.948684</td>\n",
       "      <td>224.510579</td>\n",
       "      <td>111.220502</td>\n",
       "      <td>75.006666</td>\n",
       "      <td>120.830460</td>\n",
       "      <td>44.384682</td>\n",
       "      <td>124.535136</td>\n",
       "      <td>303.415557</td>\n",
       "      <td>281.320102</td>\n",
       "      <td>146.649241</td>\n",
       "    </tr>\n",
       "    <tr>\n",
       "      <th>Ciudad16</th>\n",
       "      <td>61.392182</td>\n",
       "      <td>93.021503</td>\n",
       "      <td>67.623960</td>\n",
       "      <td>229.582229</td>\n",
       "      <td>186.526138</td>\n",
       "      <td>318.472919</td>\n",
       "      <td>234.437625</td>\n",
       "      <td>31.144823</td>\n",
       "      <td>182.222392</td>\n",
       "      <td>166.433170</td>\n",
       "      <td>...</td>\n",
       "      <td>0.000000</td>\n",
       "      <td>240.902470</td>\n",
       "      <td>87.800911</td>\n",
       "      <td>57.454330</td>\n",
       "      <td>103.077641</td>\n",
       "      <td>68.066144</td>\n",
       "      <td>121.210561</td>\n",
       "      <td>269.492115</td>\n",
       "      <td>243.823707</td>\n",
       "      <td>145.206749</td>\n",
       "    </tr>\n",
       "    <tr>\n",
       "      <th>Ciudad17</th>\n",
       "      <td>302.292904</td>\n",
       "      <td>331.941260</td>\n",
       "      <td>237.674147</td>\n",
       "      <td>348.531204</td>\n",
       "      <td>257.934100</td>\n",
       "      <td>231.173095</td>\n",
       "      <td>145.344419</td>\n",
       "      <td>267.043068</td>\n",
       "      <td>143.808901</td>\n",
       "      <td>376.820912</td>\n",
       "      <td>...</td>\n",
       "      <td>240.902470</td>\n",
       "      <td>0.000000</td>\n",
       "      <td>328.671569</td>\n",
       "      <td>295.880043</td>\n",
       "      <td>186.507373</td>\n",
       "      <td>180.136060</td>\n",
       "      <td>140.577381</td>\n",
       "      <td>354.400903</td>\n",
       "      <td>377.449334</td>\n",
       "      <td>122.527548</td>\n",
       "    </tr>\n",
       "    <tr>\n",
       "      <th>Ciudad18</th>\n",
       "      <td>26.570661</td>\n",
       "      <td>25.298221</td>\n",
       "      <td>118.928550</td>\n",
       "      <td>240.351825</td>\n",
       "      <td>230.358416</td>\n",
       "      <td>386.038858</td>\n",
       "      <td>311.271586</td>\n",
       "      <td>64.007812</td>\n",
       "      <td>259.260487</td>\n",
       "      <td>124.775799</td>\n",
       "      <td>...</td>\n",
       "      <td>87.800911</td>\n",
       "      <td>328.671569</td>\n",
       "      <td>0.000000</td>\n",
       "      <td>36.878178</td>\n",
       "      <td>176.323566</td>\n",
       "      <td>152.328592</td>\n",
       "      <td>204.882893</td>\n",
       "      <td>289.249028</td>\n",
       "      <td>243.665755</td>\n",
       "      <td>229.058944</td>\n",
       "    </tr>\n",
       "    <tr>\n",
       "      <th>Ciudad19</th>\n",
       "      <td>20.248457</td>\n",
       "      <td>54.405882</td>\n",
       "      <td>82.462113</td>\n",
       "      <td>249.064249</td>\n",
       "      <td>225.000000</td>\n",
       "      <td>370.375485</td>\n",
       "      <td>289.913780</td>\n",
       "      <td>28.861739</td>\n",
       "      <td>237.587878</td>\n",
       "      <td>150.602125</td>\n",
       "      <td>...</td>\n",
       "      <td>57.454330</td>\n",
       "      <td>295.880043</td>\n",
       "      <td>36.878178</td>\n",
       "      <td>0.000000</td>\n",
       "      <td>156.083311</td>\n",
       "      <td>117.388245</td>\n",
       "      <td>178.440466</td>\n",
       "      <td>295.000000</td>\n",
       "      <td>256.743062</td>\n",
       "      <td>202.514197</td>\n",
       "    </tr>\n",
       "    <tr>\n",
       "      <th>Ciudad20</th>\n",
       "      <td>151.485973</td>\n",
       "      <td>169.097605</td>\n",
       "      <td>153.055545</td>\n",
       "      <td>178.932948</td>\n",
       "      <td>104.177733</td>\n",
       "      <td>215.406592</td>\n",
       "      <td>134.951843</td>\n",
       "      <td>133.689940</td>\n",
       "      <td>83.006024</td>\n",
       "      <td>192.002604</td>\n",
       "      <td>...</td>\n",
       "      <td>103.077641</td>\n",
       "      <td>186.507373</td>\n",
       "      <td>176.323566</td>\n",
       "      <td>156.083311</td>\n",
       "      <td>0.000000</td>\n",
       "      <td>102.107786</td>\n",
       "      <td>46.486557</td>\n",
       "      <td>202.921167</td>\n",
       "      <td>203.590275</td>\n",
       "      <td>65.069194</td>\n",
       "    </tr>\n",
       "    <tr>\n",
       "      <th>Ciudad21</th>\n",
       "      <td>127.003937</td>\n",
       "      <td>160.611332</td>\n",
       "      <td>64.031242</td>\n",
       "      <td>268.739651</td>\n",
       "      <td>204.970730</td>\n",
       "      <td>301.054812</td>\n",
       "      <td>207.099010</td>\n",
       "      <td>88.684835</td>\n",
       "      <td>158.757677</td>\n",
       "      <td>230.766115</td>\n",
       "      <td>...</td>\n",
       "      <td>68.066144</td>\n",
       "      <td>180.136060</td>\n",
       "      <td>152.328592</td>\n",
       "      <td>117.388245</td>\n",
       "      <td>102.107786</td>\n",
       "      <td>0.000000</td>\n",
       "      <td>90.757920</td>\n",
       "      <td>300.308175</td>\n",
       "      <td>288.425034</td>\n",
       "      <td>110.018180</td>\n",
       "    </tr>\n",
       "    <tr>\n",
       "      <th>Ciudad22</th>\n",
       "      <td>178.619708</td>\n",
       "      <td>202.249845</td>\n",
       "      <td>152.502459</td>\n",
       "      <td>221.269067</td>\n",
       "      <td>138.809222</td>\n",
       "      <td>210.297408</td>\n",
       "      <td>117.477657</td>\n",
       "      <td>151.980262</td>\n",
       "      <td>68.007353</td>\n",
       "      <td>236.541751</td>\n",
       "      <td>...</td>\n",
       "      <td>121.210561</td>\n",
       "      <td>140.577381</td>\n",
       "      <td>204.882893</td>\n",
       "      <td>178.440466</td>\n",
       "      <td>46.486557</td>\n",
       "      <td>90.757920</td>\n",
       "      <td>0.000000</td>\n",
       "      <td>239.804087</td>\n",
       "      <td>247.406548</td>\n",
       "      <td>24.186773</td>\n",
       "    </tr>\n",
       "    <tr>\n",
       "      <th>Ciudad23</th>\n",
       "      <td>278.217541</td>\n",
       "      <td>266.655208</td>\n",
       "      <td>335.715653</td>\n",
       "      <td>52.325902</td>\n",
       "      <td>101.044545</td>\n",
       "      <td>213.150182</td>\n",
       "      <td>223.886132</td>\n",
       "      <td>289.357910</td>\n",
       "      <td>210.601519</td>\n",
       "      <td>197.246039</td>\n",
       "      <td>...</td>\n",
       "      <td>269.492115</td>\n",
       "      <td>354.400903</td>\n",
       "      <td>289.249028</td>\n",
       "      <td>295.000000</td>\n",
       "      <td>202.921167</td>\n",
       "      <td>300.308175</td>\n",
       "      <td>239.804087</td>\n",
       "      <td>0.000000</td>\n",
       "      <td>69.656299</td>\n",
       "      <td>244.124968</td>\n",
       "    </tr>\n",
       "    <tr>\n",
       "      <th>Ciudad24</th>\n",
       "      <td>237.918053</td>\n",
       "      <td>219.228192</td>\n",
       "      <td>311.430570</td>\n",
       "      <td>31.144823</td>\n",
       "      <td>122.122889</td>\n",
       "      <td>272.016544</td>\n",
       "      <td>263.053227</td>\n",
       "      <td>257.410179</td>\n",
       "      <td>237.008439</td>\n",
       "      <td>136.124943</td>\n",
       "      <td>...</td>\n",
       "      <td>243.823707</td>\n",
       "      <td>377.449334</td>\n",
       "      <td>243.665755</td>\n",
       "      <td>256.743062</td>\n",
       "      <td>203.590275</td>\n",
       "      <td>288.425034</td>\n",
       "      <td>247.406548</td>\n",
       "      <td>69.656299</td>\n",
       "      <td>0.000000</td>\n",
       "      <td>258.118190</td>\n",
       "    </tr>\n",
       "    <tr>\n",
       "      <th>Ciudad25</th>\n",
       "      <td>202.805325</td>\n",
       "      <td>226.176922</td>\n",
       "      <td>173.216627</td>\n",
       "      <td>230.531993</td>\n",
       "      <td>143.558351</td>\n",
       "      <td>192.815974</td>\n",
       "      <td>97.169954</td>\n",
       "      <td>175.855054</td>\n",
       "      <td>52.038447</td>\n",
       "      <td>257.031127</td>\n",
       "      <td>...</td>\n",
       "      <td>145.206749</td>\n",
       "      <td>122.527548</td>\n",
       "      <td>229.058944</td>\n",
       "      <td>202.514197</td>\n",
       "      <td>65.069194</td>\n",
       "      <td>110.018180</td>\n",
       "      <td>24.186773</td>\n",
       "      <td>244.124968</td>\n",
       "      <td>258.118190</td>\n",
       "      <td>0.000000</td>\n",
       "    </tr>\n",
       "  </tbody>\n",
       "</table>\n",
       "<p>25 rows × 25 columns</p>\n",
       "</div>"
      ],
      "text/plain": [
       "             Ciudad1     Ciudad2     Ciudad3     Ciudad4     Ciudad5  \\\n",
       "Ciudad1     0.000000   36.249138   99.849887  231.311478  212.313448   \n",
       "Ciudad2    36.249138    0.000000  136.000000  217.018432  212.849712   \n",
       "Ciudad3    99.849887  136.000000    0.000000  296.986532  248.340492   \n",
       "Ciudad4   231.311478  217.018432  296.986532    0.000000   91.760558   \n",
       "Ciudad5   212.313448  212.849712  248.340492   91.760558    0.000000   \n",
       "Ciudad6   363.279507  373.483601  361.930933  242.324163  173.404152   \n",
       "Ciudad7   286.356421  303.199604  269.833282  232.019396  142.425419   \n",
       "Ciudad8    40.261644   76.216796   61.846584  246.337167  211.910358   \n",
       "Ciudad9   234.183689  251.872984  220.145406  207.077280  115.451288   \n",
       "Ciudad10  130.418557   99.764723  225.816297  144.941367  181.471761   \n",
       "Ciudad11  282.603963  276.703813  327.470609   82.097503   80.049984   \n",
       "Ciudad12  182.833257  183.504768  222.409532   94.641429   29.546573   \n",
       "Ciudad13  186.603858  171.944759  256.181576   45.099889   89.944427   \n",
       "Ciudad14  189.042323  164.975756  273.790066   79.208585  144.837840   \n",
       "Ciudad15   87.475711  122.971541   33.015148  265.731067  215.334623   \n",
       "Ciudad16   61.392182   93.021503   67.623960  229.582229  186.526138   \n",
       "Ciudad17  302.292904  331.941260  237.674147  348.531204  257.934100   \n",
       "Ciudad18   26.570661   25.298221  118.928550  240.351825  230.358416   \n",
       "Ciudad19   20.248457   54.405882   82.462113  249.064249  225.000000   \n",
       "Ciudad20  151.485973  169.097605  153.055545  178.932948  104.177733   \n",
       "Ciudad21  127.003937  160.611332   64.031242  268.739651  204.970730   \n",
       "Ciudad22  178.619708  202.249845  152.502459  221.269067  138.809222   \n",
       "Ciudad23  278.217541  266.655208  335.715653   52.325902  101.044545   \n",
       "Ciudad24  237.918053  219.228192  311.430570   31.144823  122.122889   \n",
       "Ciudad25  202.805325  226.176922  173.216627  230.531993  143.558351   \n",
       "\n",
       "             Ciudad6     Ciudad7     Ciudad8     Ciudad9    Ciudad10  ...  \\\n",
       "Ciudad1   363.279507  286.356421   40.261644  234.183689  130.418557  ...   \n",
       "Ciudad2   373.483601  303.199604   76.216796  251.872984   99.764723  ...   \n",
       "Ciudad3   361.930933  269.833282   61.846584  220.145406  225.816297  ...   \n",
       "Ciudad4   242.324163  232.019396  246.337167  207.077280  144.941367  ...   \n",
       "Ciudad5   173.404152  142.425419  211.910358  115.451288  181.471761  ...   \n",
       "Ciudad6     0.000000   98.325988  349.057302  142.302495  354.830946  ...   \n",
       "Ciudad7    98.325988    0.000000  265.580496   52.325902  307.962660  ...   \n",
       "Ciudad8   349.057302  265.580496    0.000000  213.356509  164.103626  ...   \n",
       "Ciudad9   142.302495   52.325902  213.356509    0.000000  263.410326  ...   \n",
       "Ciudad10  354.830946  307.962660  164.103626  263.410326    0.000000  ...   \n",
       "Ciudad11  168.240899  183.087411  287.503043  176.082367  220.843836  ...   \n",
       "Ciudad12  198.090888  154.828938  183.447540  118.869677  157.876534  ...   \n",
       "Ciudad13  259.077209  231.008658  203.302730  197.131936  105.422958  ...   \n",
       "Ciudad14  312.968049  285.252520  215.081380  249.256896   73.824115  ...   \n",
       "Ciudad15  332.036143  241.900806   47.381431  191.149156  204.247399  ...   \n",
       "Ciudad16  318.472919  234.437625   31.144823  182.222392  166.433170  ...   \n",
       "Ciudad17  231.173095  145.344419  267.043068  143.808901  376.820912  ...   \n",
       "Ciudad18  386.038858  311.271586   64.007812  259.260487  124.775799  ...   \n",
       "Ciudad19  370.375485  289.913780   28.861739  237.587878  150.602125  ...   \n",
       "Ciudad20  215.406592  134.951843  133.689940   83.006024  192.002604  ...   \n",
       "Ciudad21  301.054812  207.099010   88.684835  158.757677  230.766115  ...   \n",
       "Ciudad22  210.297408  117.477657  151.980262   68.007353  236.541751  ...   \n",
       "Ciudad23  213.150182  223.886132  289.357910  210.601519  197.246039  ...   \n",
       "Ciudad24  272.016544  263.053227  257.410179  237.008439  136.124943  ...   \n",
       "Ciudad25  192.815974   97.169954  175.855054   52.038447  257.031127  ...   \n",
       "\n",
       "            Ciudad16    Ciudad17    Ciudad18    Ciudad19    Ciudad20  \\\n",
       "Ciudad1    61.392182  302.292904   26.570661   20.248457  151.485973   \n",
       "Ciudad2    93.021503  331.941260   25.298221   54.405882  169.097605   \n",
       "Ciudad3    67.623960  237.674147  118.928550   82.462113  153.055545   \n",
       "Ciudad4   229.582229  348.531204  240.351825  249.064249  178.932948   \n",
       "Ciudad5   186.526138  257.934100  230.358416  225.000000  104.177733   \n",
       "Ciudad6   318.472919  231.173095  386.038858  370.375485  215.406592   \n",
       "Ciudad7   234.437625  145.344419  311.271586  289.913780  134.951843   \n",
       "Ciudad8    31.144823  267.043068   64.007812   28.861739  133.689940   \n",
       "Ciudad9   182.222392  143.808901  259.260487  237.587878   83.006024   \n",
       "Ciudad10  166.433170  376.820912  124.775799  150.602125  192.002604   \n",
       "Ciudad11  264.030301  318.813425  297.249054  297.423940  183.741666   \n",
       "Ciudad12  159.012578  255.978515  200.823305  195.760057   86.023253   \n",
       "Ciudad13  188.557683  332.415403  195.256242  204.658252  152.266214   \n",
       "Ciudad14  207.870152  380.257807  190.160459  208.923431  195.542834   \n",
       "Ciudad15   38.948684  224.510579  111.220502   75.006666  120.830460   \n",
       "Ciudad16    0.000000  240.902470   87.800911   57.454330  103.077641   \n",
       "Ciudad17  240.902470    0.000000  328.671569  295.880043  186.507373   \n",
       "Ciudad18   87.800911  328.671569    0.000000   36.878178  176.323566   \n",
       "Ciudad19   57.454330  295.880043   36.878178    0.000000  156.083311   \n",
       "Ciudad20  103.077641  186.507373  176.323566  156.083311    0.000000   \n",
       "Ciudad21   68.066144  180.136060  152.328592  117.388245  102.107786   \n",
       "Ciudad22  121.210561  140.577381  204.882893  178.440466   46.486557   \n",
       "Ciudad23  269.492115  354.400903  289.249028  295.000000  202.921167   \n",
       "Ciudad24  243.823707  377.449334  243.665755  256.743062  203.590275   \n",
       "Ciudad25  145.206749  122.527548  229.058944  202.514197   65.069194   \n",
       "\n",
       "            Ciudad21    Ciudad22    Ciudad23    Ciudad24    Ciudad25  \n",
       "Ciudad1   127.003937  178.619708  278.217541  237.918053  202.805325  \n",
       "Ciudad2   160.611332  202.249845  266.655208  219.228192  226.176922  \n",
       "Ciudad3    64.031242  152.502459  335.715653  311.430570  173.216627  \n",
       "Ciudad4   268.739651  221.269067   52.325902   31.144823  230.531993  \n",
       "Ciudad5   204.970730  138.809222  101.044545  122.122889  143.558351  \n",
       "Ciudad6   301.054812  210.297408  213.150182  272.016544  192.815974  \n",
       "Ciudad7   207.099010  117.477657  223.886132  263.053227   97.169954  \n",
       "Ciudad8    88.684835  151.980262  289.357910  257.410179  175.855054  \n",
       "Ciudad9   158.757677   68.007353  210.601519  237.008439   52.038447  \n",
       "Ciudad10  230.766115  236.541751  197.246039  136.124943  257.031127  \n",
       "Ciudad11  284.985965  214.709106   45.011110  107.935166  215.232433  \n",
       "Ciudad12  182.937148  126.732001  117.630778  121.938509  136.213068  \n",
       "Ciudad13  233.214494  197.590486   95.603347   55.569776  210.791366  \n",
       "Ciudad14  262.756541  241.962807  129.630243   63.560994  257.769277  \n",
       "Ciudad15   44.384682  124.535136  303.415557  281.320102  146.649241  \n",
       "Ciudad16   68.066144  121.210561  269.492115  243.823707  145.206749  \n",
       "Ciudad17  180.136060  140.577381  354.400903  377.449334  122.527548  \n",
       "Ciudad18  152.328592  204.882893  289.249028  243.665755  229.058944  \n",
       "Ciudad19  117.388245  178.440466  295.000000  256.743062  202.514197  \n",
       "Ciudad20  102.107786   46.486557  202.921167  203.590275   65.069194  \n",
       "Ciudad21    0.000000   90.757920  300.308175  288.425034  110.018180  \n",
       "Ciudad22   90.757920    0.000000  239.804087  247.406548   24.186773  \n",
       "Ciudad23  300.308175  239.804087    0.000000   69.656299  244.124968  \n",
       "Ciudad24  288.425034  247.406548   69.656299    0.000000  258.118190  \n",
       "Ciudad25  110.018180   24.186773  244.124968  258.118190    0.000000  \n",
       "\n",
       "[25 rows x 25 columns]"
      ]
     },
     "execution_count": 43,
     "metadata": {},
     "output_type": "execute_result"
    }
   ],
   "source": [
    "cityList = []\n",
    "\n",
    "for i in range(0,25):\n",
    "    cityList.append(City(x=random.randint(-200,200), y=random.randint(-200,200)))\n",
    "    \n",
    "distance_matrix(cityList)"
   ]
  },
  {
   "cell_type": "code",
   "execution_count": 44,
   "metadata": {},
   "outputs": [],
   "source": [
    "def geneticAlgorithmPlot(population, popSize, eliteSize, mutationRate, generations, ancho=15, alto=15):\n",
    "    pop = initialPopulation(popSize, population)\n",
    "    progress = []\n",
    "    progress.append(1 / rankRoutes(pop)[0][1])\n",
    "    print(\"Distancia inicial: \" + str(1 / rankRoutes(pop)[0][1]))\n",
    "    mapping_route(population)\n",
    "    \n",
    "    for i in range(0, generations):\n",
    "        pop = nextGeneration(pop, eliteSize, mutationRate)\n",
    "        progress.append(1 / rankRoutes(pop)[0][1])\n",
    "    \n",
    "    print(\"Distancia Óptima: \" + str(1 / rankRoutes(pop)[0][1]))\n",
    "    bestRouteIndex = rankRoutes(pop)[0][0]\n",
    "    bestRoute = pop[bestRouteIndex]\n",
    "    \n",
    "    \n",
    "    plt.plot(progress)\n",
    "    plt.ylabel('Distance')\n",
    "    plt.xlabel('Generation')\n",
    "    walked_route(bestRoute,ancho=ancho, alto=alto)\n",
    "    plt.show()"
   ]
  },
  {
   "cell_type": "code",
   "execution_count": 45,
   "metadata": {},
   "outputs": [
    {
     "name": "stdout",
     "output_type": "stream",
     "text": [
      "Distancia inicial: 3831.046014108705\n"
     ]
    },
    {
     "data": {
      "image/png": "[encoded data removed]",
      "text/plain": [
       "<Figure size 432x288 with 1 Axes>"
      ]
     },
     "metadata": {
      "needs_background": "light"
     },
     "output_type": "display_data"
    },
    {
     "name": "stdout",
     "output_type": "stream",
     "text": [
      "Distancia Óptima: 1578.6006062406768\n"
     ]
    },
    {
     "data": {
      "image/png": "[encoded data removed]",
      "text/plain": [
       "<Figure size 432x288 with 1 Axes>"
      ]
     },
     "metadata": {
      "needs_background": "light"
     },
     "output_type": "display_data"
    },
    {
     "data": {
      "image/png": "[encoded data removed]",
      "text/plain": [
       "<Figure size 1080x1080 with 1 Axes>"
      ]
     },
     "metadata": {
      "needs_background": "light"
     },
     "output_type": "display_data"
    }
   ],
   "source": [
    "geneticAlgorithmPlot(population=cityList, popSize=100, eliteSize=20, mutationRate=0.01, generations=500)"
   ]
  },
  {
   "cell_type": "code",
   "execution_count": null,
   "metadata": {},
   "outputs": [],
   "source": []
  }
 ],
 "metadata": {
  "kernelspec": {
   "display_name": "Python 3",
   "language": "python",
   "name": "python3"
  },
  "language_info": {
   "codemirror_mode": {
    "name": "ipython",
    "version": 3
   },
   "file_extension": ".py",
   "mimetype": "text/x-python",
   "name": "python",
   "nbconvert_exporter": "python",
   "pygments_lexer": "ipython3",
   "version": "3.7.7"
  }
 },
 "nbformat": 4,
 "nbformat_minor": 4
}
