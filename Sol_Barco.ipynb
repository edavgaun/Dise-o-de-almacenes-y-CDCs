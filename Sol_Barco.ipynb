{
 "cells": [
  {
   "cell_type": "markdown",
   "metadata": {},
   "source": [
    "## Solución"
   ]
  },
  {
   "cell_type": "markdown",
   "metadata": {},
   "source": [
    "Un barco tiene tres bodegas: Proa, popa y centro; los límites de capacidad para esas tres bodegas son:"
   ]
  },
  {
   "cell_type": "markdown",
   "metadata": {},
   "source": [
    "<table>\n",
    "  <tr>\n",
    "    <th>Bodegas</th>\n",
    "    <th>Peso (Ton)</th> \n",
    "    <th>Volumen (${ft}^3$)</th>\n",
    "  </tr>\n",
    "  <tr>\n",
    "    <td>Proa</td>\n",
    "    <td>2000</td> \n",
    "    <td>100,000</td>\n",
    "  </tr>\n",
    "  <tr>\n",
    "    <td>Centro</td>\n",
    "    <td>3000</td> \n",
    "    <td>135,000</td>\n",
    "  </tr>\n",
    "  <tr>\n",
    "    <td>Popa</td>\n",
    "    <td>1500</td> \n",
    "    <td>30,000</td>\n",
    "  </tr>\n",
    "</table>"
   ]
  },
  {
   "cell_type": "markdown",
   "metadata": {},
   "source": [
    "Los datos de los productos para almacenar son los siguientes:"
   ]
  },
  {
   "cell_type": "markdown",
   "metadata": {},
   "source": [
    "<table>\n",
    "  <tr>\n",
    "    <th>Cargas</th>\n",
    "    <th>Cantidad (Ton)</th> \n",
    "    <th>Volumen ($\\frac{{ft}^3}{Ton}$)</th>\n",
    "    <th>Utilidad ($\\frac{usd}{Ton}$)</th>\n",
    "  </tr>\n",
    "  <tr>\n",
    "    <td>A</td>\n",
    "    <td>6000</td> \n",
    "    <td>60</td>\n",
    "    <td>6</td>\n",
    "  </tr>\n",
    "  <tr>\n",
    "    <td>B</td>\n",
    "    <td>4000</td> \n",
    "    <td>50</td>\n",
    "    <td>8</td>\n",
    "  </tr>\n",
    "  <tr>\n",
    "    <td>C</td>\n",
    "    <td>2000</td> \n",
    "    <td>25</td>\n",
    "    <td>5</td>  \n",
    "  </tr>\n",
    "</table>"
   ]
  },
  {
   "cell_type": "markdown",
   "metadata": {},
   "source": [
    "Última condición del problema, el peso en el barco debe de estar equilibrado entre todas las bodegas, por lo tanto:"
   ]
  },
  {
   "cell_type": "markdown",
   "metadata": {},
   "source": [
    "\\begin{align*}\n",
    "\\frac{A_1+B_1+C_1}{2000}=\\frac{A_2+B_2+C_2}{3000}=\\frac{A_3+B_3+C_3}{1500}\n",
    "\\end{align*}"
   ]
  },
  {
   "cell_type": "markdown",
   "metadata": {},
   "source": [
    "A partir de la última igualdad, podemos obtener el siguiente sistema de ecuaciones:"
   ]
  },
  {
   "cell_type": "markdown",
   "metadata": {},
   "source": [
    "\\begin{align*}\n",
    "\\frac{A_1+B_1+C_1}{2000}-\\frac{A_2+B_2+C_2}{3000}=0\n",
    "\\end{align*}\n",
    "\n",
    "\\begin{align*}\n",
    "\\frac{A_2+B_2+C_2}{3000}-\\frac{A_3+B_3+C_3}{1500}=0\n",
    "\\end{align*}\n",
    "\n",
    "\\begin{align*}\n",
    "\\frac{A_1+B_1+C_1}{2000}-\\frac{A_3+B_3+C_3}{1500}=0\n",
    "\\end{align*}"
   ]
  },
  {
   "cell_type": "markdown",
   "metadata": {},
   "source": [
    "Simplificando términos:"
   ]
  },
  {
   "cell_type": "markdown",
   "metadata": {},
   "source": [
    "\\begin{align*}\n",
    "3A_1+3B_1+3C_1-2A_2-2B_2-2C_2=0\n",
    "\\end{align*}\n",
    "\n",
    "\\begin{align*}\n",
    "1.5A_2+1.5B_2+1.5C_2-3A_3-3B_3-3C_3=0\n",
    "\\end{align*}\n",
    "\n",
    "\\begin{align*}\n",
    "1.5A_1+1.5B_1+1.5C_1-2A_3-2B_3-2C_3=0\n",
    "\\end{align*}"
   ]
  },
  {
   "cell_type": "code",
   "execution_count": 1,
   "metadata": {},
   "outputs": [],
   "source": [
    "import pulp as p"
   ]
  },
  {
   "cell_type": "code",
   "execution_count": 2,
   "metadata": {},
   "outputs": [],
   "source": [
    "# Creando el modelo de programación lineal\n",
    "prob = p.LpProblem('Problema', p.LpMaximize)"
   ]
  },
  {
   "cell_type": "code",
   "execution_count": 3,
   "metadata": {},
   "outputs": [],
   "source": [
    "# Creando las variables asigndas al problema\n",
    "A1=p.LpVariable(\"Artículos_A_en_Proa\",0)\n",
    "A2=p.LpVariable(\"Artículos_A_en_Centro\",0)\n",
    "A3=p.LpVariable(\"Artículos_A_en_Popa\",0)\n",
    "B1=p.LpVariable(\"Artículos_B_en_Proa\",0)\n",
    "B2=p.LpVariable(\"Artículos_B_en_Centro\",0)\n",
    "B3=p.LpVariable(\"Artículos_B_en_Popa\",0)\n",
    "C1=p.LpVariable(\"Artículos_C_en_Proa\",0)\n",
    "C2=p.LpVariable(\"Artículos_C_en_Centro\",0)\n",
    "C3=p.LpVariable(\"Artículos_C_en_Popa\",0)"
   ]
  },
  {
   "cell_type": "code",
   "execution_count": 4,
   "metadata": {},
   "outputs": [],
   "source": [
    "# Agregando la función objetivo al problema\n",
    "prob += (A1+A2+A3)*6 + (B1+B2+B3)*8 + (C1+C2+C3)*5"
   ]
  },
  {
   "cell_type": "code",
   "execution_count": 5,
   "metadata": {},
   "outputs": [],
   "source": [
    "# Agregando las restricciones al problema\n",
    "\n",
    "prob += 60*A1 + 50*B1 + 25*C1 <= 100000\n",
    "prob += 60*A2 + 50*B2 + 25*C2 <= 135000\n",
    "prob += 60*A3 + 50*B3 + 25*C3 <= 30000\n",
    "\n",
    "prob += A1 + B1 + C1 <= 2000\n",
    "prob += A2 + B2 + C2 <= 1500\n",
    "prob += A3 + B3 + C3 <= 3000\n",
    "\n",
    "prob += 3*A1 + 3*B1 + 3*C1 - 2*A2 - 2*B2 - 2*C2 ==0\n",
    "prob += 2*A3 + 2*B3 + 2*C3 - 1.5*A1 - 1.5*B1 - 1.5*C1 ==0\n",
    "prob += 1.5*A1 + 1.5*B1 + 1.5*C1 - 2*A3 - 2*B3- 2*C3 ==0"
   ]
  },
  {
   "cell_type": "code",
   "execution_count": 6,
   "metadata": {},
   "outputs": [
    {
     "name": "stdout",
     "output_type": "stream",
     "text": [
      "Problema:\n",
      "MAXIMIZE\n",
      "6*Artículos_A_en_Centro + 6*Artículos_A_en_Popa + 6*Artículos_A_en_Proa + 8*Artículos_B_en_Centro + 8*Artículos_B_en_Popa + 8*Artículos_B_en_Proa + 5*Artículos_C_en_Centro + 5*Artículos_C_en_Popa + 5*Artículos_C_en_Proa + 0\n",
      "SUBJECT TO\n",
      "_C1: 60 Artículos_A_en_Proa + 50 Artículos_B_en_Proa + 25 Artículos_C_en_Proa\n",
      " <= 100000\n",
      "\n",
      "_C2: 60 Artículos_A_en_Centro + 50 Artículos_B_en_Centro\n",
      " + 25 Artículos_C_en_Centro <= 135000\n",
      "\n",
      "_C3: 60 Artículos_A_en_Popa + 50 Artículos_B_en_Popa + 25 Artículos_C_en_Popa\n",
      " <= 30000\n",
      "\n",
      "_C4: Artículos_A_en_Proa + Artículos_B_en_Proa + Artículos_C_en_Proa <= 2000\n",
      "\n",
      "_C5: Artículos_A_en_Centro + Artículos_B_en_Centro + Artículos_C_en_Centro\n",
      " <= 1500\n",
      "\n",
      "_C6: Artículos_A_en_Popa + Artículos_B_en_Popa + Artículos_C_en_Popa <= 3000\n",
      "\n",
      "_C7: - 2 Artículos_A_en_Centro + 3 Artículos_A_en_Proa\n",
      " - 2 Artículos_B_en_Centro + 3 Artículos_B_en_Proa - 2 Artículos_C_en_Centro\n",
      " + 3 Artículos_C_en_Proa = 0\n",
      "\n",
      "_C8: 2 Artículos_A_en_Popa - 1.5 Artículos_A_en_Proa + 2 Artículos_B_en_Popa\n",
      " - 1.5 Artículos_B_en_Proa + 2 Artículos_C_en_Popa - 1.5 Artículos_C_en_Proa\n",
      " = 0\n",
      "\n",
      "_C9: - 2 Artículos_A_en_Popa + 1.5 Artículos_A_en_Proa - 2 Artículos_B_en_Popa\n",
      " + 1.5 Artículos_B_en_Proa - 2 Artículos_C_en_Popa + 1.5 Artículos_C_en_Proa\n",
      " = 0\n",
      "\n",
      "VARIABLES\n",
      "Artículos_A_en_Centro Continuous\n",
      "Artículos_A_en_Popa Continuous\n",
      "Artículos_A_en_Proa Continuous\n",
      "Artículos_B_en_Centro Continuous\n",
      "Artículos_B_en_Popa Continuous\n",
      "Artículos_B_en_Proa Continuous\n",
      "Artículos_C_en_Centro Continuous\n",
      "Artículos_C_en_Popa Continuous\n",
      "Artículos_C_en_Proa Continuous\n",
      "\n"
     ]
    }
   ],
   "source": [
    "print(prob) "
   ]
  },
  {
   "cell_type": "code",
   "execution_count": 7,
   "metadata": {},
   "outputs": [
    {
     "name": "stdout",
     "output_type": "stream",
     "text": [
      "Status: Optimal\n"
     ]
    }
   ],
   "source": [
    "prob.solve()\n",
    "print(\"Status:\", p.LpStatus[prob.status])"
   ]
  },
  {
   "cell_type": "code",
   "execution_count": 8,
   "metadata": {},
   "outputs": [
    {
     "name": "stdout",
     "output_type": "stream",
     "text": [
      "Artículos_A_en_Centro = 0.0\n",
      "Artículos_A_en_Popa = 0.0\n",
      "Artículos_A_en_Proa = 0.0\n",
      "Artículos_B_en_Centro = 1500.0\n",
      "Artículos_B_en_Popa = 450.0\n",
      "Artículos_B_en_Proa = 1000.0\n",
      "Artículos_C_en_Centro = 0.0\n",
      "Artículos_C_en_Popa = 300.0\n",
      "Artículos_C_en_Proa = 0.0\n"
     ]
    }
   ],
   "source": [
    "for v in prob.variables():\n",
    "    print(v.name, \"=\", v.varValue)"
   ]
  },
  {
   "cell_type": "code",
   "execution_count": 9,
   "metadata": {},
   "outputs": [],
   "source": [
    "objetivo=p.value(prob.objective)"
   ]
  },
  {
   "cell_type": "code",
   "execution_count": 10,
   "metadata": {},
   "outputs": [
    {
     "name": "stdout",
     "output_type": "stream",
     "text": [
      "Total utility from shipping =  25100.0 usd\n"
     ]
    }
   ],
   "source": [
    "print(\"Total utility from shipping = \", objetivo,\"usd\")"
   ]
  },
  {
   "cell_type": "code",
   "execution_count": null,
   "metadata": {},
   "outputs": [],
   "source": []
  }
 ],
 "metadata": {
  "kernelspec": {
   "display_name": "Python 3",
   "language": "python",
   "name": "python3"
  },
  "language_info": {
   "codemirror_mode": {
    "name": "ipython",
    "version": 3
   },
   "file_extension": ".py",
   "mimetype": "text/x-python",
   "name": "python",
   "nbconvert_exporter": "python",
   "pygments_lexer": "ipython3",
   "version": "3.7.3"
  }
 },
 "nbformat": 4,
 "nbformat_minor": 2
}
